{
 "cells": [
  {
   "cell_type": "code",
   "execution_count": 2,
   "metadata": {},
   "outputs": [
    {
     "name": "stdout",
     "output_type": "stream",
     "text": [
      "         Medals\n",
      "Country        \n",
      "USA        72.0\n",
      "France     53.0\n",
      "UK         27.0\n",
      "Russia     25.0\n",
      "Germany    20.0\n"
     ]
    }
   ],
   "source": [
    "import numpy as np \n",
    "import pandas as pd\n",
    "\n",
    "# Defining the three dataframes indicating the gold, silver, and bronze medal counts\n",
    "# of different countries\n",
    "gold = pd.DataFrame({'Country': ['USA', 'France', 'Russia'],\n",
    "                         'Medals': [15, 13, 9]}\n",
    "                    )\n",
    "silver = pd.DataFrame({'Country': ['USA', 'Germany', 'Russia'],\n",
    "                        'Medals': [29, 20, 16]}\n",
    "                    )\n",
    "bronze = pd.DataFrame({'Country': ['France', 'USA', 'UK'],\n",
    "                        'Medals': [40, 28, 27]}\n",
    "                    )\n",
    "\n",
    "gold.set_index('Country',inplace = True)\n",
    "silver.set_index('Country',inplace = True )\n",
    "bronze.set_index('Country',inplace = True)\n",
    "TotalGoldSilver = gold.add(silver,fill_value = 0)\n",
    "TotalMedals = TotalGoldSilver.add(bronze,fill_value= 0)\n",
    "print(TotalMedals.sort_values( by = 'Medals',ascending = False))"
   ]
  },
  {
   "cell_type": "code",
   "execution_count": 12,
   "metadata": {},
   "outputs": [
    {
     "name": "stdout",
     "output_type": "stream",
     "text": [
      "             DC                                                                \\\n",
      "          count        mean        std    min      25%    50%      75%    max   \n",
      "month day                                                                       \n",
      "apr   fri   1.0   85.300000        NaN   85.3   85.300   85.3   85.300   85.3   \n",
      "      mon   1.0   41.600000        NaN   41.6   41.600   41.6   41.600   41.6   \n",
      "      sat   1.0   97.100000        NaN   97.1   97.100   97.1   97.100   97.1   \n",
      "      sun   3.0   19.700000  10.219100    7.9   16.750   25.6   25.600   25.6   \n",
      "      thu   2.0   55.200000   0.000000   55.2   55.200   55.2   55.200   55.2   \n",
      "      wed   1.0   43.500000        NaN   43.5   43.500   43.5   43.500   43.5   \n",
      "aug   fri  21.0  665.200000  82.028081  529.8  586.700  665.3  752.600  811.2   \n",
      "      mon  15.0  632.046667  58.470198  495.6  608.200  638.8  672.600  730.6   \n",
      "      sat  29.0  652.062069  85.858748  480.8  594.200  624.2  715.100  819.1   \n",
      "      sun  40.0  616.082500  97.943856  100.7  601.400  622.1  664.775  723.1   \n",
      "      thu  26.0  659.057692  87.692222  466.6  589.525  661.3  732.950  803.3   \n",
      "      tue  28.0  639.992857  33.630937  550.3  614.500  647.1  661.450  680.9   \n",
      "      wed  25.0  636.000000  56.094036  503.6  609.600  654.1  666.700  690.0   \n",
      "dec   fri   1.0  352.600000        NaN  352.6  352.600  352.6  352.600  352.6   \n",
      "      mon   4.0  349.700000   0.000000  349.7  349.700  349.7  349.700  349.7   \n",
      "      sun   1.0  353.500000        NaN  353.5  353.500  353.5  353.500  353.5   \n",
      "      thu   1.0  352.000000        NaN  352.0  352.000  352.0  352.000  352.0   \n",
      "      tue   1.0  349.700000        NaN  349.7  349.700  349.7  349.700  349.7   \n",
      "      wed   1.0  354.600000        NaN  354.6  354.600  354.6  354.600  354.6   \n",
      "feb   fri   5.0   39.640000  13.962378   15.8   43.000   43.0   43.600   52.8   \n",
      "\n",
      "            DMC             ...     temp        wind                           \\\n",
      "          count        mean ...      75%   max count      mean       std  min   \n",
      "month day                   ...                                                 \n",
      "apr   fri   1.0   23.300000 ...   16.700  16.7   1.0  3.100000       NaN  3.1   \n",
      "      mon   1.0   24.900000 ...   10.900  10.9   1.0  3.100000       NaN  3.1   \n",
      "      sat   1.0   27.400000 ...    9.300   9.3   1.0  4.500000       NaN  4.5   \n",
      "      sun   3.0   10.733333 ...   15.650  17.6   3.0  5.666667  3.801754  1.8   \n",
      "      thu   2.0    9.100000 ...    5.800   5.8   2.0  5.800000  0.000000  5.8   \n",
      "      wed   1.0   17.200000 ...   15.200  15.2   1.0  2.700000       NaN  2.7   \n",
      "aug   fri  21.0  161.419048 ...   23.500  32.4  21.0  4.766667  1.996580  2.2   \n",
      "      mon  15.0  158.806667 ...   27.350  32.6  15.0  2.873333  1.053204  1.3   \n",
      "      sat  29.0  170.134483 ...   23.700  30.8  29.0  4.310345  1.708873  0.9   \n",
      "      sun  40.0  137.257500 ...   24.150  33.1  40.0  4.417500  1.670542  0.9   \n",
      "      thu  26.0  170.992308 ...   23.500  32.4  26.0  3.503846  1.177618  1.8   \n",
      "      tue  28.0  145.892857 ...   24.225  33.3  28.0  4.567857  1.485499  2.2   \n",
      "      wed  25.0  142.396000 ...   26.800  30.8  25.0  3.520000  1.494155  0.4   \n",
      "dec   fri   1.0   26.700000 ...    2.200   2.2   1.0  4.900000       NaN  4.9   \n",
      "      mon   4.0   25.400000 ...    4.600   4.6   4.0  8.500000  0.000000  8.5   \n",
      "      sun   1.0   27.200000 ...    4.800   4.8   1.0  8.500000       NaN  8.5   \n",
      "      thu   1.0   26.400000 ...    5.100   5.1   1.0  4.900000       NaN  4.9   \n",
      "      tue   1.0   25.400000 ...    5.100   5.1   1.0  8.500000       NaN  8.5   \n",
      "      wed   1.0   27.800000 ...    5.100   5.1   1.0  8.000000       NaN  8.0   \n",
      "feb   fri   5.0    8.360000 ...   14.700  15.7   5.0  4.820000  3.671103  0.9   \n",
      "\n",
      "                                  \n",
      "             25%  50%   75%  max  \n",
      "month day                         \n",
      "apr   fri  3.100  3.1  3.10  3.1  \n",
      "      mon  3.100  3.1  3.10  3.1  \n",
      "      sat  4.500  4.5  4.50  4.5  \n",
      "      sun  3.800  5.8  7.60  9.4  \n",
      "      thu  5.800  5.8  5.80  5.8  \n",
      "      wed  2.700  2.7  2.70  2.7  \n",
      "aug   fri  3.100  4.0  5.40  8.9  \n",
      "      mon  2.200  2.7  3.35  5.4  \n",
      "      sat  3.100  4.5  5.80  8.0  \n",
      "      sun  3.000  4.7  5.40  7.6  \n",
      "      thu  2.700  3.1  4.00  6.7  \n",
      "      tue  3.475  4.5  5.40  7.6  \n",
      "      wed  2.700  4.0  4.50  5.4  \n",
      "dec   fri  4.900  4.9  4.90  4.9  \n",
      "      mon  8.500  8.5  8.50  8.5  \n",
      "      sun  8.500  8.5  8.50  8.5  \n",
      "      thu  4.900  4.9  4.90  4.9  \n",
      "      tue  8.500  8.5  8.50  8.5  \n",
      "      wed  8.000  8.0  8.00  8.0  \n",
      "feb   fri  2.700  3.1  8.00  9.4  \n",
      "\n",
      "[20 rows x 88 columns]\n"
     ]
    }
   ],
   "source": [
    "import pandas as pd\n",
    "df = pd.read_csv('https://query.data.world/s/vBDCsoHCytUSLKkLvq851k2b8JOCkF')\n",
    "#Type your groupby command here\n",
    "df_monthDay = df.groupby(['month','day'])\n",
    "df_1 = pd.DataFrame(df_monthDay.describe())\n",
    "print(df_1.head(20))"
   ]
  },
  {
   "cell_type": "code",
   "execution_count": null,
   "metadata": {},
   "outputs": [],
   "source": []
  }
 ],
 "metadata": {
  "kernelspec": {
   "display_name": "Python 3",
   "language": "python",
   "name": "python3"
  },
  "language_info": {
   "codemirror_mode": {
    "name": "ipython",
    "version": 3
   },
   "file_extension": ".py",
   "mimetype": "text/x-python",
   "name": "python",
   "nbconvert_exporter": "python",
   "pygments_lexer": "ipython3",
   "version": "3.6.5"
  }
 },
 "nbformat": 4,
 "nbformat_minor": 2
}
