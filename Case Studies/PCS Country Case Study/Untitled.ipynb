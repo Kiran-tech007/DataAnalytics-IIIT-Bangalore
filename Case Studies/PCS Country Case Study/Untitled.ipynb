{
 "cells": [
  {
   "cell_type": "code",
   "execution_count": 184,
   "metadata": {},
   "outputs": [],
   "source": [
    "# Importing Pandas and NumPy\n",
    "import pandas as pd\n",
    "import numpy as np\n",
    "import matplotlib.pyplot as plt\n",
    "import seaborn as sns"
   ]
  },
  {
   "cell_type": "code",
   "execution_count": 185,
   "metadata": {},
   "outputs": [],
   "source": [
    "#Importing all datasets\n",
    "country_data = pd.read_csv(\"Country-data.csv\")"
   ]
  },
  {
   "cell_type": "code",
   "execution_count": 186,
   "metadata": {},
   "outputs": [
    {
     "data": {
      "text/html": [
       "<div>\n",
       "<style scoped>\n",
       "    .dataframe tbody tr th:only-of-type {\n",
       "        vertical-align: middle;\n",
       "    }\n",
       "\n",
       "    .dataframe tbody tr th {\n",
       "        vertical-align: top;\n",
       "    }\n",
       "\n",
       "    .dataframe thead th {\n",
       "        text-align: right;\n",
       "    }\n",
       "</style>\n",
       "<table border=\"1\" class=\"dataframe\">\n",
       "  <thead>\n",
       "    <tr style=\"text-align: right;\">\n",
       "      <th></th>\n",
       "      <th>country</th>\n",
       "      <th>child_mort</th>\n",
       "      <th>exports</th>\n",
       "      <th>health</th>\n",
       "      <th>imports</th>\n",
       "      <th>income</th>\n",
       "      <th>inflation</th>\n",
       "      <th>life_expec</th>\n",
       "      <th>total_fer</th>\n",
       "      <th>gdpp</th>\n",
       "    </tr>\n",
       "  </thead>\n",
       "  <tbody>\n",
       "    <tr>\n",
       "      <th>0</th>\n",
       "      <td>Afghanistan</td>\n",
       "      <td>90.2</td>\n",
       "      <td>10.0</td>\n",
       "      <td>7.58</td>\n",
       "      <td>44.9</td>\n",
       "      <td>1610</td>\n",
       "      <td>9.44</td>\n",
       "      <td>56.2</td>\n",
       "      <td>5.82</td>\n",
       "      <td>553</td>\n",
       "    </tr>\n",
       "    <tr>\n",
       "      <th>1</th>\n",
       "      <td>Albania</td>\n",
       "      <td>16.6</td>\n",
       "      <td>28.0</td>\n",
       "      <td>6.55</td>\n",
       "      <td>48.6</td>\n",
       "      <td>9930</td>\n",
       "      <td>4.49</td>\n",
       "      <td>76.3</td>\n",
       "      <td>1.65</td>\n",
       "      <td>4090</td>\n",
       "    </tr>\n",
       "    <tr>\n",
       "      <th>2</th>\n",
       "      <td>Algeria</td>\n",
       "      <td>27.3</td>\n",
       "      <td>38.4</td>\n",
       "      <td>4.17</td>\n",
       "      <td>31.4</td>\n",
       "      <td>12900</td>\n",
       "      <td>16.10</td>\n",
       "      <td>76.5</td>\n",
       "      <td>2.89</td>\n",
       "      <td>4460</td>\n",
       "    </tr>\n",
       "    <tr>\n",
       "      <th>3</th>\n",
       "      <td>Angola</td>\n",
       "      <td>119.0</td>\n",
       "      <td>62.3</td>\n",
       "      <td>2.85</td>\n",
       "      <td>42.9</td>\n",
       "      <td>5900</td>\n",
       "      <td>22.40</td>\n",
       "      <td>60.1</td>\n",
       "      <td>6.16</td>\n",
       "      <td>3530</td>\n",
       "    </tr>\n",
       "    <tr>\n",
       "      <th>4</th>\n",
       "      <td>Antigua and Barbuda</td>\n",
       "      <td>10.3</td>\n",
       "      <td>45.5</td>\n",
       "      <td>6.03</td>\n",
       "      <td>58.9</td>\n",
       "      <td>19100</td>\n",
       "      <td>1.44</td>\n",
       "      <td>76.8</td>\n",
       "      <td>2.13</td>\n",
       "      <td>12200</td>\n",
       "    </tr>\n",
       "  </tbody>\n",
       "</table>\n",
       "</div>"
      ],
      "text/plain": [
       "               country  child_mort  exports  health  imports  income  \\\n",
       "0          Afghanistan        90.2     10.0    7.58     44.9    1610   \n",
       "1              Albania        16.6     28.0    6.55     48.6    9930   \n",
       "2              Algeria        27.3     38.4    4.17     31.4   12900   \n",
       "3               Angola       119.0     62.3    2.85     42.9    5900   \n",
       "4  Antigua and Barbuda        10.3     45.5    6.03     58.9   19100   \n",
       "\n",
       "   inflation  life_expec  total_fer   gdpp  \n",
       "0       9.44        56.2       5.82    553  \n",
       "1       4.49        76.3       1.65   4090  \n",
       "2      16.10        76.5       2.89   4460  \n",
       "3      22.40        60.1       6.16   3530  \n",
       "4       1.44        76.8       2.13  12200  "
      ]
     },
     "execution_count": 186,
     "metadata": {},
     "output_type": "execute_result"
    }
   ],
   "source": [
    "#Innspecting country_data\n",
    "country_data.head()"
   ]
  },
  {
   "cell_type": "code",
   "execution_count": 187,
   "metadata": {},
   "outputs": [
    {
     "data": {
      "text/html": [
       "<div>\n",
       "<style scoped>\n",
       "    .dataframe tbody tr th:only-of-type {\n",
       "        vertical-align: middle;\n",
       "    }\n",
       "\n",
       "    .dataframe tbody tr th {\n",
       "        vertical-align: top;\n",
       "    }\n",
       "\n",
       "    .dataframe thead th {\n",
       "        text-align: right;\n",
       "    }\n",
       "</style>\n",
       "<table border=\"1\" class=\"dataframe\">\n",
       "  <thead>\n",
       "    <tr style=\"text-align: right;\">\n",
       "      <th></th>\n",
       "      <th>child_mort</th>\n",
       "      <th>exports</th>\n",
       "      <th>health</th>\n",
       "      <th>imports</th>\n",
       "      <th>income</th>\n",
       "      <th>inflation</th>\n",
       "      <th>life_expec</th>\n",
       "      <th>total_fer</th>\n",
       "      <th>gdpp</th>\n",
       "    </tr>\n",
       "  </thead>\n",
       "  <tbody>\n",
       "    <tr>\n",
       "      <th>count</th>\n",
       "      <td>167.000000</td>\n",
       "      <td>167.000000</td>\n",
       "      <td>167.000000</td>\n",
       "      <td>167.000000</td>\n",
       "      <td>167.000000</td>\n",
       "      <td>167.000000</td>\n",
       "      <td>167.000000</td>\n",
       "      <td>167.000000</td>\n",
       "      <td>167.000000</td>\n",
       "    </tr>\n",
       "    <tr>\n",
       "      <th>mean</th>\n",
       "      <td>38.270060</td>\n",
       "      <td>41.108976</td>\n",
       "      <td>6.815689</td>\n",
       "      <td>46.890215</td>\n",
       "      <td>17144.688623</td>\n",
       "      <td>7.781832</td>\n",
       "      <td>70.555689</td>\n",
       "      <td>2.947964</td>\n",
       "      <td>12964.155689</td>\n",
       "    </tr>\n",
       "    <tr>\n",
       "      <th>std</th>\n",
       "      <td>40.328931</td>\n",
       "      <td>27.412010</td>\n",
       "      <td>2.746837</td>\n",
       "      <td>24.209589</td>\n",
       "      <td>19278.067698</td>\n",
       "      <td>10.570704</td>\n",
       "      <td>8.893172</td>\n",
       "      <td>1.513848</td>\n",
       "      <td>18328.704809</td>\n",
       "    </tr>\n",
       "    <tr>\n",
       "      <th>min</th>\n",
       "      <td>2.600000</td>\n",
       "      <td>0.109000</td>\n",
       "      <td>1.810000</td>\n",
       "      <td>0.065900</td>\n",
       "      <td>609.000000</td>\n",
       "      <td>-4.210000</td>\n",
       "      <td>32.100000</td>\n",
       "      <td>1.150000</td>\n",
       "      <td>231.000000</td>\n",
       "    </tr>\n",
       "    <tr>\n",
       "      <th>25%</th>\n",
       "      <td>8.250000</td>\n",
       "      <td>23.800000</td>\n",
       "      <td>4.920000</td>\n",
       "      <td>30.200000</td>\n",
       "      <td>3355.000000</td>\n",
       "      <td>1.810000</td>\n",
       "      <td>65.300000</td>\n",
       "      <td>1.795000</td>\n",
       "      <td>1330.000000</td>\n",
       "    </tr>\n",
       "    <tr>\n",
       "      <th>50%</th>\n",
       "      <td>19.300000</td>\n",
       "      <td>35.000000</td>\n",
       "      <td>6.320000</td>\n",
       "      <td>43.300000</td>\n",
       "      <td>9960.000000</td>\n",
       "      <td>5.390000</td>\n",
       "      <td>73.100000</td>\n",
       "      <td>2.410000</td>\n",
       "      <td>4660.000000</td>\n",
       "    </tr>\n",
       "    <tr>\n",
       "      <th>75%</th>\n",
       "      <td>62.100000</td>\n",
       "      <td>51.350000</td>\n",
       "      <td>8.600000</td>\n",
       "      <td>58.750000</td>\n",
       "      <td>22800.000000</td>\n",
       "      <td>10.750000</td>\n",
       "      <td>76.800000</td>\n",
       "      <td>3.880000</td>\n",
       "      <td>14050.000000</td>\n",
       "    </tr>\n",
       "    <tr>\n",
       "      <th>max</th>\n",
       "      <td>208.000000</td>\n",
       "      <td>200.000000</td>\n",
       "      <td>17.900000</td>\n",
       "      <td>174.000000</td>\n",
       "      <td>125000.000000</td>\n",
       "      <td>104.000000</td>\n",
       "      <td>82.800000</td>\n",
       "      <td>7.490000</td>\n",
       "      <td>105000.000000</td>\n",
       "    </tr>\n",
       "  </tbody>\n",
       "</table>\n",
       "</div>"
      ],
      "text/plain": [
       "       child_mort     exports      health     imports         income  \\\n",
       "count  167.000000  167.000000  167.000000  167.000000     167.000000   \n",
       "mean    38.270060   41.108976    6.815689   46.890215   17144.688623   \n",
       "std     40.328931   27.412010    2.746837   24.209589   19278.067698   \n",
       "min      2.600000    0.109000    1.810000    0.065900     609.000000   \n",
       "25%      8.250000   23.800000    4.920000   30.200000    3355.000000   \n",
       "50%     19.300000   35.000000    6.320000   43.300000    9960.000000   \n",
       "75%     62.100000   51.350000    8.600000   58.750000   22800.000000   \n",
       "max    208.000000  200.000000   17.900000  174.000000  125000.000000   \n",
       "\n",
       "        inflation  life_expec   total_fer           gdpp  \n",
       "count  167.000000  167.000000  167.000000     167.000000  \n",
       "mean     7.781832   70.555689    2.947964   12964.155689  \n",
       "std     10.570704    8.893172    1.513848   18328.704809  \n",
       "min     -4.210000   32.100000    1.150000     231.000000  \n",
       "25%      1.810000   65.300000    1.795000    1330.000000  \n",
       "50%      5.390000   73.100000    2.410000    4660.000000  \n",
       "75%     10.750000   76.800000    3.880000   14050.000000  \n",
       "max    104.000000   82.800000    7.490000  105000.000000  "
      ]
     },
     "execution_count": 187,
     "metadata": {},
     "output_type": "execute_result"
    }
   ],
   "source": [
    "country_data.describe()"
   ]
  },
  {
   "cell_type": "code",
   "execution_count": 188,
   "metadata": {},
   "outputs": [
    {
     "name": "stdout",
     "output_type": "stream",
     "text": [
      "<class 'pandas.core.frame.DataFrame'>\n",
      "RangeIndex: 167 entries, 0 to 166\n",
      "Data columns (total 10 columns):\n",
      "country       167 non-null object\n",
      "child_mort    167 non-null float64\n",
      "exports       167 non-null float64\n",
      "health        167 non-null float64\n",
      "imports       167 non-null float64\n",
      "income        167 non-null int64\n",
      "inflation     167 non-null float64\n",
      "life_expec    167 non-null float64\n",
      "total_fer     167 non-null float64\n",
      "gdpp          167 non-null int64\n",
      "dtypes: float64(7), int64(2), object(1)\n",
      "memory usage: 13.1+ KB\n"
     ]
    }
   ],
   "source": [
    "#Dummy variable creation is not required here as no categorical variable is present with 2 or more levels.\n",
    "#Inspecting all column types\n",
    "country_data.info()\n",
    "\n",
    "#We can see that all float objects except country name."
   ]
  },
  {
   "cell_type": "code",
   "execution_count": 189,
   "metadata": {},
   "outputs": [
    {
     "data": {
      "text/plain": [
       "country       0.0\n",
       "child_mort    0.0\n",
       "exports       0.0\n",
       "health        0.0\n",
       "imports       0.0\n",
       "income        0.0\n",
       "inflation     0.0\n",
       "life_expec    0.0\n",
       "total_fer     0.0\n",
       "gdpp          0.0\n",
       "dtype: float64"
      ]
     },
     "execution_count": 189,
     "metadata": {},
     "output_type": "execute_result"
    }
   ],
   "source": [
    "#Interpreting missing values column and row wise\n",
    "round(100*(country_data.isnull().sum()/len(country_data.index)), 2)\n",
    "\n",
    "#No missing values are present in the dataset we can proceed further with the exact information given\n",
    "#No duplicate rows found"
   ]
  },
  {
   "cell_type": "code",
   "execution_count": 190,
   "metadata": {},
   "outputs": [],
   "source": [
    "#Standardizing dataset\n",
    "\n",
    "#Dropping country column for standardizing the data frame\n",
    "country_data1 = country_data.drop(\"country\",axis =1)\n"
   ]
  },
  {
   "cell_type": "code",
   "execution_count": 191,
   "metadata": {},
   "outputs": [],
   "source": [
    "from sklearn.preprocessing import StandardScaler\n",
    "standard_scaler = StandardScaler()\n",
    "country_std_data = standard_scaler.fit_transform(country_data1)"
   ]
  },
  {
   "cell_type": "code",
   "execution_count": 192,
   "metadata": {},
   "outputs": [],
   "source": [
    "country_std_data = pd.DataFrame(country_std_data)"
   ]
  },
  {
   "cell_type": "code",
   "execution_count": 193,
   "metadata": {},
   "outputs": [
    {
     "data": {
      "text/html": [
       "<div>\n",
       "<style scoped>\n",
       "    .dataframe tbody tr th:only-of-type {\n",
       "        vertical-align: middle;\n",
       "    }\n",
       "\n",
       "    .dataframe tbody tr th {\n",
       "        vertical-align: top;\n",
       "    }\n",
       "\n",
       "    .dataframe thead th {\n",
       "        text-align: right;\n",
       "    }\n",
       "</style>\n",
       "<table border=\"1\" class=\"dataframe\">\n",
       "  <thead>\n",
       "    <tr style=\"text-align: right;\">\n",
       "      <th></th>\n",
       "      <th>0</th>\n",
       "      <th>1</th>\n",
       "      <th>2</th>\n",
       "      <th>3</th>\n",
       "      <th>4</th>\n",
       "      <th>5</th>\n",
       "      <th>6</th>\n",
       "      <th>7</th>\n",
       "      <th>8</th>\n",
       "    </tr>\n",
       "  </thead>\n",
       "  <tbody>\n",
       "    <tr>\n",
       "      <th>0</th>\n",
       "      <td>1.291532</td>\n",
       "      <td>-1.138280</td>\n",
       "      <td>0.279088</td>\n",
       "      <td>-0.082455</td>\n",
       "      <td>-0.808245</td>\n",
       "      <td>0.157336</td>\n",
       "      <td>-1.619092</td>\n",
       "      <td>1.902882</td>\n",
       "      <td>-0.679180</td>\n",
       "    </tr>\n",
       "    <tr>\n",
       "      <th>1</th>\n",
       "      <td>-0.538949</td>\n",
       "      <td>-0.479658</td>\n",
       "      <td>-0.097016</td>\n",
       "      <td>0.070837</td>\n",
       "      <td>-0.375369</td>\n",
       "      <td>-0.312347</td>\n",
       "      <td>0.647866</td>\n",
       "      <td>-0.859973</td>\n",
       "      <td>-0.485623</td>\n",
       "    </tr>\n",
       "    <tr>\n",
       "      <th>2</th>\n",
       "      <td>-0.272833</td>\n",
       "      <td>-0.099122</td>\n",
       "      <td>-0.966073</td>\n",
       "      <td>-0.641762</td>\n",
       "      <td>-0.220844</td>\n",
       "      <td>0.789274</td>\n",
       "      <td>0.670423</td>\n",
       "      <td>-0.038404</td>\n",
       "      <td>-0.465376</td>\n",
       "    </tr>\n",
       "    <tr>\n",
       "      <th>3</th>\n",
       "      <td>2.007808</td>\n",
       "      <td>0.775381</td>\n",
       "      <td>-1.448071</td>\n",
       "      <td>-0.165315</td>\n",
       "      <td>-0.585043</td>\n",
       "      <td>1.387054</td>\n",
       "      <td>-1.179234</td>\n",
       "      <td>2.128151</td>\n",
       "      <td>-0.516268</td>\n",
       "    </tr>\n",
       "    <tr>\n",
       "      <th>4</th>\n",
       "      <td>-0.695634</td>\n",
       "      <td>0.160668</td>\n",
       "      <td>-0.286894</td>\n",
       "      <td>0.497568</td>\n",
       "      <td>0.101732</td>\n",
       "      <td>-0.601749</td>\n",
       "      <td>0.704258</td>\n",
       "      <td>-0.541946</td>\n",
       "      <td>-0.041817</td>\n",
       "    </tr>\n",
       "  </tbody>\n",
       "</table>\n",
       "</div>"
      ],
      "text/plain": [
       "          0         1         2         3         4         5         6  \\\n",
       "0  1.291532 -1.138280  0.279088 -0.082455 -0.808245  0.157336 -1.619092   \n",
       "1 -0.538949 -0.479658 -0.097016  0.070837 -0.375369 -0.312347  0.647866   \n",
       "2 -0.272833 -0.099122 -0.966073 -0.641762 -0.220844  0.789274  0.670423   \n",
       "3  2.007808  0.775381 -1.448071 -0.165315 -0.585043  1.387054 -1.179234   \n",
       "4 -0.695634  0.160668 -0.286894  0.497568  0.101732 -0.601749  0.704258   \n",
       "\n",
       "          7         8  \n",
       "0  1.902882 -0.679180  \n",
       "1 -0.859973 -0.485623  \n",
       "2 -0.038404 -0.465376  \n",
       "3  2.128151 -0.516268  \n",
       "4 -0.541946 -0.041817  "
      ]
     },
     "execution_count": 193,
     "metadata": {},
     "output_type": "execute_result"
    }
   ],
   "source": [
    "#Inspecting standardized data\n",
    "country_std_data.head()"
   ]
  },
  {
   "cell_type": "code",
   "execution_count": 197,
   "metadata": {},
   "outputs": [],
   "source": [
    "#Doing PCA on standardized data\n",
    "#Improting the PCA module\n",
    "from sklearn.decomposition import PCA\n",
    "pca = PCA(svd_solver='randomized', random_state=100)"
   ]
  },
  {
   "cell_type": "code",
   "execution_count": 198,
   "metadata": {},
   "outputs": [
    {
     "data": {
      "text/plain": [
       "PCA(copy=True, iterated_power='auto', n_components=None, random_state=100,\n",
       "  svd_solver='randomized', tol=0.0, whiten=False)"
      ]
     },
     "execution_count": 198,
     "metadata": {},
     "output_type": "execute_result"
    }
   ],
   "source": [
    "#Doing the PCA on the country_std_data\n",
    "pca.fit(country_std_data)"
   ]
  },
  {
   "cell_type": "code",
   "execution_count": 199,
   "metadata": {},
   "outputs": [
    {
     "data": {
      "text/plain": [
       "array([[-0.41951945,  0.28389698,  0.15083782,  0.16148244,  0.39844111,\n",
       "        -0.19317293,  0.42583938, -0.40372896,  0.39264482],\n",
       "       [ 0.19288394,  0.61316349, -0.24308678,  0.67182064,  0.02253553,\n",
       "        -0.00840447, -0.22270674,  0.15523311, -0.0460224 ],\n",
       "       [-0.02954353,  0.14476069, -0.59663237, -0.29992674,  0.3015475 ,\n",
       "         0.64251951,  0.11391854,  0.01954925,  0.12297749],\n",
       "       [ 0.37065326,  0.00309102,  0.4618975 , -0.07190746,  0.39215904,\n",
       "         0.15044176, -0.20379723,  0.37830365,  0.53199457],\n",
       "       [-0.16896968,  0.05761584,  0.51800037,  0.25537642, -0.2471496 ,\n",
       "         0.7148691 ,  0.1082198 , -0.13526221, -0.18016662],\n",
       "       [ 0.20062815, -0.05933283,  0.00727646, -0.03003154,  0.16034699,\n",
       "         0.06628537, -0.60112652, -0.75068875,  0.01677876],\n",
       "       [-0.07948854, -0.70730269, -0.24983051,  0.59218953,  0.09556237,\n",
       "         0.10463252,  0.01848639,  0.02882643,  0.24299776],\n",
       "       [-0.68274306, -0.01419742,  0.07249683, -0.02894642,  0.35262369,\n",
       "        -0.01153775, -0.50466425,  0.29335267, -0.24969636],\n",
       "       [ 0.3275418 , -0.12308207,  0.11308797,  0.09903717,  0.61298247,\n",
       "        -0.02523614,  0.29403981, -0.02633585, -0.62564572]])"
      ]
     },
     "execution_count": 199,
     "metadata": {},
     "output_type": "execute_result"
    }
   ],
   "source": [
    "#Plotting principal components\n",
    "pca.components_"
   ]
  },
  {
   "cell_type": "code",
   "execution_count": 200,
   "metadata": {},
   "outputs": [
    {
     "data": {
      "text/html": [
       "<div>\n",
       "<style scoped>\n",
       "    .dataframe tbody tr th:only-of-type {\n",
       "        vertical-align: middle;\n",
       "    }\n",
       "\n",
       "    .dataframe tbody tr th {\n",
       "        vertical-align: top;\n",
       "    }\n",
       "\n",
       "    .dataframe thead th {\n",
       "        text-align: right;\n",
       "    }\n",
       "</style>\n",
       "<table border=\"1\" class=\"dataframe\">\n",
       "  <thead>\n",
       "    <tr style=\"text-align: right;\">\n",
       "      <th></th>\n",
       "      <th>PC1</th>\n",
       "      <th>PC2</th>\n",
       "      <th>Feature</th>\n",
       "    </tr>\n",
       "  </thead>\n",
       "  <tbody>\n",
       "    <tr>\n",
       "      <th>0</th>\n",
       "      <td>-0.419519</td>\n",
       "      <td>0.192884</td>\n",
       "      <td>child_mort</td>\n",
       "    </tr>\n",
       "    <tr>\n",
       "      <th>1</th>\n",
       "      <td>0.283897</td>\n",
       "      <td>0.613163</td>\n",
       "      <td>exports</td>\n",
       "    </tr>\n",
       "    <tr>\n",
       "      <th>2</th>\n",
       "      <td>0.150838</td>\n",
       "      <td>-0.243087</td>\n",
       "      <td>health</td>\n",
       "    </tr>\n",
       "    <tr>\n",
       "      <th>3</th>\n",
       "      <td>0.161482</td>\n",
       "      <td>0.671821</td>\n",
       "      <td>imports</td>\n",
       "    </tr>\n",
       "    <tr>\n",
       "      <th>4</th>\n",
       "      <td>0.398441</td>\n",
       "      <td>0.022536</td>\n",
       "      <td>income</td>\n",
       "    </tr>\n",
       "    <tr>\n",
       "      <th>5</th>\n",
       "      <td>-0.193173</td>\n",
       "      <td>-0.008404</td>\n",
       "      <td>inflation</td>\n",
       "    </tr>\n",
       "    <tr>\n",
       "      <th>6</th>\n",
       "      <td>0.425839</td>\n",
       "      <td>-0.222707</td>\n",
       "      <td>life_expec</td>\n",
       "    </tr>\n",
       "    <tr>\n",
       "      <th>7</th>\n",
       "      <td>-0.403729</td>\n",
       "      <td>0.155233</td>\n",
       "      <td>total_fer</td>\n",
       "    </tr>\n",
       "    <tr>\n",
       "      <th>8</th>\n",
       "      <td>0.392645</td>\n",
       "      <td>-0.046022</td>\n",
       "      <td>gdpp</td>\n",
       "    </tr>\n",
       "  </tbody>\n",
       "</table>\n",
       "</div>"
      ],
      "text/plain": [
       "        PC1       PC2     Feature\n",
       "0 -0.419519  0.192884  child_mort\n",
       "1  0.283897  0.613163     exports\n",
       "2  0.150838 -0.243087      health\n",
       "3  0.161482  0.671821     imports\n",
       "4  0.398441  0.022536      income\n",
       "5 -0.193173 -0.008404   inflation\n",
       "6  0.425839 -0.222707  life_expec\n",
       "7 -0.403729  0.155233   total_fer\n",
       "8  0.392645 -0.046022        gdpp"
      ]
     },
     "execution_count": 200,
     "metadata": {},
     "output_type": "execute_result"
    }
   ],
   "source": [
    "colnames = list(country_data1.columns)\n",
    "pcs_df = pd.DataFrame({'PC1':pca.components_[0],'PC2':pca.components_[1], 'Feature':colnames})\n",
    "pcs_df"
   ]
  },
  {
   "cell_type": "code",
   "execution_count": 201,
   "metadata": {},
   "outputs": [
    {
     "data": {
      "image/png": "[encoded data removed]",
      "text/plain": [
       "<Figure size 576x576 with 1 Axes>"
      ]
     },
     "metadata": {},
     "output_type": "display_data"
    }
   ],
   "source": [
    "#plotting PC1 and PC2 against each other to see the correlation with original variables\n",
    "%matplotlib inline\n",
    "fig = plt.figure(figsize = (8,8))\n",
    "plt.scatter(pcs_df.PC1, pcs_df.PC2)\n",
    "plt.xlabel('Principal Component 1')\n",
    "plt.ylabel('Principal Component 2')\n",
    "for i, txt in enumerate(pcs_df.Feature):\n",
    "    plt.annotate(txt, (pcs_df.PC1[i],pcs_df.PC2[i]))\n",
    "plt.tight_layout()\n",
    "plt.show()"
   ]
  },
  {
   "cell_type": "code",
   "execution_count": 202,
   "metadata": {},
   "outputs": [
    {
     "data": {
      "text/plain": [
       "array([0.4595174 , 0.17181626, 0.13004259, 0.11053162, 0.07340211,\n",
       "       0.02484235, 0.0126043 , 0.00981282, 0.00743056])"
      ]
     },
     "execution_count": 202,
     "metadata": {},
     "output_type": "execute_result"
    }
   ],
   "source": [
    "#Inspecting % percentage variance of data with principal components\n",
    "pca.explained_variance_ratio_"
   ]
  },
  {
   "cell_type": "code",
   "execution_count": 203,
   "metadata": {},
   "outputs": [
    {
     "data": {
      "image/png": "[encoded data removed]",
      "text/plain": [
       "<Figure size 864x576 with 1 Axes>"
      ]
     },
     "metadata": {},
     "output_type": "display_data"
    }
   ],
   "source": [
    "#Plotting scree plot to determine actual no of principal components required\n",
    "%matplotlib inline\n",
    "fig = plt.figure(figsize = (12,8))\n",
    "plt.plot(np.cumsum(pca.explained_variance_ratio_))\n",
    "plt.xlabel('number of components')\n",
    "plt.ylabel('cumulative explained variance')\n",
    "plt.show()\n",
    "\n",
    "#From below plot we can clearly predict the relation between variance of data and no of principal components chosen.\n",
    "#For e.g PC1 and PC2 gives aorund 60% variance\n",
    "#For e.g. PC1 to PC5 gives around 95% of variance\n",
    "#After PC4 the variance graph becomes pretty stable and flat.\n",
    "#Hence we can go with 5 principal components"
   ]
  },
  {
   "cell_type": "code",
   "execution_count": 204,
   "metadata": {},
   "outputs": [],
   "source": [
    "#Using incremental PCA for efficiency\n",
    "from sklearn.decomposition import IncrementalPCA\n",
    "pca_final = IncrementalPCA(n_components=5)"
   ]
  },
  {
   "cell_type": "code",
   "execution_count": 205,
   "metadata": {},
   "outputs": [
    {
     "data": {
      "text/plain": [
       "(167, 5)"
      ]
     },
     "execution_count": 205,
     "metadata": {},
     "output_type": "execute_result"
    }
   ],
   "source": [
    "#Performing basis transformation on principal components determined above\n",
    "df_pca = pca_final.fit_transform(country_std_data)\n",
    "df_pca.shape"
   ]
  },
  {
   "cell_type": "code",
   "execution_count": 206,
   "metadata": {},
   "outputs": [],
   "source": [
    "#creating correlation matrix for the principal components\n",
    "corrmat = np.corrcoef(df_pca.transpose())"
   ]
  },
  {
   "cell_type": "code",
   "execution_count": 207,
   "metadata": {},
   "outputs": [
    {
     "data": {
      "text/plain": [
       "<matplotlib.axes._subplots.AxesSubplot at 0x262bd8624a8>"
      ]
     },
     "execution_count": 207,
     "metadata": {},
     "output_type": "execute_result"
    },
    {
     "data": {
      "image/png": "[encoded data removed]",
      "text/plain": [
       "<Figure size 1440x720 with 2 Axes>"
      ]
     },
     "metadata": {},
     "output_type": "display_data"
    }
   ],
   "source": [
    "#plotting the correlation matrix\n",
    "%matplotlib inline\n",
    "plt.figure(figsize = (20,10))\n",
    "sns.heatmap(corrmat,annot = True)\n",
    "#From below correlatin matrix we can identify that their is absolutely negiligible correlation between all PC1 to PC5 principal components\n"
   ]
  },
  {
   "cell_type": "code",
   "execution_count": 208,
   "metadata": {},
   "outputs": [
    {
     "name": "stdout",
     "output_type": "stream",
     "text": [
      "maximum corr: 0.007194543060491425 , minimum corr:  -0.002374704497495838\n"
     ]
    }
   ],
   "source": [
    "#identify minimum and maximum correlation\n",
    "# 1s -> 0s in diagonals\n",
    "corrmat_nodiag = corrmat - np.diagflat(corrmat.diagonal())\n",
    "print(\"maximum corr:\",corrmat_nodiag.max(), \", minimum corr: \", corrmat_nodiag.min(),)\n",
    "# we see that correlations are equivalent to 0"
   ]
  },
  {
   "cell_type": "code",
   "execution_count": 209,
   "metadata": {},
   "outputs": [],
   "source": [
    "#Concatening country column back to pca data set\n",
    "country_data_pca = pd.concat([pd.DataFrame(df_pca),country_data['country']],axis=1)"
   ]
  },
  {
   "cell_type": "code",
   "execution_count": 210,
   "metadata": {},
   "outputs": [],
   "source": [
    "#Renaming principal components\n",
    "country_data_pca = pd.DataFrame({'PC1':country_data_pca[0],'PC2':country_data_pca[1], 'PC3':country_data_pca[2],'PC4':country_data_pca[3],'PC5':country_data_pca[4],'country':country_data_pca['country']})"
   ]
  },
  {
   "cell_type": "code",
   "execution_count": 211,
   "metadata": {},
   "outputs": [
    {
     "data": {
      "text/html": [
       "<div>\n",
       "<style scoped>\n",
       "    .dataframe tbody tr th:only-of-type {\n",
       "        vertical-align: middle;\n",
       "    }\n",
       "\n",
       "    .dataframe tbody tr th {\n",
       "        vertical-align: top;\n",
       "    }\n",
       "\n",
       "    .dataframe thead th {\n",
       "        text-align: right;\n",
       "    }\n",
       "</style>\n",
       "<table border=\"1\" class=\"dataframe\">\n",
       "  <thead>\n",
       "    <tr style=\"text-align: right;\">\n",
       "      <th></th>\n",
       "      <th>PC1</th>\n",
       "      <th>PC2</th>\n",
       "      <th>PC3</th>\n",
       "      <th>PC4</th>\n",
       "      <th>PC5</th>\n",
       "      <th>country</th>\n",
       "    </tr>\n",
       "  </thead>\n",
       "  <tbody>\n",
       "    <tr>\n",
       "      <th>0</th>\n",
       "      <td>-2.913000</td>\n",
       "      <td>0.091969</td>\n",
       "      <td>-0.721242</td>\n",
       "      <td>1.001838</td>\n",
       "      <td>-0.146765</td>\n",
       "      <td>Afghanistan</td>\n",
       "    </tr>\n",
       "    <tr>\n",
       "      <th>1</th>\n",
       "      <td>0.429870</td>\n",
       "      <td>-0.589373</td>\n",
       "      <td>-0.328611</td>\n",
       "      <td>-1.165014</td>\n",
       "      <td>0.153205</td>\n",
       "      <td>Albania</td>\n",
       "    </tr>\n",
       "    <tr>\n",
       "      <th>2</th>\n",
       "      <td>-0.285289</td>\n",
       "      <td>-0.452139</td>\n",
       "      <td>1.232051</td>\n",
       "      <td>-0.857767</td>\n",
       "      <td>0.191227</td>\n",
       "      <td>Algeria</td>\n",
       "    </tr>\n",
       "    <tr>\n",
       "      <th>3</th>\n",
       "      <td>-2.932714</td>\n",
       "      <td>1.698771</td>\n",
       "      <td>1.525076</td>\n",
       "      <td>0.855595</td>\n",
       "      <td>-0.214778</td>\n",
       "      <td>Angola</td>\n",
       "    </tr>\n",
       "    <tr>\n",
       "      <th>4</th>\n",
       "      <td>1.033371</td>\n",
       "      <td>0.133853</td>\n",
       "      <td>-0.216699</td>\n",
       "      <td>-0.846638</td>\n",
       "      <td>-0.193186</td>\n",
       "      <td>Antigua and Barbuda</td>\n",
       "    </tr>\n",
       "  </tbody>\n",
       "</table>\n",
       "</div>"
      ],
      "text/plain": [
       "        PC1       PC2       PC3       PC4       PC5              country\n",
       "0 -2.913000  0.091969 -0.721242  1.001838 -0.146765          Afghanistan\n",
       "1  0.429870 -0.589373 -0.328611 -1.165014  0.153205              Albania\n",
       "2 -0.285289 -0.452139  1.232051 -0.857767  0.191227              Algeria\n",
       "3 -2.932714  1.698771  1.525076  0.855595 -0.214778               Angola\n",
       "4  1.033371  0.133853 -0.216699 -0.846638 -0.193186  Antigua and Barbuda"
      ]
     },
     "execution_count": 211,
     "metadata": {},
     "output_type": "execute_result"
    }
   ],
   "source": [
    "country_data_pca.head()"
   ]
  },
  {
   "cell_type": "code",
   "execution_count": 306,
   "metadata": {},
   "outputs": [],
   "source": [
    "def IQR(df,x):\n",
    "    Q1 = df[x].quantile(0.25)\n",
    "    Q3 = df[x].quantile(0.75)\n",
    "    IQR = Q3 - Q1\n",
    "    df = df[(country_data_pca[x] >= Q1 - 1.5*IQR) & (df[x] <= Q3 + 1.5*IQR)]\n",
    "    return df"
   ]
  },
  {
   "cell_type": "code",
   "execution_count": 307,
   "metadata": {},
   "outputs": [],
   "source": [
    "country_data_pca = IQR(country_data_pca,'PC1')"
   ]
  },
  {
   "cell_type": "code",
   "execution_count": 212,
   "metadata": {},
   "outputs": [
    {
     "data": {
      "image/png": "[encoded data removed]",
      "text/plain": [
       "<Figure size 432x288 with 1 Axes>"
      ]
     },
     "metadata": {},
     "output_type": "display_data"
    }
   ],
   "source": [
    "#Performing outlier treatment on each principal components chosen\n",
    "#PC1\n",
    "plt.boxplot(country_data_pca.PC1)\n",
    "country_data_pca = IQR(country_data_pca,'PC1')"
   ]
  },
  {
   "cell_type": "code",
   "execution_count": 308,
   "metadata": {},
   "outputs": [
    {
     "data": {
      "image/png": "[encoded data removed]",
      "text/plain": [
       "<Figure size 432x288 with 1 Axes>"
      ]
     },
     "metadata": {},
     "output_type": "display_data"
    }
   ],
   "source": [
    "#PC2\n",
    "plt.boxplot(country_data_pca.PC2)\n",
    "country_data_pca = IQR(country_data_pca,'PC2')"
   ]
  },
  {
   "cell_type": "code",
   "execution_count": 309,
   "metadata": {},
   "outputs": [
    {
     "data": {
      "image/png": "[encoded data removed]",
      "text/plain": [
       "<Figure size 432x288 with 1 Axes>"
      ]
     },
     "metadata": {},
     "output_type": "display_data"
    }
   ],
   "source": [
    "#PC3\n",
    "plt.boxplot(country_data_pca.PC3)\n",
    "country_data_pca = IQR(country_data_pca,'PC3')"
   ]
  },
  {
   "cell_type": "code",
   "execution_count": 310,
   "metadata": {},
   "outputs": [
    {
     "data": {
      "image/png": "[encoded data removed]",
      "text/plain": [
       "<Figure size 432x288 with 1 Axes>"
      ]
     },
     "metadata": {},
     "output_type": "display_data"
    }
   ],
   "source": [
    "#PC4\n",
    "plt.boxplot(country_data_pca.PC4)\n",
    "country_data_pca = IQR(country_data_pca,'PC4')"
   ]
  },
  {
   "cell_type": "code",
   "execution_count": 311,
   "metadata": {},
   "outputs": [
    {
     "data": {
      "image/png": "[encoded data removed]",
      "text/plain": [
       "<Figure size 432x288 with 1 Axes>"
      ]
     },
     "metadata": {},
     "output_type": "display_data"
    }
   ],
   "source": [
    "#PC5\n",
    "plt.boxplot(country_data_pca.PC5)\n",
    "country_data_pca = IQR(country_data_pca,'PC5')"
   ]
  },
  {
   "cell_type": "code",
   "execution_count": 216,
   "metadata": {},
   "outputs": [
    {
     "data": {
      "text/html": [
       "<div>\n",
       "<style scoped>\n",
       "    .dataframe tbody tr th:only-of-type {\n",
       "        vertical-align: middle;\n",
       "    }\n",
       "\n",
       "    .dataframe tbody tr th {\n",
       "        vertical-align: top;\n",
       "    }\n",
       "\n",
       "    .dataframe thead th {\n",
       "        text-align: right;\n",
       "    }\n",
       "</style>\n",
       "<table border=\"1\" class=\"dataframe\">\n",
       "  <thead>\n",
       "    <tr style=\"text-align: right;\">\n",
       "      <th></th>\n",
       "      <th>PC1</th>\n",
       "      <th>PC2</th>\n",
       "      <th>PC3</th>\n",
       "      <th>PC4</th>\n",
       "      <th>PC5</th>\n",
       "      <th>country</th>\n",
       "    </tr>\n",
       "  </thead>\n",
       "  <tbody>\n",
       "    <tr>\n",
       "      <th>0</th>\n",
       "      <td>-2.913000</td>\n",
       "      <td>0.091969</td>\n",
       "      <td>-0.721242</td>\n",
       "      <td>1.001838</td>\n",
       "      <td>-0.146765</td>\n",
       "      <td>Afghanistan</td>\n",
       "    </tr>\n",
       "    <tr>\n",
       "      <th>1</th>\n",
       "      <td>0.429870</td>\n",
       "      <td>-0.589373</td>\n",
       "      <td>-0.328611</td>\n",
       "      <td>-1.165014</td>\n",
       "      <td>0.153205</td>\n",
       "      <td>Albania</td>\n",
       "    </tr>\n",
       "    <tr>\n",
       "      <th>2</th>\n",
       "      <td>-0.285289</td>\n",
       "      <td>-0.452139</td>\n",
       "      <td>1.232051</td>\n",
       "      <td>-0.857767</td>\n",
       "      <td>0.191227</td>\n",
       "      <td>Algeria</td>\n",
       "    </tr>\n",
       "    <tr>\n",
       "      <th>3</th>\n",
       "      <td>-2.932714</td>\n",
       "      <td>1.698771</td>\n",
       "      <td>1.525076</td>\n",
       "      <td>0.855595</td>\n",
       "      <td>-0.214778</td>\n",
       "      <td>Angola</td>\n",
       "    </tr>\n",
       "    <tr>\n",
       "      <th>4</th>\n",
       "      <td>1.033371</td>\n",
       "      <td>0.133853</td>\n",
       "      <td>-0.216699</td>\n",
       "      <td>-0.846638</td>\n",
       "      <td>-0.193186</td>\n",
       "      <td>Antigua and Barbuda</td>\n",
       "    </tr>\n",
       "  </tbody>\n",
       "</table>\n",
       "</div>"
      ],
      "text/plain": [
       "        PC1       PC2       PC3       PC4       PC5              country\n",
       "0 -2.913000  0.091969 -0.721242  1.001838 -0.146765          Afghanistan\n",
       "1  0.429870 -0.589373 -0.328611 -1.165014  0.153205              Albania\n",
       "2 -0.285289 -0.452139  1.232051 -0.857767  0.191227              Algeria\n",
       "3 -2.932714  1.698771  1.525076  0.855595 -0.214778               Angola\n",
       "4  1.033371  0.133853 -0.216699 -0.846638 -0.193186  Antigua and Barbuda"
      ]
     },
     "execution_count": 216,
     "metadata": {},
     "output_type": "execute_result"
    }
   ],
   "source": [
    "#Inspecting all principal components after outlier treatment\n",
    "country_data_pca.head()"
   ]
  },
  {
   "cell_type": "code",
   "execution_count": 219,
   "metadata": {},
   "outputs": [],
   "source": [
    "#Combining pca data frame with original country data frame\n",
    "country_data_pca_combined = country_data_pca.merge(country_data,how='left',left_on='country',right_on='country')"
   ]
  },
  {
   "cell_type": "code",
   "execution_count": 221,
   "metadata": {},
   "outputs": [
    {
     "data": {
      "text/html": [
       "<div>\n",
       "<style scoped>\n",
       "    .dataframe tbody tr th:only-of-type {\n",
       "        vertical-align: middle;\n",
       "    }\n",
       "\n",
       "    .dataframe tbody tr th {\n",
       "        vertical-align: top;\n",
       "    }\n",
       "\n",
       "    .dataframe thead th {\n",
       "        text-align: right;\n",
       "    }\n",
       "</style>\n",
       "<table border=\"1\" class=\"dataframe\">\n",
       "  <thead>\n",
       "    <tr style=\"text-align: right;\">\n",
       "      <th></th>\n",
       "      <th>PC1</th>\n",
       "      <th>PC2</th>\n",
       "      <th>PC3</th>\n",
       "      <th>PC4</th>\n",
       "      <th>PC5</th>\n",
       "      <th>country</th>\n",
       "      <th>child_mort</th>\n",
       "      <th>exports</th>\n",
       "      <th>health</th>\n",
       "      <th>imports</th>\n",
       "      <th>income</th>\n",
       "      <th>inflation</th>\n",
       "      <th>life_expec</th>\n",
       "      <th>total_fer</th>\n",
       "      <th>gdpp</th>\n",
       "    </tr>\n",
       "  </thead>\n",
       "  <tbody>\n",
       "    <tr>\n",
       "      <th>0</th>\n",
       "      <td>-2.913000</td>\n",
       "      <td>0.091969</td>\n",
       "      <td>-0.721242</td>\n",
       "      <td>1.001838</td>\n",
       "      <td>-0.146765</td>\n",
       "      <td>Afghanistan</td>\n",
       "      <td>90.2</td>\n",
       "      <td>10.0</td>\n",
       "      <td>7.58</td>\n",
       "      <td>44.9</td>\n",
       "      <td>1610</td>\n",
       "      <td>9.44</td>\n",
       "      <td>56.2</td>\n",
       "      <td>5.82</td>\n",
       "      <td>553</td>\n",
       "    </tr>\n",
       "    <tr>\n",
       "      <th>1</th>\n",
       "      <td>0.429870</td>\n",
       "      <td>-0.589373</td>\n",
       "      <td>-0.328611</td>\n",
       "      <td>-1.165014</td>\n",
       "      <td>0.153205</td>\n",
       "      <td>Albania</td>\n",
       "      <td>16.6</td>\n",
       "      <td>28.0</td>\n",
       "      <td>6.55</td>\n",
       "      <td>48.6</td>\n",
       "      <td>9930</td>\n",
       "      <td>4.49</td>\n",
       "      <td>76.3</td>\n",
       "      <td>1.65</td>\n",
       "      <td>4090</td>\n",
       "    </tr>\n",
       "    <tr>\n",
       "      <th>2</th>\n",
       "      <td>-0.285289</td>\n",
       "      <td>-0.452139</td>\n",
       "      <td>1.232051</td>\n",
       "      <td>-0.857767</td>\n",
       "      <td>0.191227</td>\n",
       "      <td>Algeria</td>\n",
       "      <td>27.3</td>\n",
       "      <td>38.4</td>\n",
       "      <td>4.17</td>\n",
       "      <td>31.4</td>\n",
       "      <td>12900</td>\n",
       "      <td>16.10</td>\n",
       "      <td>76.5</td>\n",
       "      <td>2.89</td>\n",
       "      <td>4460</td>\n",
       "    </tr>\n",
       "    <tr>\n",
       "      <th>3</th>\n",
       "      <td>-2.932714</td>\n",
       "      <td>1.698771</td>\n",
       "      <td>1.525076</td>\n",
       "      <td>0.855595</td>\n",
       "      <td>-0.214778</td>\n",
       "      <td>Angola</td>\n",
       "      <td>119.0</td>\n",
       "      <td>62.3</td>\n",
       "      <td>2.85</td>\n",
       "      <td>42.9</td>\n",
       "      <td>5900</td>\n",
       "      <td>22.40</td>\n",
       "      <td>60.1</td>\n",
       "      <td>6.16</td>\n",
       "      <td>3530</td>\n",
       "    </tr>\n",
       "    <tr>\n",
       "      <th>4</th>\n",
       "      <td>1.033371</td>\n",
       "      <td>0.133853</td>\n",
       "      <td>-0.216699</td>\n",
       "      <td>-0.846638</td>\n",
       "      <td>-0.193186</td>\n",
       "      <td>Antigua and Barbuda</td>\n",
       "      <td>10.3</td>\n",
       "      <td>45.5</td>\n",
       "      <td>6.03</td>\n",
       "      <td>58.9</td>\n",
       "      <td>19100</td>\n",
       "      <td>1.44</td>\n",
       "      <td>76.8</td>\n",
       "      <td>2.13</td>\n",
       "      <td>12200</td>\n",
       "    </tr>\n",
       "  </tbody>\n",
       "</table>\n",
       "</div>"
      ],
      "text/plain": [
       "        PC1       PC2       PC3       PC4       PC5              country  \\\n",
       "0 -2.913000  0.091969 -0.721242  1.001838 -0.146765          Afghanistan   \n",
       "1  0.429870 -0.589373 -0.328611 -1.165014  0.153205              Albania   \n",
       "2 -0.285289 -0.452139  1.232051 -0.857767  0.191227              Algeria   \n",
       "3 -2.932714  1.698771  1.525076  0.855595 -0.214778               Angola   \n",
       "4  1.033371  0.133853 -0.216699 -0.846638 -0.193186  Antigua and Barbuda   \n",
       "\n",
       "   child_mort  exports  health  imports  income  inflation  life_expec  \\\n",
       "0        90.2     10.0    7.58     44.9    1610       9.44        56.2   \n",
       "1        16.6     28.0    6.55     48.6    9930       4.49        76.3   \n",
       "2        27.3     38.4    4.17     31.4   12900      16.10        76.5   \n",
       "3       119.0     62.3    2.85     42.9    5900      22.40        60.1   \n",
       "4        10.3     45.5    6.03     58.9   19100       1.44        76.8   \n",
       "\n",
       "   total_fer   gdpp  \n",
       "0       5.82    553  \n",
       "1       1.65   4090  \n",
       "2       2.89   4460  \n",
       "3       6.16   3530  \n",
       "4       2.13  12200  "
      ]
     },
     "execution_count": 221,
     "metadata": {},
     "output_type": "execute_result"
    }
   ],
   "source": [
    "country_data_pca_combined.head()"
   ]
  },
  {
   "cell_type": "code",
   "execution_count": 231,
   "metadata": {},
   "outputs": [
    {
     "data": {
      "text/plain": [
       "{'whiskers': [<matplotlib.lines.Line2D at 0x262c181f3c8>,\n",
       "  <matplotlib.lines.Line2D at 0x262c181f860>],\n",
       " 'caps': [<matplotlib.lines.Line2D at 0x262c181fc88>,\n",
       "  <matplotlib.lines.Line2D at 0x262c18270f0>],\n",
       " 'boxes': [<matplotlib.lines.Line2D at 0x262c181f278>],\n",
       " 'medians': [<matplotlib.lines.Line2D at 0x262c1827518>],\n",
       " 'fliers': [<matplotlib.lines.Line2D at 0x262c1827940>],\n",
       " 'means': []}"
      ]
     },
     "execution_count": 231,
     "metadata": {},
     "output_type": "execute_result"
    },
    {
     "data": {
      "image/png": "[encoded data removed]",
      "text/plain": [
       "<Figure size 432x288 with 1 Axes>"
      ]
     },
     "metadata": {},
     "output_type": "display_data"
    }
   ],
   "source": [
    "#Plotting all principal components in box plots to see the difference after outlier treatment\n",
    "#PC1\n",
    "plt.boxplot(country_data_pca.PC1)\n",
    "#We can clearly see now PC1 is uniformly distributed without any outliers"
   ]
  },
  {
   "cell_type": "code",
   "execution_count": 232,
   "metadata": {},
   "outputs": [
    {
     "data": {
      "text/plain": [
       "{'whiskers': [<matplotlib.lines.Line2D at 0x262c185e860>,\n",
       "  <matplotlib.lines.Line2D at 0x262c185ecf8>],\n",
       " 'caps': [<matplotlib.lines.Line2D at 0x262c1865160>,\n",
       "  <matplotlib.lines.Line2D at 0x262c1865588>],\n",
       " 'boxes': [<matplotlib.lines.Line2D at 0x262c185e710>],\n",
       " 'medians': [<matplotlib.lines.Line2D at 0x262c18659b0>],\n",
       " 'fliers': [<matplotlib.lines.Line2D at 0x262c1865dd8>],\n",
       " 'means': []}"
      ]
     },
     "execution_count": 232,
     "metadata": {},
     "output_type": "execute_result"
    },
    {
     "data": {
      "image/png": "[encoded data removed]",
      "text/plain": [
       "<Figure size 432x288 with 1 Axes>"
      ]
     },
     "metadata": {},
     "output_type": "display_data"
    }
   ],
   "source": [
    "#PC2\n",
    "plt.boxplot(country_data_pca.PC2)\n",
    "#We can clearly see now PC2 is uniformly distributed without any outliers"
   ]
  },
  {
   "cell_type": "code",
   "execution_count": 78,
   "metadata": {},
   "outputs": [
    {
     "data": {
      "text/plain": [
       "{'whiskers': [<matplotlib.lines.Line2D at 0x262be64c278>,\n",
       "  <matplotlib.lines.Line2D at 0x262be64c710>],\n",
       " 'caps': [<matplotlib.lines.Line2D at 0x262be64cac8>,\n",
       "  <matplotlib.lines.Line2D at 0x262be64cef0>],\n",
       " 'boxes': [<matplotlib.lines.Line2D at 0x262be64c128>],\n",
       " 'medians': [<matplotlib.lines.Line2D at 0x262be656358>],\n",
       " 'fliers': [<matplotlib.lines.Line2D at 0x262be656780>],\n",
       " 'means': []}"
      ]
     },
     "execution_count": 78,
     "metadata": {},
     "output_type": "execute_result"
    },
    {
     "data": {
      "image/png": "[encoded data removed]",
      "text/plain": [
       "<Figure size 432x288 with 1 Axes>"
      ]
     },
     "metadata": {},
     "output_type": "display_data"
    }
   ],
   "source": [
    "#PC3\n",
    "plt.boxplot(country_data_pca.PC3)\n",
    "#We can clearly see now PC3 is uniformly distributed without any outliers"
   ]
  },
  {
   "cell_type": "code",
   "execution_count": 233,
   "metadata": {},
   "outputs": [
    {
     "data": {
      "text/plain": [
       "{'whiskers': [<matplotlib.lines.Line2D at 0x262c18976d8>,\n",
       "  <matplotlib.lines.Line2D at 0x262c1897b70>],\n",
       " 'caps': [<matplotlib.lines.Line2D at 0x262c1897f98>,\n",
       "  <matplotlib.lines.Line2D at 0x262c18a0400>],\n",
       " 'boxes': [<matplotlib.lines.Line2D at 0x262c1897588>],\n",
       " 'medians': [<matplotlib.lines.Line2D at 0x262c18a0828>],\n",
       " 'fliers': [<matplotlib.lines.Line2D at 0x262c18a0c50>],\n",
       " 'means': []}"
      ]
     },
     "execution_count": 233,
     "metadata": {},
     "output_type": "execute_result"
    },
    {
     "data": {
      "image/png": "[encoded data removed]",
      "text/plain": [
       "<Figure size 432x288 with 1 Axes>"
      ]
     },
     "metadata": {},
     "output_type": "display_data"
    }
   ],
   "source": [
    "#PC4\n",
    "plt.boxplot(country_data_pca.PC4)\n",
    "#We can clearly see now PC4 is uniformly distributed without any outliers"
   ]
  },
  {
   "cell_type": "code",
   "execution_count": 234,
   "metadata": {},
   "outputs": [
    {
     "data": {
      "text/plain": [
       "{'whiskers': [<matplotlib.lines.Line2D at 0x262c18ee128>,\n",
       "  <matplotlib.lines.Line2D at 0x262c18ee5c0>],\n",
       " 'caps': [<matplotlib.lines.Line2D at 0x262c18ee9e8>,\n",
       "  <matplotlib.lines.Line2D at 0x262c18eeda0>],\n",
       " 'boxes': [<matplotlib.lines.Line2D at 0x262c18e4f98>],\n",
       " 'medians': [<matplotlib.lines.Line2D at 0x262c1ed5208>],\n",
       " 'fliers': [<matplotlib.lines.Line2D at 0x262c1ed5630>],\n",
       " 'means': []}"
      ]
     },
     "execution_count": 234,
     "metadata": {},
     "output_type": "execute_result"
    },
    {
     "data": {
      "image/png": "[encoded data removed]",
      "text/plain": [
       "<Figure size 432x288 with 1 Axes>"
      ]
     },
     "metadata": {},
     "output_type": "display_data"
    }
   ],
   "source": [
    "#PC5\n",
    "plt.boxplot(country_data_pca.PC5)\n",
    "#We can clearly see now PC5 is uniformly distributed without any outliers"
   ]
  },
  {
   "cell_type": "code",
   "execution_count": 235,
   "metadata": {},
   "outputs": [],
   "source": [
    "#Implementing K-Means algorithm to cluster countries according to principal components chosen\n",
    "country_data_pca_kmeans = country_data_pca.drop('country',axis=1)"
   ]
  },
  {
   "cell_type": "code",
   "execution_count": 236,
   "metadata": {},
   "outputs": [],
   "source": [
    "#performing hopkins statistics to check how well cluster can be formed.A value closer to 1 says data is heavily clustered.\n",
    "from sklearn.neighbors import NearestNeighbors\n",
    "from random import sample\n",
    "from numpy.random import uniform\n",
    "import numpy as np\n",
    "from math import isnan\n",
    " \n",
    "def hopkins(X):\n",
    "    d = X.shape[1]\n",
    "    #d = len(vars) # columns\n",
    "    n = len(X) # rows\n",
    "    m = int(0.1 * n) \n",
    "    nbrs = NearestNeighbors(n_neighbors=1).fit(X.values)\n",
    " \n",
    "    rand_X = sample(range(0, n, 1), m)\n",
    " \n",
    "    ujd = []\n",
    "    wjd = []\n",
    "    for j in range(0, m):\n",
    "        u_dist, _ = nbrs.kneighbors(uniform(np.amin(X,axis=0),np.amax(X,axis=0),d).reshape(1, -1), 2, return_distance=True)\n",
    "        ujd.append(u_dist[0][1])\n",
    "        w_dist, _ = nbrs.kneighbors(X.iloc[rand_X[j]].values.reshape(1, -1), 2, return_distance=True)\n",
    "        wjd.append(w_dist[0][1])\n",
    " \n",
    "    H = sum(ujd) / (sum(ujd) + sum(wjd))\n",
    "    if isnan(H):\n",
    "        print(ujd, wjd)\n",
    "        H = 0\n",
    " \n",
    "    return H"
   ]
  },
  {
   "cell_type": "code",
   "execution_count": 237,
   "metadata": {},
   "outputs": [
    {
     "data": {
      "text/plain": [
       "0.7378031066432207"
      ]
     },
     "execution_count": 237,
     "metadata": {},
     "output_type": "execute_result"
    }
   ],
   "source": [
    "#Executing hopkins on principal components\n",
    "hopkins(country_data_pca_kmeans)\n",
    "#As we can see value lies closer to 1 so it shows data is well clustered."
   ]
  },
  {
   "cell_type": "code",
   "execution_count": 238,
   "metadata": {},
   "outputs": [],
   "source": [
    "# To perform KMeans clustering \n",
    "from sklearn.cluster import KMeans"
   ]
  },
  {
   "cell_type": "code",
   "execution_count": 239,
   "metadata": {},
   "outputs": [],
   "source": [
    "#Performing Silhouette Analysis to determine optimum no of clusters required to group countries.\n",
    "from sklearn.metrics import silhouette_score\n",
    "sse_ = []\n",
    "for k in range(2, 15):\n",
    "    kmeans = KMeans(n_clusters=k).fit(country_data_pca_kmeans)\n",
    "    sse_.append([k, silhouette_score(country_data_pca_kmeans, kmeans.labels_)])"
   ]
  },
  {
   "cell_type": "code",
   "execution_count": 240,
   "metadata": {},
   "outputs": [
    {
     "data": {
      "image/png": "[encoded data removed]",
      "text/plain": [
       "<Figure size 432x288 with 1 Axes>"
      ]
     },
     "metadata": {},
     "output_type": "display_data"
    }
   ],
   "source": [
    "#Plotting Sum of squared values \n",
    "plt.plot(pd.DataFrame(sse_)[0], pd.DataFrame(sse_)[1]);"
   ]
  },
  {
   "cell_type": "code",
   "execution_count": 241,
   "metadata": {
    "scrolled": true
   },
   "outputs": [
    {
     "data": {
      "text/plain": [
       "[<matplotlib.lines.Line2D at 0x262c1f80a90>]"
      ]
     },
     "execution_count": 241,
     "metadata": {},
     "output_type": "execute_result"
    },
    {
     "data": {
      "image/png": "[encoded data removed]",
      "text/plain": [
       "<Figure size 432x288 with 1 Axes>"
      ]
     },
     "metadata": {},
     "output_type": "display_data"
    }
   ],
   "source": [
    "#Plotting elbow curve for all SSD's\n",
    "ssd = []\n",
    "for num_clusters in list(range(1,21)):\n",
    "    model_clus = KMeans(n_clusters = num_clusters, max_iter=50)\n",
    "    model_clus.fit(country_data_pca_kmeans)\n",
    "    ssd.append(model_clus.inertia_)\n",
    "\n",
    "plt.plot(ssd)"
   ]
  },
  {
   "cell_type": "code",
   "execution_count": 262,
   "metadata": {},
   "outputs": [
    {
     "data": {
      "text/plain": [
       "KMeans(algorithm='auto', copy_x=True, init='k-means++', max_iter=50,\n",
       "    n_clusters=5, n_init=10, n_jobs=1, precompute_distances='auto',\n",
       "    random_state=None, tol=0.0001, verbose=0)"
      ]
     },
     "execution_count": 262,
     "metadata": {},
     "output_type": "execute_result"
    }
   ],
   "source": [
    "#Performing Kmeans with K=5 as from above elbow curve we can infer that after k=5 graph tends towards flattened nature.\n",
    "counntry_Kmeans_model_5 = KMeans(n_clusters = 5, max_iter=50)\n",
    "counntry_Kmeans_model_5.fit(country_data_pca_kmeans)"
   ]
  },
  {
   "cell_type": "code",
   "execution_count": 263,
   "metadata": {},
   "outputs": [],
   "source": [
    "#Calculating mean principal components values grouped by each of the 5 cluster.\n",
    "country_data_pca.index = pd.RangeIndex(len(country_data_pca.index))\n",
    "country_data_pca_km = pd.concat([country_data_pca, pd.Series(counntry_Kmeans_model_5.labels_)], axis=1)\n",
    "country_data_pca_km.columns = ['PC1', 'PC2', 'PC3', 'PC4', 'PC5','country','ClusterID']\n",
    "\n",
    "km_clusters_PC1 = \tpd.DataFrame(country_data_pca_km.groupby([\"ClusterID\"]).PC1.mean())\n",
    "km_clusters_PC2 = \tpd.DataFrame(country_data_pca_km.groupby([\"ClusterID\"]).PC2.mean())\n",
    "km_clusters_PC3 = \tpd.DataFrame(country_data_pca_km.groupby([\"ClusterID\"]).PC3.mean())\n",
    "km_clusters_PC4 = \tpd.DataFrame(country_data_pca_km.groupby([\"ClusterID\"]).PC4.mean())\n",
    "km_clusters_PC5 = \tpd.DataFrame(country_data_pca_km.groupby([\"ClusterID\"]).PC5.mean())"
   ]
  },
  {
   "cell_type": "code",
   "execution_count": 264,
   "metadata": {},
   "outputs": [
    {
     "data": {
      "text/html": [
       "<div>\n",
       "<style scoped>\n",
       "    .dataframe tbody tr th:only-of-type {\n",
       "        vertical-align: middle;\n",
       "    }\n",
       "\n",
       "    .dataframe tbody tr th {\n",
       "        vertical-align: top;\n",
       "    }\n",
       "\n",
       "    .dataframe thead th {\n",
       "        text-align: right;\n",
       "    }\n",
       "</style>\n",
       "<table border=\"1\" class=\"dataframe\">\n",
       "  <thead>\n",
       "    <tr style=\"text-align: right;\">\n",
       "      <th></th>\n",
       "      <th>ClusterID</th>\n",
       "      <th>PC1_mean</th>\n",
       "      <th>PC2_mean</th>\n",
       "      <th>PC3_mean</th>\n",
       "      <th>PC4_mean</th>\n",
       "      <th>PC5_mean</th>\n",
       "    </tr>\n",
       "  </thead>\n",
       "  <tbody>\n",
       "    <tr>\n",
       "      <th>0</th>\n",
       "      <td>0</td>\n",
       "      <td>2.484964</td>\n",
       "      <td>-0.951996</td>\n",
       "      <td>-0.295147</td>\n",
       "      <td>0.867333</td>\n",
       "      <td>-0.116744</td>\n",
       "    </tr>\n",
       "    <tr>\n",
       "      <th>1</th>\n",
       "      <td>1</td>\n",
       "      <td>-0.190271</td>\n",
       "      <td>-0.770244</td>\n",
       "      <td>0.278662</td>\n",
       "      <td>-0.782993</td>\n",
       "      <td>-0.004951</td>\n",
       "    </tr>\n",
       "    <tr>\n",
       "      <th>2</th>\n",
       "      <td>2</td>\n",
       "      <td>-2.976693</td>\n",
       "      <td>0.413839</td>\n",
       "      <td>-0.583979</td>\n",
       "      <td>1.104738</td>\n",
       "      <td>-0.344615</td>\n",
       "    </tr>\n",
       "    <tr>\n",
       "      <th>3</th>\n",
       "      <td>3</td>\n",
       "      <td>0.747007</td>\n",
       "      <td>0.431998</td>\n",
       "      <td>-0.348664</td>\n",
       "      <td>-0.818317</td>\n",
       "      <td>0.233511</td>\n",
       "    </tr>\n",
       "    <tr>\n",
       "      <th>4</th>\n",
       "      <td>4</td>\n",
       "      <td>-1.689494</td>\n",
       "      <td>0.445505</td>\n",
       "      <td>0.362300</td>\n",
       "      <td>0.057652</td>\n",
       "      <td>-0.239635</td>\n",
       "    </tr>\n",
       "  </tbody>\n",
       "</table>\n",
       "</div>"
      ],
      "text/plain": [
       "   ClusterID  PC1_mean  PC2_mean  PC3_mean  PC4_mean  PC5_mean\n",
       "0          0  2.484964 -0.951996 -0.295147  0.867333 -0.116744\n",
       "1          1 -0.190271 -0.770244  0.278662 -0.782993 -0.004951\n",
       "2          2 -2.976693  0.413839 -0.583979  1.104738 -0.344615\n",
       "3          3  0.747007  0.431998 -0.348664 -0.818317  0.233511\n",
       "4          4 -1.689494  0.445505  0.362300  0.057652 -0.239635"
      ]
     },
     "execution_count": 264,
     "metadata": {},
     "output_type": "execute_result"
    }
   ],
   "source": [
    "#Forming a combined data frame of all 5 clusters along with 5 mean principal components.\n",
    "df_pca_mean = pd.concat([pd.Series([0,1,2,3,4]), km_clusters_PC1, km_clusters_PC2, km_clusters_PC3,km_clusters_PC4,km_clusters_PC5], axis=1)\n",
    "df_pca_mean.columns = [\"ClusterID\", \"PC1_mean\", \"PC2_mean\", \"PC3_mean\",\"PC4_mean\",\"PC5_mean\"]\n",
    "df_pca_mean.head()"
   ]
  },
  {
   "cell_type": "code",
   "execution_count": 245,
   "metadata": {},
   "outputs": [
    {
     "data": {
      "text/plain": [
       "KMeans(algorithm='auto', copy_x=True, init='k-means++', max_iter=50,\n",
       "    n_clusters=3, n_init=10, n_jobs=1, precompute_distances='auto',\n",
       "    random_state=None, tol=0.0001, verbose=0)"
      ]
     },
     "execution_count": 245,
     "metadata": {},
     "output_type": "execute_result"
    }
   ],
   "source": [
    "#Performing cluster analysis with K=3\n",
    "#Performing Kmeans with K=3\n",
    "counntry_Kmeans_model_3 = KMeans(n_clusters = 3, max_iter=50)\n",
    "counntry_Kmeans_model_3.fit(country_data_pca_kmeans)"
   ]
  },
  {
   "cell_type": "code",
   "execution_count": 246,
   "metadata": {},
   "outputs": [],
   "source": [
    "#Calculating mean of all 5 principal componets for each of 3 clusters formed\n",
    "country_data_pca.index = pd.RangeIndex(len(country_data_pca.index))\n",
    "country_data_pca_km = pd.concat([country_data_pca, pd.Series(counntry_Kmeans_model_3.labels_)], axis=1)\n",
    "country_data_pca_km.columns = ['PC1', 'PC2', 'PC3', 'PC4', 'PC5','country','ClusterID']\n",
    "\n",
    "km_clusters_PC1 = \tpd.DataFrame(country_data_pca_km.groupby([\"ClusterID\"]).PC1.mean())\n",
    "km_clusters_PC2 = \tpd.DataFrame(country_data_pca_km.groupby([\"ClusterID\"]).PC2.mean())\n",
    "km_clusters_PC3 = \tpd.DataFrame(country_data_pca_km.groupby([\"ClusterID\"]).PC3.mean())\n",
    "km_clusters_PC4 = \tpd.DataFrame(country_data_pca_km.groupby([\"ClusterID\"]).PC4.mean())\n",
    "km_clusters_PC5 = \tpd.DataFrame(country_data_pca_km.groupby([\"ClusterID\"]).PC5.mean())"
   ]
  },
  {
   "cell_type": "code",
   "execution_count": 247,
   "metadata": {},
   "outputs": [
    {
     "data": {
      "text/html": [
       "<div>\n",
       "<style scoped>\n",
       "    .dataframe tbody tr th:only-of-type {\n",
       "        vertical-align: middle;\n",
       "    }\n",
       "\n",
       "    .dataframe tbody tr th {\n",
       "        vertical-align: top;\n",
       "    }\n",
       "\n",
       "    .dataframe thead th {\n",
       "        text-align: right;\n",
       "    }\n",
       "</style>\n",
       "<table border=\"1\" class=\"dataframe\">\n",
       "  <thead>\n",
       "    <tr style=\"text-align: right;\">\n",
       "      <th></th>\n",
       "      <th>ClusterID</th>\n",
       "      <th>PC1_mean</th>\n",
       "      <th>PC2_mean</th>\n",
       "      <th>PC3_mean</th>\n",
       "      <th>PC4_mean</th>\n",
       "      <th>PC5_mean</th>\n",
       "    </tr>\n",
       "  </thead>\n",
       "  <tbody>\n",
       "    <tr>\n",
       "      <th>0</th>\n",
       "      <td>0</td>\n",
       "      <td>0.217708</td>\n",
       "      <td>-0.137744</td>\n",
       "      <td>-0.030041</td>\n",
       "      <td>-0.802219</td>\n",
       "      <td>0.099812</td>\n",
       "    </tr>\n",
       "    <tr>\n",
       "      <th>1</th>\n",
       "      <td>1</td>\n",
       "      <td>-2.381689</td>\n",
       "      <td>0.415688</td>\n",
       "      <td>-0.073024</td>\n",
       "      <td>0.626552</td>\n",
       "      <td>-0.281823</td>\n",
       "    </tr>\n",
       "    <tr>\n",
       "      <th>2</th>\n",
       "      <td>2</td>\n",
       "      <td>2.468969</td>\n",
       "      <td>-0.901149</td>\n",
       "      <td>-0.304228</td>\n",
       "      <td>0.819821</td>\n",
       "      <td>-0.114772</td>\n",
       "    </tr>\n",
       "  </tbody>\n",
       "</table>\n",
       "</div>"
      ],
      "text/plain": [
       "   ClusterID  PC1_mean  PC2_mean  PC3_mean  PC4_mean  PC5_mean\n",
       "0          0  0.217708 -0.137744 -0.030041 -0.802219  0.099812\n",
       "1          1 -2.381689  0.415688 -0.073024  0.626552 -0.281823\n",
       "2          2  2.468969 -0.901149 -0.304228  0.819821 -0.114772"
      ]
     },
     "execution_count": 247,
     "metadata": {},
     "output_type": "execute_result"
    }
   ],
   "source": [
    "##Forming a combined data frame of 3 clusters and 5 principal components mean\n",
    "df_pca_mean = pd.concat([pd.Series([0,1,2]), km_clusters_PC1, km_clusters_PC2, km_clusters_PC3,km_clusters_PC4,km_clusters_PC5], axis=1)\n",
    "df_pca_mean.columns = [\"ClusterID\", \"PC1_mean\", \"PC2_mean\", \"PC3_mean\",\"PC4_mean\",\"PC5_mean\"]\n",
    "df_pca_mean.head()"
   ]
  },
  {
   "cell_type": "code",
   "execution_count": 259,
   "metadata": {},
   "outputs": [
    {
     "data": {
      "text/html": [
       "<div>\n",
       "<style scoped>\n",
       "    .dataframe tbody tr th:only-of-type {\n",
       "        vertical-align: middle;\n",
       "    }\n",
       "\n",
       "    .dataframe tbody tr th {\n",
       "        vertical-align: top;\n",
       "    }\n",
       "\n",
       "    .dataframe thead th {\n",
       "        text-align: right;\n",
       "    }\n",
       "</style>\n",
       "<table border=\"1\" class=\"dataframe\">\n",
       "  <thead>\n",
       "    <tr style=\"text-align: right;\">\n",
       "      <th></th>\n",
       "      <th>PC1</th>\n",
       "      <th>PC2</th>\n",
       "      <th>PC3</th>\n",
       "      <th>PC4</th>\n",
       "      <th>PC5</th>\n",
       "      <th>country</th>\n",
       "      <th>ClusterID</th>\n",
       "    </tr>\n",
       "  </thead>\n",
       "  <tbody>\n",
       "    <tr>\n",
       "      <th>0</th>\n",
       "      <td>-2.913000</td>\n",
       "      <td>0.091969</td>\n",
       "      <td>-0.721242</td>\n",
       "      <td>1.001838</td>\n",
       "      <td>-0.146765</td>\n",
       "      <td>Afghanistan</td>\n",
       "      <td>1</td>\n",
       "    </tr>\n",
       "    <tr>\n",
       "      <th>1</th>\n",
       "      <td>0.429870</td>\n",
       "      <td>-0.589373</td>\n",
       "      <td>-0.328611</td>\n",
       "      <td>-1.165014</td>\n",
       "      <td>0.153205</td>\n",
       "      <td>Albania</td>\n",
       "      <td>0</td>\n",
       "    </tr>\n",
       "    <tr>\n",
       "      <th>2</th>\n",
       "      <td>-0.285289</td>\n",
       "      <td>-0.452139</td>\n",
       "      <td>1.232051</td>\n",
       "      <td>-0.857767</td>\n",
       "      <td>0.191227</td>\n",
       "      <td>Algeria</td>\n",
       "      <td>0</td>\n",
       "    </tr>\n",
       "    <tr>\n",
       "      <th>3</th>\n",
       "      <td>-2.932714</td>\n",
       "      <td>1.698771</td>\n",
       "      <td>1.525076</td>\n",
       "      <td>0.855595</td>\n",
       "      <td>-0.214778</td>\n",
       "      <td>Angola</td>\n",
       "      <td>1</td>\n",
       "    </tr>\n",
       "    <tr>\n",
       "      <th>4</th>\n",
       "      <td>1.033371</td>\n",
       "      <td>0.133853</td>\n",
       "      <td>-0.216699</td>\n",
       "      <td>-0.846638</td>\n",
       "      <td>-0.193186</td>\n",
       "      <td>Antigua and Barbuda</td>\n",
       "      <td>0</td>\n",
       "    </tr>\n",
       "  </tbody>\n",
       "</table>\n",
       "</div>"
      ],
      "text/plain": [
       "        PC1       PC2       PC3       PC4       PC5              country  \\\n",
       "0 -2.913000  0.091969 -0.721242  1.001838 -0.146765          Afghanistan   \n",
       "1  0.429870 -0.589373 -0.328611 -1.165014  0.153205              Albania   \n",
       "2 -0.285289 -0.452139  1.232051 -0.857767  0.191227              Algeria   \n",
       "3 -2.932714  1.698771  1.525076  0.855595 -0.214778               Angola   \n",
       "4  1.033371  0.133853 -0.216699 -0.846638 -0.193186  Antigua and Barbuda   \n",
       "\n",
       "   ClusterID  \n",
       "0          1  \n",
       "1          0  \n",
       "2          0  \n",
       "3          1  \n",
       "4          0  "
      ]
     },
     "execution_count": 259,
     "metadata": {},
     "output_type": "execute_result"
    }
   ],
   "source": [
    "#Combined data frame of principal components with cluster ID's for each country.(n=3)\n",
    "country_data_pca_km.head()"
   ]
  },
  {
   "cell_type": "code",
   "execution_count": 265,
   "metadata": {},
   "outputs": [],
   "source": [
    "# To perform Hierarchical clustering\n",
    "from scipy.cluster.hierarchy import linkage\n",
    "from scipy.cluster.hierarchy import dendrogram\n",
    "from scipy.cluster.hierarchy import cut_tree"
   ]
  },
  {
   "cell_type": "code",
   "execution_count": 266,
   "metadata": {},
   "outputs": [],
   "source": [
    "country_data_pca_hierarchial = country_data_pca.drop('country',axis=1)"
   ]
  },
  {
   "cell_type": "code",
   "execution_count": 267,
   "metadata": {},
   "outputs": [
    {
     "data": {
      "image/png": "[encoded data removed]",
      "text/plain": [
       "<Figure size 432x288 with 1 Axes>"
      ]
     },
     "metadata": {},
     "output_type": "display_data"
    }
   ],
   "source": [
    "#Applying hierarichial clustering to determine optimum no of clusters\n",
    "#Using single linkage technique\n",
    "mergings = linkage(country_data_pca_hierarchial, method = \"single\", metric='euclidean')\n",
    "dendrogram(mergings)\n",
    "plt.show()"
   ]
  },
  {
   "cell_type": "code",
   "execution_count": 268,
   "metadata": {},
   "outputs": [
    {
     "data": {
      "image/png": "[encoded data removed]",
      "text/plain": [
       "<Figure size 432x288 with 1 Axes>"
      ]
     },
     "metadata": {},
     "output_type": "display_data"
    }
   ],
   "source": [
    "#Using complete linkage technique\n",
    "mergings = linkage(country_data_pca_hierarchial, method = \"complete\", metric='euclidean')\n",
    "dendrogram(mergings)\n",
    "plt.show()"
   ]
  },
  {
   "cell_type": "code",
   "execution_count": 269,
   "metadata": {},
   "outputs": [],
   "source": [
    "#Cutting the dendogram obtained above with a horizontal line for 5 clusters.\n",
    "clusterCut = pd.Series(cut_tree(mergings, n_clusters = 5).reshape(-1,))\n",
    "country_data_pca_hc = pd.concat([country_data_pca, clusterCut], axis=1)\n",
    "country_data_pca_hc.columns = ['PC1', 'PC2', 'PC3', 'PC4', 'PC5','country','ClusterID']"
   ]
  },
  {
   "cell_type": "code",
   "execution_count": 270,
   "metadata": {},
   "outputs": [],
   "source": [
    "#Calculating mean for all 5 principal components grouped by each cluster.\n",
    "hc_clusters_PC1 = \tpd.DataFrame(country_data_pca_hc.groupby([\"ClusterID\"]).PC1.mean())\n",
    "hc_clusters_PC2 = \tpd.DataFrame(country_data_pca_hc.groupby([\"ClusterID\"]).PC2.mean())\n",
    "hc_clusters_PC3 = \tpd.DataFrame(country_data_pca_hc.groupby([\"ClusterID\"]).PC3.mean())\n",
    "hc_clusters_PC4 = \tpd.DataFrame(country_data_pca_hc.groupby([\"ClusterID\"]).PC4.mean())\n",
    "hc_clusters_PC5 = \tpd.DataFrame(country_data_pca_hc.groupby([\"ClusterID\"]).PC5.mean())"
   ]
  },
  {
   "cell_type": "code",
   "execution_count": 271,
   "metadata": {},
   "outputs": [
    {
     "data": {
      "text/html": [
       "<div>\n",
       "<style scoped>\n",
       "    .dataframe tbody tr th:only-of-type {\n",
       "        vertical-align: middle;\n",
       "    }\n",
       "\n",
       "    .dataframe tbody tr th {\n",
       "        vertical-align: top;\n",
       "    }\n",
       "\n",
       "    .dataframe thead th {\n",
       "        text-align: right;\n",
       "    }\n",
       "</style>\n",
       "<table border=\"1\" class=\"dataframe\">\n",
       "  <thead>\n",
       "    <tr style=\"text-align: right;\">\n",
       "      <th></th>\n",
       "      <th>ClusterID</th>\n",
       "      <th>PC1_mean</th>\n",
       "      <th>PC2_mean</th>\n",
       "      <th>PC3_mean</th>\n",
       "      <th>PC4_mean</th>\n",
       "      <th>PC5_mean</th>\n",
       "    </tr>\n",
       "  </thead>\n",
       "  <tbody>\n",
       "    <tr>\n",
       "      <th>0</th>\n",
       "      <td>0</td>\n",
       "      <td>2.484964</td>\n",
       "      <td>-0.951996</td>\n",
       "      <td>-0.295147</td>\n",
       "      <td>0.867333</td>\n",
       "      <td>-0.116744</td>\n",
       "    </tr>\n",
       "    <tr>\n",
       "      <th>1</th>\n",
       "      <td>1</td>\n",
       "      <td>-0.190271</td>\n",
       "      <td>-0.770244</td>\n",
       "      <td>0.278662</td>\n",
       "      <td>-0.782993</td>\n",
       "      <td>-0.004951</td>\n",
       "    </tr>\n",
       "    <tr>\n",
       "      <th>2</th>\n",
       "      <td>2</td>\n",
       "      <td>-2.976693</td>\n",
       "      <td>0.413839</td>\n",
       "      <td>-0.583979</td>\n",
       "      <td>1.104738</td>\n",
       "      <td>-0.344615</td>\n",
       "    </tr>\n",
       "    <tr>\n",
       "      <th>3</th>\n",
       "      <td>3</td>\n",
       "      <td>0.747007</td>\n",
       "      <td>0.431998</td>\n",
       "      <td>-0.348664</td>\n",
       "      <td>-0.818317</td>\n",
       "      <td>0.233511</td>\n",
       "    </tr>\n",
       "    <tr>\n",
       "      <th>4</th>\n",
       "      <td>4</td>\n",
       "      <td>-1.689494</td>\n",
       "      <td>0.445505</td>\n",
       "      <td>0.362300</td>\n",
       "      <td>0.057652</td>\n",
       "      <td>-0.239635</td>\n",
       "    </tr>\n",
       "  </tbody>\n",
       "</table>\n",
       "</div>"
      ],
      "text/plain": [
       "   ClusterID  PC1_mean  PC2_mean  PC3_mean  PC4_mean  PC5_mean\n",
       "0          0  2.484964 -0.951996 -0.295147  0.867333 -0.116744\n",
       "1          1 -0.190271 -0.770244  0.278662 -0.782993 -0.004951\n",
       "2          2 -2.976693  0.413839 -0.583979  1.104738 -0.344615\n",
       "3          3  0.747007  0.431998 -0.348664 -0.818317  0.233511\n",
       "4          4 -1.689494  0.445505  0.362300  0.057652 -0.239635"
      ]
     },
     "execution_count": 271,
     "metadata": {},
     "output_type": "execute_result"
    }
   ],
   "source": [
    "#Principal Components mean analysis corresponding to 5 clusters obtained from hierarchial clustering.\n",
    "df_pca_mean_hc = pd.concat([pd.Series([0,1,2,3,4]), km_clusters_PC1, km_clusters_PC2, km_clusters_PC3,km_clusters_PC4,km_clusters_PC5], axis=1)\n",
    "df_pca_mean_hc.columns = [\"ClusterID\", \"PC1_mean\", \"PC2_mean\", \"PC3_mean\",\"PC4_mean\",\"PC5_mean\"]\n",
    "df_pca_mean_hc.head()"
   ]
  },
  {
   "cell_type": "code",
   "execution_count": null,
   "metadata": {},
   "outputs": [],
   "source": [
    "#If we compare mean data frames of both hierarchial and k-means clustering (k=5) we get approximately same values.\n",
    "#So lets go with 5 clusters and combine the clustered data with main data frame obtained after performing EDA."
   ]
  },
  {
   "cell_type": "code",
   "execution_count": 272,
   "metadata": {},
   "outputs": [],
   "source": [
    "#Combining clustered data frame with original data fram on Country basis\n",
    "country_data_pca_combined = country_data_pca_km.merge(country_data,how='left',left_on='country',right_on = 'country')"
   ]
  },
  {
   "cell_type": "code",
   "execution_count": 275,
   "metadata": {},
   "outputs": [
    {
     "data": {
      "text/html": [
       "<div>\n",
       "<style scoped>\n",
       "    .dataframe tbody tr th:only-of-type {\n",
       "        vertical-align: middle;\n",
       "    }\n",
       "\n",
       "    .dataframe tbody tr th {\n",
       "        vertical-align: top;\n",
       "    }\n",
       "\n",
       "    .dataframe thead th {\n",
       "        text-align: right;\n",
       "    }\n",
       "</style>\n",
       "<table border=\"1\" class=\"dataframe\">\n",
       "  <thead>\n",
       "    <tr style=\"text-align: right;\">\n",
       "      <th></th>\n",
       "      <th>PC1</th>\n",
       "      <th>PC2</th>\n",
       "      <th>PC3</th>\n",
       "      <th>PC4</th>\n",
       "      <th>PC5</th>\n",
       "      <th>country</th>\n",
       "      <th>ClusterID</th>\n",
       "      <th>child_mort</th>\n",
       "      <th>exports</th>\n",
       "      <th>health</th>\n",
       "      <th>imports</th>\n",
       "      <th>income</th>\n",
       "      <th>inflation</th>\n",
       "      <th>life_expec</th>\n",
       "      <th>total_fer</th>\n",
       "      <th>gdpp</th>\n",
       "    </tr>\n",
       "  </thead>\n",
       "  <tbody>\n",
       "    <tr>\n",
       "      <th>0</th>\n",
       "      <td>-2.913000</td>\n",
       "      <td>0.091969</td>\n",
       "      <td>-0.721242</td>\n",
       "      <td>1.001838</td>\n",
       "      <td>-0.146765</td>\n",
       "      <td>Afghanistan</td>\n",
       "      <td>2</td>\n",
       "      <td>90.2</td>\n",
       "      <td>10.0</td>\n",
       "      <td>7.58</td>\n",
       "      <td>44.9</td>\n",
       "      <td>1610</td>\n",
       "      <td>9.44</td>\n",
       "      <td>56.2</td>\n",
       "      <td>5.82</td>\n",
       "      <td>553</td>\n",
       "    </tr>\n",
       "    <tr>\n",
       "      <th>1</th>\n",
       "      <td>0.429870</td>\n",
       "      <td>-0.589373</td>\n",
       "      <td>-0.328611</td>\n",
       "      <td>-1.165014</td>\n",
       "      <td>0.153205</td>\n",
       "      <td>Albania</td>\n",
       "      <td>1</td>\n",
       "      <td>16.6</td>\n",
       "      <td>28.0</td>\n",
       "      <td>6.55</td>\n",
       "      <td>48.6</td>\n",
       "      <td>9930</td>\n",
       "      <td>4.49</td>\n",
       "      <td>76.3</td>\n",
       "      <td>1.65</td>\n",
       "      <td>4090</td>\n",
       "    </tr>\n",
       "    <tr>\n",
       "      <th>2</th>\n",
       "      <td>-0.285289</td>\n",
       "      <td>-0.452139</td>\n",
       "      <td>1.232051</td>\n",
       "      <td>-0.857767</td>\n",
       "      <td>0.191227</td>\n",
       "      <td>Algeria</td>\n",
       "      <td>1</td>\n",
       "      <td>27.3</td>\n",
       "      <td>38.4</td>\n",
       "      <td>4.17</td>\n",
       "      <td>31.4</td>\n",
       "      <td>12900</td>\n",
       "      <td>16.10</td>\n",
       "      <td>76.5</td>\n",
       "      <td>2.89</td>\n",
       "      <td>4460</td>\n",
       "    </tr>\n",
       "    <tr>\n",
       "      <th>3</th>\n",
       "      <td>-2.932714</td>\n",
       "      <td>1.698771</td>\n",
       "      <td>1.525076</td>\n",
       "      <td>0.855595</td>\n",
       "      <td>-0.214778</td>\n",
       "      <td>Angola</td>\n",
       "      <td>4</td>\n",
       "      <td>119.0</td>\n",
       "      <td>62.3</td>\n",
       "      <td>2.85</td>\n",
       "      <td>42.9</td>\n",
       "      <td>5900</td>\n",
       "      <td>22.40</td>\n",
       "      <td>60.1</td>\n",
       "      <td>6.16</td>\n",
       "      <td>3530</td>\n",
       "    </tr>\n",
       "    <tr>\n",
       "      <th>4</th>\n",
       "      <td>1.033371</td>\n",
       "      <td>0.133853</td>\n",
       "      <td>-0.216699</td>\n",
       "      <td>-0.846638</td>\n",
       "      <td>-0.193186</td>\n",
       "      <td>Antigua and Barbuda</td>\n",
       "      <td>3</td>\n",
       "      <td>10.3</td>\n",
       "      <td>45.5</td>\n",
       "      <td>6.03</td>\n",
       "      <td>58.9</td>\n",
       "      <td>19100</td>\n",
       "      <td>1.44</td>\n",
       "      <td>76.8</td>\n",
       "      <td>2.13</td>\n",
       "      <td>12200</td>\n",
       "    </tr>\n",
       "  </tbody>\n",
       "</table>\n",
       "</div>"
      ],
      "text/plain": [
       "        PC1       PC2       PC3       PC4       PC5              country  \\\n",
       "0 -2.913000  0.091969 -0.721242  1.001838 -0.146765          Afghanistan   \n",
       "1  0.429870 -0.589373 -0.328611 -1.165014  0.153205              Albania   \n",
       "2 -0.285289 -0.452139  1.232051 -0.857767  0.191227              Algeria   \n",
       "3 -2.932714  1.698771  1.525076  0.855595 -0.214778               Angola   \n",
       "4  1.033371  0.133853 -0.216699 -0.846638 -0.193186  Antigua and Barbuda   \n",
       "\n",
       "   ClusterID  child_mort  exports  health  imports  income  inflation  \\\n",
       "0          2        90.2     10.0    7.58     44.9    1610       9.44   \n",
       "1          1        16.6     28.0    6.55     48.6    9930       4.49   \n",
       "2          1        27.3     38.4    4.17     31.4   12900      16.10   \n",
       "3          4       119.0     62.3    2.85     42.9    5900      22.40   \n",
       "4          3        10.3     45.5    6.03     58.9   19100       1.44   \n",
       "\n",
       "   life_expec  total_fer   gdpp  \n",
       "0        56.2       5.82    553  \n",
       "1        76.3       1.65   4090  \n",
       "2        76.5       2.89   4460  \n",
       "3        60.1       6.16   3530  \n",
       "4        76.8       2.13  12200  "
      ]
     },
     "execution_count": 275,
     "metadata": {},
     "output_type": "execute_result"
    }
   ],
   "source": [
    "country_data_pca_combined.head()"
   ]
  },
  {
   "cell_type": "code",
   "execution_count": 278,
   "metadata": {},
   "outputs": [],
   "source": [
    "#Calculating mean for all original variables in country data frame\n",
    "clusters_child_mort = \tpd.DataFrame(country_data_pca_combined.groupby([\"ClusterID\"]).child_mort.mean())\n",
    "clusters_exports = \tpd.DataFrame(country_data_pca_combined.groupby([\"ClusterID\"]).exports.mean())\n",
    "clusters_health = \tpd.DataFrame(country_data_pca_combined.groupby([\"ClusterID\"]).health.mean())\n",
    "clusters_imports = \tpd.DataFrame(country_data_pca_combined.groupby([\"ClusterID\"]).imports.mean())\n",
    "clusters_income = \tpd.DataFrame(country_data_pca_combined.groupby([\"ClusterID\"]).income.mean())\n",
    "clusters_inflation = \tpd.DataFrame(country_data_pca_combined.groupby([\"ClusterID\"]).inflation.mean())\n",
    "clusters_life_expec = \tpd.DataFrame(country_data_pca_combined.groupby([\"ClusterID\"]).life_expec.mean())\n",
    "clusters_total_fer = \tpd.DataFrame(country_data_pca_combined.groupby([\"ClusterID\"]).total_fer.mean())\n",
    "clusters_gdpp = \tpd.DataFrame(country_data_pca_combined.groupby([\"ClusterID\"]).gdpp.mean())"
   ]
  },
  {
   "cell_type": "code",
   "execution_count": 279,
   "metadata": {},
   "outputs": [
    {
     "data": {
      "text/html": [
       "<div>\n",
       "<style scoped>\n",
       "    .dataframe tbody tr th:only-of-type {\n",
       "        vertical-align: middle;\n",
       "    }\n",
       "\n",
       "    .dataframe tbody tr th {\n",
       "        vertical-align: top;\n",
       "    }\n",
       "\n",
       "    .dataframe thead th {\n",
       "        text-align: right;\n",
       "    }\n",
       "</style>\n",
       "<table border=\"1\" class=\"dataframe\">\n",
       "  <thead>\n",
       "    <tr style=\"text-align: right;\">\n",
       "      <th></th>\n",
       "      <th>ClusterID</th>\n",
       "      <th>child_mort_mean</th>\n",
       "      <th>exports_mean</th>\n",
       "      <th>health_mean</th>\n",
       "      <th>imports_mean</th>\n",
       "      <th>income_mean</th>\n",
       "      <th>inflation_mean</th>\n",
       "      <th>life_expec_mean</th>\n",
       "      <th>total_fer_mean</th>\n",
       "      <th>gdpp_mean</th>\n",
       "    </tr>\n",
       "  </thead>\n",
       "  <tbody>\n",
       "    <tr>\n",
       "      <th>0</th>\n",
       "      <td>0</td>\n",
       "      <td>4.469231</td>\n",
       "      <td>43.203846</td>\n",
       "      <td>9.773462</td>\n",
       "      <td>41.315385</td>\n",
       "      <td>38176.923077</td>\n",
       "      <td>1.279731</td>\n",
       "      <td>80.580769</td>\n",
       "      <td>1.761538</td>\n",
       "      <td>42326.923077</td>\n",
       "    </tr>\n",
       "    <tr>\n",
       "      <th>1</th>\n",
       "      <td>1</td>\n",
       "      <td>24.486486</td>\n",
       "      <td>27.615676</td>\n",
       "      <td>5.799189</td>\n",
       "      <td>33.086486</td>\n",
       "      <td>10825.945946</td>\n",
       "      <td>8.823946</td>\n",
       "      <td>73.043243</td>\n",
       "      <td>2.401622</td>\n",
       "      <td>5465.405405</td>\n",
       "    </tr>\n",
       "    <tr>\n",
       "      <th>2</th>\n",
       "      <td>2</td>\n",
       "      <td>111.010526</td>\n",
       "      <td>24.643158</td>\n",
       "      <td>7.268421</td>\n",
       "      <td>40.468421</td>\n",
       "      <td>1496.578947</td>\n",
       "      <td>8.797368</td>\n",
       "      <td>55.794737</td>\n",
       "      <td>5.607368</td>\n",
       "      <td>621.473684</td>\n",
       "    </tr>\n",
       "    <tr>\n",
       "      <th>3</th>\n",
       "      <td>3</td>\n",
       "      <td>15.550000</td>\n",
       "      <td>53.963158</td>\n",
       "      <td>6.780263</td>\n",
       "      <td>61.568421</td>\n",
       "      <td>14303.421053</td>\n",
       "      <td>4.363632</td>\n",
       "      <td>73.694737</td>\n",
       "      <td>2.055000</td>\n",
       "      <td>7699.105263</td>\n",
       "    </tr>\n",
       "    <tr>\n",
       "      <th>4</th>\n",
       "      <td>4</td>\n",
       "      <td>69.186957</td>\n",
       "      <td>38.373478</td>\n",
       "      <td>4.969130</td>\n",
       "      <td>42.030435</td>\n",
       "      <td>6725.217391</td>\n",
       "      <td>11.685217</td>\n",
       "      <td>63.304348</td>\n",
       "      <td>4.294348</td>\n",
       "      <td>3272.217391</td>\n",
       "    </tr>\n",
       "  </tbody>\n",
       "</table>\n",
       "</div>"
      ],
      "text/plain": [
       "   ClusterID  child_mort_mean  exports_mean  health_mean  imports_mean  \\\n",
       "0          0         4.469231     43.203846     9.773462     41.315385   \n",
       "1          1        24.486486     27.615676     5.799189     33.086486   \n",
       "2          2       111.010526     24.643158     7.268421     40.468421   \n",
       "3          3        15.550000     53.963158     6.780263     61.568421   \n",
       "4          4        69.186957     38.373478     4.969130     42.030435   \n",
       "\n",
       "    income_mean  inflation_mean  life_expec_mean  total_fer_mean     gdpp_mean  \n",
       "0  38176.923077        1.279731        80.580769        1.761538  42326.923077  \n",
       "1  10825.945946        8.823946        73.043243        2.401622   5465.405405  \n",
       "2   1496.578947        8.797368        55.794737        5.607368    621.473684  \n",
       "3  14303.421053        4.363632        73.694737        2.055000   7699.105263  \n",
       "4   6725.217391       11.685217        63.304348        4.294348   3272.217391  "
      ]
     },
     "execution_count": 279,
     "metadata": {},
     "output_type": "execute_result"
    }
   ],
   "source": [
    "#Forming a combined data frame with cluster ID's and all original variables mean.\n",
    "df_org_col_mean = pd.concat([pd.Series([0,1,2,3,4]), clusters_child_mort, clusters_exports, clusters_health,clusters_imports,clusters_income,clusters_inflation,clusters_life_expec,clusters_total_fer,clusters_gdpp], axis=1)\n",
    "df_org_col_mean.columns = [\"ClusterID\", \"child_mort_mean\", \"exports_mean\", \"health_mean\",\"imports_mean\",\"income_mean\",\"inflation_mean\",\"life_expec_mean\",\"total_fer_mean\",\"gdpp_mean\"]\n",
    "df_org_col_mean.head()"
   ]
  },
  {
   "cell_type": "code",
   "execution_count": 280,
   "metadata": {},
   "outputs": [
    {
     "data": {
      "text/html": [
       "<div>\n",
       "<style scoped>\n",
       "    .dataframe tbody tr th:only-of-type {\n",
       "        vertical-align: middle;\n",
       "    }\n",
       "\n",
       "    .dataframe tbody tr th {\n",
       "        vertical-align: top;\n",
       "    }\n",
       "\n",
       "    .dataframe thead th {\n",
       "        text-align: right;\n",
       "    }\n",
       "</style>\n",
       "<table border=\"1\" class=\"dataframe\">\n",
       "  <thead>\n",
       "    <tr style=\"text-align: right;\">\n",
       "      <th></th>\n",
       "      <th>ClusterID</th>\n",
       "      <th>child_mort_mean</th>\n",
       "      <th>exports_mean</th>\n",
       "      <th>health_mean</th>\n",
       "      <th>imports_mean</th>\n",
       "      <th>income_mean</th>\n",
       "      <th>inflation_mean</th>\n",
       "      <th>life_expec_mean</th>\n",
       "      <th>total_fer_mean</th>\n",
       "      <th>gdpp_mean</th>\n",
       "    </tr>\n",
       "  </thead>\n",
       "  <tbody>\n",
       "    <tr>\n",
       "      <th>0</th>\n",
       "      <td>0</td>\n",
       "      <td>4.469231</td>\n",
       "      <td>43.203846</td>\n",
       "      <td>9.773462</td>\n",
       "      <td>41.315385</td>\n",
       "      <td>38176.923077</td>\n",
       "      <td>1.279731</td>\n",
       "      <td>80.580769</td>\n",
       "      <td>1.761538</td>\n",
       "      <td>42326.923077</td>\n",
       "    </tr>\n",
       "    <tr>\n",
       "      <th>1</th>\n",
       "      <td>1</td>\n",
       "      <td>24.486486</td>\n",
       "      <td>27.615676</td>\n",
       "      <td>5.799189</td>\n",
       "      <td>33.086486</td>\n",
       "      <td>10825.945946</td>\n",
       "      <td>8.823946</td>\n",
       "      <td>73.043243</td>\n",
       "      <td>2.401622</td>\n",
       "      <td>5465.405405</td>\n",
       "    </tr>\n",
       "    <tr>\n",
       "      <th>2</th>\n",
       "      <td>2</td>\n",
       "      <td>111.010526</td>\n",
       "      <td>24.643158</td>\n",
       "      <td>7.268421</td>\n",
       "      <td>40.468421</td>\n",
       "      <td>1496.578947</td>\n",
       "      <td>8.797368</td>\n",
       "      <td>55.794737</td>\n",
       "      <td>5.607368</td>\n",
       "      <td>621.473684</td>\n",
       "    </tr>\n",
       "    <tr>\n",
       "      <th>3</th>\n",
       "      <td>3</td>\n",
       "      <td>15.550000</td>\n",
       "      <td>53.963158</td>\n",
       "      <td>6.780263</td>\n",
       "      <td>61.568421</td>\n",
       "      <td>14303.421053</td>\n",
       "      <td>4.363632</td>\n",
       "      <td>73.694737</td>\n",
       "      <td>2.055000</td>\n",
       "      <td>7699.105263</td>\n",
       "    </tr>\n",
       "    <tr>\n",
       "      <th>4</th>\n",
       "      <td>4</td>\n",
       "      <td>69.186957</td>\n",
       "      <td>38.373478</td>\n",
       "      <td>4.969130</td>\n",
       "      <td>42.030435</td>\n",
       "      <td>6725.217391</td>\n",
       "      <td>11.685217</td>\n",
       "      <td>63.304348</td>\n",
       "      <td>4.294348</td>\n",
       "      <td>3272.217391</td>\n",
       "    </tr>\n",
       "  </tbody>\n",
       "</table>\n",
       "</div>"
      ],
      "text/plain": [
       "   ClusterID  child_mort_mean  exports_mean  health_mean  imports_mean  \\\n",
       "0          0         4.469231     43.203846     9.773462     41.315385   \n",
       "1          1        24.486486     27.615676     5.799189     33.086486   \n",
       "2          2       111.010526     24.643158     7.268421     40.468421   \n",
       "3          3        15.550000     53.963158     6.780263     61.568421   \n",
       "4          4        69.186957     38.373478     4.969130     42.030435   \n",
       "\n",
       "    income_mean  inflation_mean  life_expec_mean  total_fer_mean     gdpp_mean  \n",
       "0  38176.923077        1.279731        80.580769        1.761538  42326.923077  \n",
       "1  10825.945946        8.823946        73.043243        2.401622   5465.405405  \n",
       "2   1496.578947        8.797368        55.794737        5.607368    621.473684  \n",
       "3  14303.421053        4.363632        73.694737        2.055000   7699.105263  \n",
       "4   6725.217391       11.685217        63.304348        4.294348   3272.217391  "
      ]
     },
     "execution_count": 280,
     "metadata": {},
     "output_type": "execute_result"
    }
   ],
   "source": [
    "#Inspecting mean data frame for original columns corresponding to 5 clusters formed.\n",
    "df_org_col_mean"
   ]
  },
  {
   "cell_type": "code",
   "execution_count": 297,
   "metadata": {},
   "outputs": [
    {
     "data": {
      "image/png": "[encoded data removed]",
      "text/plain": [
       "<Figure size 1440x1440 with 9 Axes>"
      ]
     },
     "metadata": {},
     "output_type": "display_data"
    }
   ],
   "source": [
    "#Mean analysis of all original columns.\n",
    "#Plotting all original variables grouped by clusters\n",
    "plt.figure(figsize=(20,20))\n",
    "\n",
    "plt.subplot(3, 3, 1)\n",
    "sns.barplot(x=df_org_col_mean.ClusterID, y=df_org_col_mean.child_mort_mean)\n",
    "\n",
    "plt.subplot(3, 3, 2)\n",
    "sns.barplot(x=df_org_col_mean.ClusterID, y=df_org_col_mean.exports_mean)\n",
    "\n",
    "plt.subplot(3, 3, 3)\n",
    "sns.barplot(x=df_org_col_mean.ClusterID, y=df_org_col_mean.health_mean)\n",
    "\n",
    "plt.subplot(3, 3, 4)\n",
    "sns.barplot(x=df_org_col_mean.ClusterID, y=df_org_col_mean.imports_mean)\n",
    "\n",
    "plt.subplot(3, 3, 5)\n",
    "sns.barplot(x=df_org_col_mean.ClusterID, y=df_org_col_mean.income_mean)\n",
    "\n",
    "plt.subplot(3, 3, 6)\n",
    "sns.barplot(x=df_org_col_mean.ClusterID, y=df_org_col_mean.inflation_mean)\n",
    "\n",
    "plt.subplot(3, 3, 7)\n",
    "sns.barplot(x=df_org_col_mean.ClusterID, y=df_org_col_mean.life_expec_mean)\n",
    "\n",
    "plt.subplot(3, 3, 8)\n",
    "sns.barplot(x=df_org_col_mean.ClusterID, y=df_org_col_mean.total_fer_mean)\n",
    "\n",
    "plt.subplot(3, 3, 9)\n",
    "sns.barplot(x=df_org_col_mean.ClusterID, y=df_org_col_mean.gdpp_mean)\n",
    "plt.show()\n",
    "\n",
    "#From below plotted graphs we can identify child_mortality_Rate holds visible variance among 5 clusters hence its an\n",
    "#immportant parameter to consider.\n",
    "#Mean income also has high variance among all 5 clusters , highest in cluster1 and lowest in cluster 2.\n",
    "#Inflation should be considered as it is lowest in cluster 0 but considerabliy high in cluster 2 and cluster 4.\n",
    "#Total_feritlity_rate is highest in cluster 2 and lowest in cluster 0.\n",
    "#GDPP in lowest in cluster 2 and highest in cluster 0 , hence we need to put in some investments in cluster 2."
   ]
  },
  {
   "cell_type": "code",
   "execution_count": 295,
   "metadata": {},
   "outputs": [
    {
     "data": {
      "image/png": "[encoded data removed]",
      "text/plain": [
       "<Figure size 1440x1440 with 5 Axes>"
      ]
     },
     "metadata": {},
     "output_type": "display_data"
    }
   ],
   "source": [
    "#Plotting all principal components grouped by clusters\n",
    "#Mean anaalysis of all 5 principal components.\n",
    "plt.figure(figsize=(20,20))\n",
    "\n",
    "plt.subplot(3, 3, 1)\n",
    "sns.barplot(x=df_pca_mean_hc.ClusterID, y=df_pca_mean_hc.PC1_mean)\n",
    "\n",
    "plt.subplot(3, 3, 2)\n",
    "sns.barplot(x=df_pca_mean_hc.ClusterID, y=df_pca_mean_hc.PC2_mean)\n",
    "\n",
    "plt.subplot(3, 3, 3)\n",
    "sns.barplot(x=df_pca_mean_hc.ClusterID, y=df_pca_mean_hc.PC3_mean)\n",
    "\n",
    "plt.subplot(3, 3, 4)\n",
    "sns.barplot(x=df_pca_mean_hc.ClusterID, y=df_pca_mean_hc.PC4_mean)\n",
    "\n",
    "plt.subplot(3, 3, 5)\n",
    "sns.barplot(x=df_pca_mean_hc.ClusterID, y=df_pca_mean_hc.PC5_mean)\n",
    "\n",
    "plt.show()\n",
    "\n",
    "#PC1 is highest in cluster0 and lowest in cluster2 , can be considered as a linear combination of income,life_expec and gdpp\n",
    "#which are lowest in cluster2 and highest in cluster0.\n",
    "#PC2 is lowest in cluster 0 and considerably high in cluster 2/3/4 which can correspond to inflation.\n",
    "#PC3 holds lowest value in cluster2.\n",
    "#PC4 holds highest value in cluster2 which can be realted to high child_mortality_rate in cluster2.\n",
    "#PC5 lowest in cluster2 can correspond to low exports."
   ]
  },
  {
   "cell_type": "code",
   "execution_count": 300,
   "metadata": {},
   "outputs": [],
   "source": [
    "country_data_pca_combined.to_excel(\"Country_clusters.xlsx\")"
   ]
  }
 ],
 "metadata": {
  "kernelspec": {
   "display_name": "Python 3",
   "language": "python",
   "name": "python3"
  },
  "language_info": {
   "codemirror_mode": {
    "name": "ipython",
    "version": 3
   },
   "file_extension": ".py",
   "mimetype": "text/x-python",
   "name": "python",
   "nbconvert_exporter": "python",
   "pygments_lexer": "ipython3",
   "version": "3.6.5"
  }
 },
 "nbformat": 4,
 "nbformat_minor": 2
}
