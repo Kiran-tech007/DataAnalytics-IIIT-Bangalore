{
 "cells": [
  {
   "cell_type": "markdown",
   "metadata": {},
   "source": [
    "### Understanding the data"
   ]
  },
  {
   "cell_type": "code",
   "execution_count": 388,
   "metadata": {},
   "outputs": [],
   "source": [
    "#Importing the required libraries\n",
    "import pandas as pd\n",
    "import numpy as np\n",
    "import matplotlib.pyplot as plt\n",
    "import seaborn as sns\n",
    "%matplotlib inline\n",
    "# To ignore warnings\n",
    "import warnings\n",
    "warnings.filterwarnings(\"ignore\")"
   ]
  },
  {
   "cell_type": "code",
   "execution_count": 389,
   "metadata": {},
   "outputs": [],
   "source": [
    "#Uploading the data\n",
    "telecom_data=pd.read_csv(\"telecom_churn_data.csv\")"
   ]
  },
  {
   "cell_type": "code",
   "execution_count": 390,
   "metadata": {},
   "outputs": [
    {
     "data": {
      "text/html": [
       "<div>\n",
       "<style scoped>\n",
       "    .dataframe tbody tr th:only-of-type {\n",
       "        vertical-align: middle;\n",
       "    }\n",
       "\n",
       "    .dataframe tbody tr th {\n",
       "        vertical-align: top;\n",
       "    }\n",
       "\n",
       "    .dataframe thead th {\n",
       "        text-align: right;\n",
       "    }\n",
       "</style>\n",
       "<table border=\"1\" class=\"dataframe\">\n",
       "  <thead>\n",
       "    <tr style=\"text-align: right;\">\n",
       "      <th></th>\n",
       "      <th>mobile_number</th>\n",
       "      <th>circle_id</th>\n",
       "      <th>loc_og_t2o_mou</th>\n",
       "      <th>std_og_t2o_mou</th>\n",
       "      <th>loc_ic_t2o_mou</th>\n",
       "      <th>last_date_of_month_6</th>\n",
       "      <th>last_date_of_month_7</th>\n",
       "      <th>last_date_of_month_8</th>\n",
       "      <th>last_date_of_month_9</th>\n",
       "      <th>arpu_6</th>\n",
       "      <th>...</th>\n",
       "      <th>sachet_3g_9</th>\n",
       "      <th>fb_user_6</th>\n",
       "      <th>fb_user_7</th>\n",
       "      <th>fb_user_8</th>\n",
       "      <th>fb_user_9</th>\n",
       "      <th>aon</th>\n",
       "      <th>aug_vbc_3g</th>\n",
       "      <th>jul_vbc_3g</th>\n",
       "      <th>jun_vbc_3g</th>\n",
       "      <th>sep_vbc_3g</th>\n",
       "    </tr>\n",
       "  </thead>\n",
       "  <tbody>\n",
       "    <tr>\n",
       "      <th>0</th>\n",
       "      <td>7000842753</td>\n",
       "      <td>109</td>\n",
       "      <td>0.0</td>\n",
       "      <td>0.0</td>\n",
       "      <td>0.0</td>\n",
       "      <td>6/30/2014</td>\n",
       "      <td>7/31/2014</td>\n",
       "      <td>8/31/2014</td>\n",
       "      <td>9/30/2014</td>\n",
       "      <td>197.385</td>\n",
       "      <td>...</td>\n",
       "      <td>0</td>\n",
       "      <td>1.0</td>\n",
       "      <td>1.0</td>\n",
       "      <td>1.0</td>\n",
       "      <td>NaN</td>\n",
       "      <td>968</td>\n",
       "      <td>30.4</td>\n",
       "      <td>0.0</td>\n",
       "      <td>101.20</td>\n",
       "      <td>3.58</td>\n",
       "    </tr>\n",
       "    <tr>\n",
       "      <th>1</th>\n",
       "      <td>7001865778</td>\n",
       "      <td>109</td>\n",
       "      <td>0.0</td>\n",
       "      <td>0.0</td>\n",
       "      <td>0.0</td>\n",
       "      <td>6/30/2014</td>\n",
       "      <td>7/31/2014</td>\n",
       "      <td>8/31/2014</td>\n",
       "      <td>9/30/2014</td>\n",
       "      <td>34.047</td>\n",
       "      <td>...</td>\n",
       "      <td>0</td>\n",
       "      <td>NaN</td>\n",
       "      <td>1.0</td>\n",
       "      <td>1.0</td>\n",
       "      <td>NaN</td>\n",
       "      <td>1006</td>\n",
       "      <td>0.0</td>\n",
       "      <td>0.0</td>\n",
       "      <td>0.00</td>\n",
       "      <td>0.00</td>\n",
       "    </tr>\n",
       "    <tr>\n",
       "      <th>2</th>\n",
       "      <td>7001625959</td>\n",
       "      <td>109</td>\n",
       "      <td>0.0</td>\n",
       "      <td>0.0</td>\n",
       "      <td>0.0</td>\n",
       "      <td>6/30/2014</td>\n",
       "      <td>7/31/2014</td>\n",
       "      <td>8/31/2014</td>\n",
       "      <td>9/30/2014</td>\n",
       "      <td>167.690</td>\n",
       "      <td>...</td>\n",
       "      <td>0</td>\n",
       "      <td>NaN</td>\n",
       "      <td>NaN</td>\n",
       "      <td>NaN</td>\n",
       "      <td>1.0</td>\n",
       "      <td>1103</td>\n",
       "      <td>0.0</td>\n",
       "      <td>0.0</td>\n",
       "      <td>4.17</td>\n",
       "      <td>0.00</td>\n",
       "    </tr>\n",
       "    <tr>\n",
       "      <th>3</th>\n",
       "      <td>7001204172</td>\n",
       "      <td>109</td>\n",
       "      <td>0.0</td>\n",
       "      <td>0.0</td>\n",
       "      <td>0.0</td>\n",
       "      <td>6/30/2014</td>\n",
       "      <td>7/31/2014</td>\n",
       "      <td>8/31/2014</td>\n",
       "      <td>9/30/2014</td>\n",
       "      <td>221.338</td>\n",
       "      <td>...</td>\n",
       "      <td>0</td>\n",
       "      <td>NaN</td>\n",
       "      <td>NaN</td>\n",
       "      <td>NaN</td>\n",
       "      <td>NaN</td>\n",
       "      <td>2491</td>\n",
       "      <td>0.0</td>\n",
       "      <td>0.0</td>\n",
       "      <td>0.00</td>\n",
       "      <td>0.00</td>\n",
       "    </tr>\n",
       "    <tr>\n",
       "      <th>4</th>\n",
       "      <td>7000142493</td>\n",
       "      <td>109</td>\n",
       "      <td>0.0</td>\n",
       "      <td>0.0</td>\n",
       "      <td>0.0</td>\n",
       "      <td>6/30/2014</td>\n",
       "      <td>7/31/2014</td>\n",
       "      <td>8/31/2014</td>\n",
       "      <td>9/30/2014</td>\n",
       "      <td>261.636</td>\n",
       "      <td>...</td>\n",
       "      <td>0</td>\n",
       "      <td>0.0</td>\n",
       "      <td>NaN</td>\n",
       "      <td>NaN</td>\n",
       "      <td>NaN</td>\n",
       "      <td>1526</td>\n",
       "      <td>0.0</td>\n",
       "      <td>0.0</td>\n",
       "      <td>0.00</td>\n",
       "      <td>0.00</td>\n",
       "    </tr>\n",
       "  </tbody>\n",
       "</table>\n",
       "<p>5 rows × 226 columns</p>\n",
       "</div>"
      ],
      "text/plain": [
       "   mobile_number  circle_id  loc_og_t2o_mou  std_og_t2o_mou  loc_ic_t2o_mou  \\\n",
       "0     7000842753        109             0.0             0.0             0.0   \n",
       "1     7001865778        109             0.0             0.0             0.0   \n",
       "2     7001625959        109             0.0             0.0             0.0   \n",
       "3     7001204172        109             0.0             0.0             0.0   \n",
       "4     7000142493        109             0.0             0.0             0.0   \n",
       "\n",
       "  last_date_of_month_6 last_date_of_month_7 last_date_of_month_8  \\\n",
       "0            6/30/2014            7/31/2014            8/31/2014   \n",
       "1            6/30/2014            7/31/2014            8/31/2014   \n",
       "2            6/30/2014            7/31/2014            8/31/2014   \n",
       "3            6/30/2014            7/31/2014            8/31/2014   \n",
       "4            6/30/2014            7/31/2014            8/31/2014   \n",
       "\n",
       "  last_date_of_month_9   arpu_6     ...      sachet_3g_9  fb_user_6  \\\n",
       "0            9/30/2014  197.385     ...                0        1.0   \n",
       "1            9/30/2014   34.047     ...                0        NaN   \n",
       "2            9/30/2014  167.690     ...                0        NaN   \n",
       "3            9/30/2014  221.338     ...                0        NaN   \n",
       "4            9/30/2014  261.636     ...                0        0.0   \n",
       "\n",
       "   fb_user_7  fb_user_8  fb_user_9   aon  aug_vbc_3g  jul_vbc_3g  jun_vbc_3g  \\\n",
       "0        1.0        1.0        NaN   968        30.4         0.0      101.20   \n",
       "1        1.0        1.0        NaN  1006         0.0         0.0        0.00   \n",
       "2        NaN        NaN        1.0  1103         0.0         0.0        4.17   \n",
       "3        NaN        NaN        NaN  2491         0.0         0.0        0.00   \n",
       "4        NaN        NaN        NaN  1526         0.0         0.0        0.00   \n",
       "\n",
       "   sep_vbc_3g  \n",
       "0        3.58  \n",
       "1        0.00  \n",
       "2        0.00  \n",
       "3        0.00  \n",
       "4        0.00  \n",
       "\n",
       "[5 rows x 226 columns]"
      ]
     },
     "execution_count": 390,
     "metadata": {},
     "output_type": "execute_result"
    }
   ],
   "source": [
    "telecom_data.head()"
   ]
  },
  {
   "cell_type": "code",
   "execution_count": 391,
   "metadata": {},
   "outputs": [
    {
     "name": "stdout",
     "output_type": "stream",
     "text": [
      "<class 'pandas.core.frame.DataFrame'>\n",
      "RangeIndex: 99999 entries, 0 to 99998\n",
      "Columns: 226 entries, mobile_number to sep_vbc_3g\n",
      "dtypes: float64(179), int64(35), object(12)\n",
      "memory usage: 172.4+ MB\n"
     ]
    }
   ],
   "source": [
    "telecom_data.info()"
   ]
  },
  {
   "cell_type": "code",
   "execution_count": 392,
   "metadata": {},
   "outputs": [
    {
     "data": {
      "text/plain": [
       "(99999, 226)"
      ]
     },
     "execution_count": 392,
     "metadata": {},
     "output_type": "execute_result"
    }
   ],
   "source": [
    "telecom_data.shape"
   ]
  },
  {
   "cell_type": "markdown",
   "metadata": {},
   "source": [
    "### Imputing and deriving new metrics"
   ]
  },
  {
   "cell_type": "code",
   "execution_count": 393,
   "metadata": {},
   "outputs": [],
   "source": [
    "#Imputing NaN values with 0 for totat recharge amounnt of data and voice calls\n",
    "telecom_data['av_rech_amt_data_6'].fillna(0,inplace=True)\n",
    "telecom_data['av_rech_amt_data_7'].fillna(0,inplace=True)\n",
    "telecom_data['total_rech_amt_7'].fillna(0,inplace=True)\n",
    "telecom_data['total_rech_amt_6'].fillna(0,inplace=True)"
   ]
  },
  {
   "cell_type": "code",
   "execution_count": 394,
   "metadata": {},
   "outputs": [],
   "source": [
    "#Imputing NaN values with 0 for totat no of recharges for data\n",
    "telecom_data['total_rech_data_7'].fillna(0,inplace=True)\n",
    "telecom_data['total_rech_data_6'].fillna(0,inplace=True)"
   ]
  },
  {
   "cell_type": "code",
   "execution_count": 395,
   "metadata": {},
   "outputs": [],
   "source": [
    "#Step1 : Deriving new metrics\n",
    "#Calculating total recharge amount for data\n",
    "telecom_data['total_rech_data_amt_7'] = telecom_data['av_rech_amt_data_7'] * telecom_data['total_rech_data_7']\n",
    "telecom_data['total_rech_data_amt_6'] = telecom_data['av_rech_amt_data_6'] * telecom_data['total_rech_data_6']"
   ]
  },
  {
   "cell_type": "code",
   "execution_count": 396,
   "metadata": {},
   "outputs": [],
   "source": [
    "#Step2 : Filtering hig value customers\n",
    "#Calculating average amount of total recharge done for both Jun(6) and July(7)\n",
    "telecom_data['avg_rech_6_7'] = (telecom_data['total_rech_data_amt_7'] + telecom_data['total_rech_data_amt_6'] + telecom_data['total_rech_amt_6'] + telecom_data['total_rech_amt_7'])/4"
   ]
  },
  {
   "cell_type": "code",
   "execution_count": 397,
   "metadata": {},
   "outputs": [
    {
     "data": {
      "text/plain": [
       "0    279.50\n",
       "1    153.00\n",
       "2    120.75\n",
       "3    135.00\n",
       "4    150.50\n",
       "Name: avg_rech_6_7, dtype: float64"
      ]
     },
     "execution_count": 397,
     "metadata": {},
     "output_type": "execute_result"
    }
   ],
   "source": [
    "#Inspecting average recharge amount\n",
    "telecom_data['avg_rech_6_7'].head()"
   ]
  },
  {
   "cell_type": "code",
   "execution_count": 398,
   "metadata": {},
   "outputs": [],
   "source": [
    "#Filtering out high value customers who have done average recharge greater than or equal to 70th percentile of average amount of June and July\n",
    "telecom_data_high_cust = telecom_data[(telecom_data['avg_rech_6_7'] >= round(np.percentile(telecom_data['avg_rech_6_7'],70),2))]"
   ]
  },
  {
   "cell_type": "code",
   "execution_count": 399,
   "metadata": {},
   "outputs": [
    {
     "data": {
      "text/plain": [
       "(30001, 229)"
      ]
     },
     "execution_count": 399,
     "metadata": {},
     "output_type": "execute_result"
    }
   ],
   "source": [
    "#Inspecting final data frame of high value customers\n",
    "telecom_data_high_cust.shape\n",
    "\n",
    "#We got total 30001 high value customers which is very close to 29.9k customers as mentioned in problem statement"
   ]
  },
  {
   "cell_type": "code",
   "execution_count": 400,
   "metadata": {},
   "outputs": [
    {
     "data": {
      "text/plain": [
       "0"
      ]
     },
     "execution_count": 400,
     "metadata": {},
     "output_type": "execute_result"
    }
   ],
   "source": [
    "#Step3 : Tag churners and remove attributes of the churn phase\n",
    "\n",
    "#Inspecting null values for total incomming for month of August\n",
    "telecom_data_high_cust['total_ic_mou_9'].isna().sum()"
   ]
  },
  {
   "cell_type": "code",
   "execution_count": 401,
   "metadata": {},
   "outputs": [
    {
     "data": {
      "text/plain": [
       "0"
      ]
     },
     "execution_count": 401,
     "metadata": {},
     "output_type": "execute_result"
    }
   ],
   "source": [
    "#Inspecting null values for total outgoing for month of August\n",
    "telecom_data_high_cust['total_og_mou_9'].isna().sum()"
   ]
  },
  {
   "cell_type": "code",
   "execution_count": 402,
   "metadata": {},
   "outputs": [
    {
     "data": {
      "text/plain": [
       "0"
      ]
     },
     "execution_count": 402,
     "metadata": {},
     "output_type": "execute_result"
    }
   ],
   "source": [
    "#Inspecting null values for usage of 2g mobile data for month of August\n",
    "telecom_data_high_cust['vol_2g_mb_9'].isna().sum()"
   ]
  },
  {
   "cell_type": "code",
   "execution_count": 403,
   "metadata": {},
   "outputs": [
    {
     "data": {
      "text/plain": [
       "0"
      ]
     },
     "execution_count": 403,
     "metadata": {},
     "output_type": "execute_result"
    }
   ],
   "source": [
    "#Inspecting null values for usage of 3g mobile data for month of August\n",
    "telecom_data_high_cust['vol_3g_mb_9'].isna().sum()"
   ]
  },
  {
   "cell_type": "code",
   "execution_count": 404,
   "metadata": {},
   "outputs": [],
   "source": [
    "#Creating a custom function to tag customers as churn =1/0 based on certain criteria\n",
    "def isChurn(x):\n",
    "    if x['total_ic_mou_9'] == 0 and x['total_og_mou_9'] == 0 and x['vol_2g_mb_9'] == 0 and x['vol_3g_mb_9'] == 0:\n",
    "        return 1\n",
    "    else:\n",
    "        return 0"
   ]
  },
  {
   "cell_type": "code",
   "execution_count": 405,
   "metadata": {},
   "outputs": [],
   "source": [
    "#Tagging customers as churn/Not churn by applying above custom function\n",
    "telecom_data_high_cust['churn'] = telecom_data_high_cust.apply(isChurn,axis=1)"
   ]
  },
  {
   "cell_type": "code",
   "execution_count": 406,
   "metadata": {},
   "outputs": [
    {
     "name": "stdout",
     "output_type": "stream",
     "text": [
      "0.08136395453484883\n"
     ]
    },
    {
     "data": {
      "text/plain": [
       "0    27560\n",
       "1     2441\n",
       "Name: churn, dtype: int64"
      ]
     },
     "execution_count": 406,
     "metadata": {},
     "output_type": "execute_result"
    }
   ],
   "source": [
    "#Inspecting the total count of churned and not churned customers\n",
    "print((telecom_data_high_cust['churn'].sum())/len(telecom_data_high_cust.index))\n",
    "telecom_data_high_cust['churn'].value_counts()\n",
    "\n",
    "#We can conclude that we have total 2.4k churned customers."
   ]
  },
  {
   "cell_type": "markdown",
   "metadata": {},
   "source": [
    "#### There is clearly a class imbalance which could effect our model"
   ]
  },
  {
   "cell_type": "code",
   "execution_count": 407,
   "metadata": {
    "scrolled": true
   },
   "outputs": [],
   "source": [
    "#Removing attrbiutes from final data frame for churn phase( with _9 suffix)\n",
    "telecom_data_high_cust.drop([col for col in telecom_data_high_cust.columns if \"_9\" in col], axis=1, inplace=True)"
   ]
  },
  {
   "cell_type": "code",
   "execution_count": 408,
   "metadata": {},
   "outputs": [
    {
     "data": {
      "text/plain": [
       "Index(['mobile_number', 'circle_id', 'loc_og_t2o_mou', 'std_og_t2o_mou',\n",
       "       'loc_ic_t2o_mou', 'last_date_of_month_6', 'last_date_of_month_7',\n",
       "       'last_date_of_month_8', 'arpu_6', 'arpu_7',\n",
       "       ...\n",
       "       'fb_user_8', 'aon', 'aug_vbc_3g', 'jul_vbc_3g', 'jun_vbc_3g',\n",
       "       'sep_vbc_3g', 'total_rech_data_amt_7', 'total_rech_data_amt_6',\n",
       "       'avg_rech_6_7', 'churn'],\n",
       "      dtype='object', length=176)"
      ]
     },
     "execution_count": 408,
     "metadata": {},
     "output_type": "execute_result"
    }
   ],
   "source": [
    "telecom_data_high_cust.columns"
   ]
  },
  {
   "cell_type": "code",
   "execution_count": 409,
   "metadata": {
    "scrolled": true
   },
   "outputs": [
    {
     "data": {
      "text/plain": [
       "night_pck_user_8            47.0\n",
       "fb_user_8                   47.0\n",
       "count_rech_2g_8             47.0\n",
       "count_rech_3g_8             47.0\n",
       "total_rech_data_8           47.0\n",
       "av_rech_amt_data_8          47.0\n",
       "date_of_last_rech_data_8    47.0\n",
       "arpu_3g_8                   47.0\n",
       "arpu_2g_8                   47.0\n",
       "max_rech_data_8             47.0\n",
       "arpu_2g_6                   44.0\n",
       "count_rech_2g_6             44.0\n",
       "count_rech_3g_6             44.0\n",
       "max_rech_data_6             44.0\n",
       "date_of_last_rech_data_6    44.0\n",
       "arpu_3g_6                   44.0\n",
       "fb_user_6                   44.0\n",
       "night_pck_user_6            44.0\n",
       "night_pck_user_7            43.0\n",
       "count_rech_2g_7             43.0\n",
       "count_rech_3g_7             43.0\n",
       "date_of_last_rech_data_7    43.0\n",
       "arpu_3g_7                   43.0\n",
       "arpu_2g_7                   43.0\n",
       "fb_user_7                   43.0\n",
       "max_rech_data_7             43.0\n",
       "std_og_t2t_mou_8             4.0\n",
       "loc_ic_mou_8                 4.0\n",
       "std_ic_t2t_mou_8             4.0\n",
       "isd_og_mou_8                 4.0\n",
       "                            ... \n",
       "sep_vbc_3g                   0.0\n",
       "total_rech_data_amt_7        0.0\n",
       "total_rech_data_amt_6        0.0\n",
       "vol_2g_mb_8                  0.0\n",
       "vol_2g_mb_6                  0.0\n",
       "total_og_mou_7               0.0\n",
       "total_rech_amt_8             0.0\n",
       "total_og_mou_8               0.0\n",
       "avg_rech_6_7                 0.0\n",
       "total_ic_mou_6               0.0\n",
       "total_ic_mou_7               0.0\n",
       "total_ic_mou_8               0.0\n",
       "total_rech_num_6             0.0\n",
       "total_rech_num_7             0.0\n",
       "total_rech_num_8             0.0\n",
       "total_rech_amt_6             0.0\n",
       "total_rech_amt_7             0.0\n",
       "max_rech_amt_6               0.0\n",
       "av_rech_amt_data_7           0.0\n",
       "max_rech_amt_7               0.0\n",
       "max_rech_amt_8               0.0\n",
       "date_of_last_rech_6          0.0\n",
       "date_of_last_rech_7          0.0\n",
       "last_day_rch_amt_6           0.0\n",
       "last_day_rch_amt_7           0.0\n",
       "last_day_rch_amt_8           0.0\n",
       "total_rech_data_6            0.0\n",
       "total_rech_data_7            0.0\n",
       "av_rech_amt_data_6           0.0\n",
       "mobile_number                0.0\n",
       "Length: 176, dtype: float64"
      ]
     },
     "execution_count": 409,
     "metadata": {},
     "output_type": "execute_result"
    }
   ],
   "source": [
    "# Inspecting the null values in the filtered data\n",
    "round(100*(telecom_data_high_cust.isnull().sum()/len(telecom_data_high_cust.index))).sort_values(ascending=False)"
   ]
  },
  {
   "cell_type": "code",
   "execution_count": 410,
   "metadata": {},
   "outputs": [],
   "source": [
    "#Removing date columns as they hold any relevance in predicting the churn\n",
    "telecom_data_high_cust.drop([col for col in telecom_data_high_cust.columns if \"date\" in col], axis=1, inplace=True)"
   ]
  },
  {
   "cell_type": "code",
   "execution_count": 411,
   "metadata": {},
   "outputs": [
    {
     "data": {
      "text/plain": [
       "count_rech_3g_8          47.0\n",
       "max_rech_data_8          47.0\n",
       "av_rech_amt_data_8       47.0\n",
       "count_rech_2g_8          47.0\n",
       "total_rech_data_8        47.0\n",
       "night_pck_user_8         47.0\n",
       "arpu_3g_8                47.0\n",
       "fb_user_8                47.0\n",
       "arpu_2g_8                47.0\n",
       "max_rech_data_6          44.0\n",
       "arpu_2g_6                44.0\n",
       "night_pck_user_6         44.0\n",
       "fb_user_6                44.0\n",
       "arpu_3g_6                44.0\n",
       "count_rech_3g_6          44.0\n",
       "count_rech_2g_6          44.0\n",
       "arpu_2g_7                43.0\n",
       "count_rech_2g_7          43.0\n",
       "fb_user_7                43.0\n",
       "night_pck_user_7         43.0\n",
       "arpu_3g_7                43.0\n",
       "max_rech_data_7          43.0\n",
       "count_rech_3g_7          43.0\n",
       "loc_og_mou_8              4.0\n",
       "loc_og_t2f_mou_8          4.0\n",
       "loc_ic_mou_8              4.0\n",
       "loc_og_t2c_mou_8          4.0\n",
       "std_og_mou_8              4.0\n",
       "std_ic_t2t_mou_8          4.0\n",
       "std_og_t2t_mou_8          4.0\n",
       "                         ... \n",
       "jun_vbc_3g                0.0\n",
       "sep_vbc_3g                0.0\n",
       "total_rech_data_amt_7     0.0\n",
       "total_rech_data_amt_6     0.0\n",
       "vol_3g_mb_6               0.0\n",
       "vol_2g_mb_7               0.0\n",
       "total_og_mou_7            0.0\n",
       "vol_2g_mb_6               0.0\n",
       "total_og_mou_8            0.0\n",
       "avg_rech_6_7              0.0\n",
       "total_ic_mou_6            0.0\n",
       "total_ic_mou_7            0.0\n",
       "total_ic_mou_8            0.0\n",
       "total_rech_num_6          0.0\n",
       "total_rech_num_7          0.0\n",
       "total_rech_num_8          0.0\n",
       "total_rech_amt_6          0.0\n",
       "total_rech_amt_7          0.0\n",
       "total_rech_amt_8          0.0\n",
       "max_rech_amt_6            0.0\n",
       "max_rech_amt_7            0.0\n",
       "max_rech_amt_8            0.0\n",
       "last_day_rch_amt_6        0.0\n",
       "last_day_rch_amt_7        0.0\n",
       "last_day_rch_amt_8        0.0\n",
       "total_rech_data_6         0.0\n",
       "total_rech_data_7         0.0\n",
       "av_rech_amt_data_6        0.0\n",
       "av_rech_amt_data_7        0.0\n",
       "mobile_number             0.0\n",
       "Length: 167, dtype: float64"
      ]
     },
     "execution_count": 411,
     "metadata": {},
     "output_type": "execute_result"
    }
   ],
   "source": [
    "# Inspecting the null values in the filtered data\n",
    "round(100*(telecom_data_high_cust.isnull().sum()/len(telecom_data_high_cust.index))).sort_values(ascending=False)"
   ]
  },
  {
   "cell_type": "code",
   "execution_count": 412,
   "metadata": {},
   "outputs": [],
   "source": [
    "# Removing the columns with more than 30% missing data\n",
    "telecom_data_high_cust=telecom_data_high_cust.loc[:,round(100*(telecom_data_high_cust.isnull().sum()/len(telecom_data_high_cust.index))).sort_values(ascending=False)<30]"
   ]
  },
  {
   "cell_type": "code",
   "execution_count": 413,
   "metadata": {
    "scrolled": true
   },
   "outputs": [
    {
     "data": {
      "text/plain": [
       "loc_ic_t2f_mou_8          True\n",
       "std_ic_t2f_mou_8          True\n",
       "std_og_t2t_mou_8          True\n",
       "loc_og_t2c_mou_8          True\n",
       "loc_ic_mou_8              True\n",
       "loc_og_t2f_mou_8          True\n",
       "std_ic_t2m_mou_8          True\n",
       "std_ic_mou_8              True\n",
       "loc_og_t2m_mou_8          True\n",
       "std_og_t2m_mou_8          True\n",
       "loc_og_t2t_mou_8          True\n",
       "loc_ic_t2m_mou_8          True\n",
       "ic_others_8               True\n",
       "roam_og_mou_8             True\n",
       "std_ic_t2t_mou_8          True\n",
       "roam_ic_mou_8             True\n",
       "loc_ic_t2t_mou_8          True\n",
       "isd_ic_mou_8              True\n",
       "og_others_8               True\n",
       "std_og_t2f_mou_8          True\n",
       "isd_og_mou_8              True\n",
       "std_ic_t2o_mou_8          True\n",
       "spl_og_mou_8              True\n",
       "offnet_mou_8              True\n",
       "spl_ic_mou_8              True\n",
       "onnet_mou_8               True\n",
       "std_og_mou_8              True\n",
       "std_og_t2c_mou_8          True\n",
       "loc_og_mou_8              True\n",
       "std_ic_t2f_mou_6          True\n",
       "                         ...  \n",
       "jun_vbc_3g               False\n",
       "sep_vbc_3g               False\n",
       "total_rech_data_amt_7    False\n",
       "total_rech_data_amt_6    False\n",
       "vol_3g_mb_6              False\n",
       "vol_2g_mb_7              False\n",
       "total_og_mou_7           False\n",
       "vol_2g_mb_6              False\n",
       "total_og_mou_8           False\n",
       "avg_rech_6_7             False\n",
       "total_ic_mou_6           False\n",
       "total_ic_mou_7           False\n",
       "total_ic_mou_8           False\n",
       "total_rech_num_6         False\n",
       "total_rech_num_7         False\n",
       "total_rech_num_8         False\n",
       "total_rech_amt_6         False\n",
       "total_rech_amt_7         False\n",
       "total_rech_amt_8         False\n",
       "max_rech_amt_6           False\n",
       "max_rech_amt_7           False\n",
       "max_rech_amt_8           False\n",
       "last_day_rch_amt_6       False\n",
       "last_day_rch_amt_7       False\n",
       "last_day_rch_amt_8       False\n",
       "total_rech_data_6        False\n",
       "total_rech_data_7        False\n",
       "av_rech_amt_data_6       False\n",
       "av_rech_amt_data_7       False\n",
       "mobile_number            False\n",
       "Length: 144, dtype: bool"
      ]
     },
     "execution_count": 413,
     "metadata": {},
     "output_type": "execute_result"
    }
   ],
   "source": [
    "# Inspecting the null values in the filtered data\n",
    "round(100*(telecom_data_high_cust.isnull().sum()/len(telecom_data_high_cust.index))).sort_values(ascending=False)>0"
   ]
  },
  {
   "cell_type": "code",
   "execution_count": 414,
   "metadata": {
    "scrolled": true
   },
   "outputs": [
    {
     "data": {
      "text/plain": [
       "ic_others_8         3.91\n",
       "std_og_t2t_mou_8    3.91\n",
       "loc_ic_t2m_mou_8    3.91\n",
       "loc_ic_t2t_mou_8    3.91\n",
       "og_others_8         3.91\n",
       "spl_og_mou_8        3.91\n",
       "isd_og_mou_8        3.91\n",
       "std_og_t2c_mou_8    3.91\n",
       "std_og_t2f_mou_8    3.91\n",
       "std_og_t2m_mou_8    3.91\n",
       "loc_og_mou_8        3.91\n",
       "loc_ic_mou_8        3.91\n",
       "loc_og_t2c_mou_8    3.91\n",
       "loc_og_t2f_mou_8    3.91\n",
       "loc_og_t2m_mou_8    3.91\n",
       "loc_og_t2t_mou_8    3.91\n",
       "roam_og_mou_8       3.91\n",
       "roam_ic_mou_8       3.91\n",
       "offnet_mou_8        3.91\n",
       "onnet_mou_8         3.91\n",
       "loc_ic_t2f_mou_8    3.91\n",
       "std_og_mou_8        3.91\n",
       "std_ic_t2m_mou_8    3.91\n",
       "spl_ic_mou_8        3.91\n",
       "std_ic_t2t_mou_8    3.91\n",
       "std_ic_t2f_mou_8    3.91\n",
       "std_ic_mou_8        3.91\n",
       "isd_ic_mou_8        3.91\n",
       "std_ic_t2o_mou_8    3.91\n",
       "std_ic_t2o_mou_6    1.82\n",
       "                    ... \n",
       "loc_og_t2t_mou_7    1.79\n",
       "loc_og_t2m_mou_7    1.79\n",
       "spl_ic_mou_7        1.79\n",
       "onnet_mou_7         1.79\n",
       "roam_ic_mou_7       1.79\n",
       "isd_ic_mou_7        1.79\n",
       "loc_og_t2f_mou_7    1.79\n",
       "std_ic_t2t_mou_7    1.79\n",
       "loc_og_t2c_mou_7    1.79\n",
       "isd_og_mou_7        1.79\n",
       "loc_ic_mou_7        1.79\n",
       "loc_ic_t2f_mou_7    1.79\n",
       "std_ic_t2m_mou_7    1.79\n",
       "loc_ic_t2m_mou_7    1.79\n",
       "loc_ic_t2t_mou_7    1.79\n",
       "og_others_7         1.79\n",
       "std_ic_t2f_mou_7    1.79\n",
       "loc_og_mou_7        1.79\n",
       "spl_og_mou_7        1.79\n",
       "ic_others_7         1.79\n",
       "std_og_mou_7        1.79\n",
       "std_og_t2c_mou_7    1.79\n",
       "std_ic_t2o_mou_7    1.79\n",
       "std_og_t2f_mou_7    1.79\n",
       "std_og_t2m_mou_7    1.79\n",
       "std_og_t2t_mou_7    1.79\n",
       "std_ic_mou_7        1.79\n",
       "loc_ic_t2o_mou      0.75\n",
       "std_og_t2o_mou      0.75\n",
       "loc_og_t2o_mou      0.75\n",
       "Length: 90, dtype: float64"
      ]
     },
     "execution_count": 414,
     "metadata": {},
     "output_type": "execute_result"
    }
   ],
   "source": [
    "round(100*telecom_data_high_cust.loc[:,telecom_data_high_cust.isnull().any()].isnull().sum()/len(telecom_data_high_cust.index),2).sort_values(ascending=False)"
   ]
  },
  {
   "cell_type": "code",
   "execution_count": 415,
   "metadata": {},
   "outputs": [
    {
     "name": "stdout",
     "output_type": "stream",
     "text": [
      "4.989833672210926 for 5\n",
      "4.989833672210926 for 10\n",
      "4.989833672210926 for 15\n",
      "4.989833672210926 for 20\n",
      "4.989833672210926 for 25\n",
      "1.6832772240925302 for 30\n",
      "1.6832772240925302 for 35\n",
      "1.6832772240925302 for 40\n",
      "1.6832772240925302 for 45\n",
      "1.6832772240925302 for 50\n"
     ]
    }
   ],
   "source": [
    "# Computing percentage of rows for various numbers of missing values\n",
    "num=[5,10,15,20,25,30,35,40,45,50]\n",
    "for i in num:\n",
    "    print(str(100*(len(telecom_data_high_cust[telecom_data_high_cust.isnull().sum(axis=1) > i].index) / len(telecom_data_high_cust.index)))+' for '+str(i))"
   ]
  },
  {
   "cell_type": "markdown",
   "metadata": {},
   "source": [
    "Lets have a look at rows with more than 5 missing values"
   ]
  },
  {
   "cell_type": "code",
   "execution_count": 416,
   "metadata": {
    "scrolled": true
   },
   "outputs": [
    {
     "data": {
      "text/plain": [
       "isd_ic_mou_8             3.91\n",
       "std_og_t2t_mou_8         3.91\n",
       "std_ic_t2o_mou_8         3.91\n",
       "loc_og_t2f_mou_8         3.91\n",
       "std_ic_t2f_mou_8         3.91\n",
       "loc_og_t2m_mou_8         3.91\n",
       "loc_og_mou_8             3.91\n",
       "std_ic_t2m_mou_8         3.91\n",
       "loc_og_t2t_mou_8         3.91\n",
       "std_og_t2f_mou_8         3.91\n",
       "std_ic_t2t_mou_8         3.91\n",
       "roam_og_mou_8            3.91\n",
       "loc_ic_mou_8             3.91\n",
       "roam_ic_mou_8            3.91\n",
       "loc_og_t2c_mou_8         3.91\n",
       "loc_ic_t2f_mou_8         3.91\n",
       "offnet_mou_8             3.91\n",
       "loc_ic_t2m_mou_8         3.91\n",
       "spl_ic_mou_8             3.91\n",
       "onnet_mou_8              3.91\n",
       "loc_ic_t2t_mou_8         3.91\n",
       "std_og_t2c_mou_8         3.91\n",
       "std_og_t2m_mou_8         3.91\n",
       "og_others_8              3.91\n",
       "std_og_mou_8             3.91\n",
       "spl_og_mou_8             3.91\n",
       "ic_others_8              3.91\n",
       "isd_og_mou_8             3.91\n",
       "std_ic_mou_8             3.91\n",
       "spl_ic_mou_6             1.82\n",
       "                         ... \n",
       "jun_vbc_3g               0.00\n",
       "sep_vbc_3g               0.00\n",
       "total_rech_data_amt_7    0.00\n",
       "total_rech_data_amt_6    0.00\n",
       "vol_3g_mb_6              0.00\n",
       "vol_2g_mb_7              0.00\n",
       "total_og_mou_7           0.00\n",
       "vol_2g_mb_6              0.00\n",
       "total_og_mou_8           0.00\n",
       "avg_rech_6_7             0.00\n",
       "total_ic_mou_6           0.00\n",
       "total_ic_mou_7           0.00\n",
       "total_ic_mou_8           0.00\n",
       "total_rech_num_6         0.00\n",
       "total_rech_num_7         0.00\n",
       "total_rech_num_8         0.00\n",
       "total_rech_amt_6         0.00\n",
       "total_rech_amt_7         0.00\n",
       "total_rech_amt_8         0.00\n",
       "max_rech_amt_6           0.00\n",
       "max_rech_amt_7           0.00\n",
       "max_rech_amt_8           0.00\n",
       "last_day_rch_amt_6       0.00\n",
       "last_day_rch_amt_7       0.00\n",
       "last_day_rch_amt_8       0.00\n",
       "total_rech_data_6        0.00\n",
       "total_rech_data_7        0.00\n",
       "av_rech_amt_data_6       0.00\n",
       "av_rech_amt_data_7       0.00\n",
       "mobile_number            0.00\n",
       "Length: 144, dtype: float64"
      ]
     },
     "execution_count": 416,
     "metadata": {},
     "output_type": "execute_result"
    }
   ],
   "source": [
    "# look at the summary again\n",
    "round(100*(telecom_data_high_cust.isnull().sum()/len(telecom_data_high_cust.index)), 2).sort_values(ascending=False)"
   ]
  },
  {
   "cell_type": "code",
   "execution_count": 417,
   "metadata": {},
   "outputs": [],
   "source": [
    "#Imputing all NAN's in data frame with 0 since only number columns are left now\n",
    "telecom_data_high_cust.fillna(0,inplace=True)"
   ]
  },
  {
   "cell_type": "markdown",
   "metadata": {},
   "source": [
    "No missing values are left in the data and we are have retained 147 columns"
   ]
  },
  {
   "cell_type": "code",
   "execution_count": 418,
   "metadata": {},
   "outputs": [
    {
     "name": "stdout",
     "output_type": "stream",
     "text": [
      "0.08136395453484883\n"
     ]
    },
    {
     "data": {
      "text/plain": [
       "0    27560\n",
       "1     2441\n",
       "Name: churn, dtype: int64"
      ]
     },
     "execution_count": 418,
     "metadata": {},
     "output_type": "execute_result"
    }
   ],
   "source": [
    "#Checking for class imbalance again\n",
    "print((telecom_data_high_cust['churn'].sum())/len(telecom_data_high_cust.index))\n",
    "telecom_data_high_cust['churn'].value_counts()\n"
   ]
  },
  {
   "cell_type": "markdown",
   "metadata": {},
   "source": [
    "### PCA"
   ]
  },
  {
   "cell_type": "code",
   "execution_count": 419,
   "metadata": {},
   "outputs": [],
   "source": [
    "X=telecom_data_high_cust.drop(['churn','mobile_number'],axis=1)\n",
    "y=telecom_data_high_cust['churn']"
   ]
  },
  {
   "cell_type": "code",
   "execution_count": 420,
   "metadata": {},
   "outputs": [
    {
     "data": {
      "text/html": [
       "<div>\n",
       "<style scoped>\n",
       "    .dataframe tbody tr th:only-of-type {\n",
       "        vertical-align: middle;\n",
       "    }\n",
       "\n",
       "    .dataframe tbody tr th {\n",
       "        vertical-align: top;\n",
       "    }\n",
       "\n",
       "    .dataframe thead th {\n",
       "        text-align: right;\n",
       "    }\n",
       "</style>\n",
       "<table border=\"1\" class=\"dataframe\">\n",
       "  <thead>\n",
       "    <tr style=\"text-align: right;\">\n",
       "      <th></th>\n",
       "      <th>circle_id</th>\n",
       "      <th>loc_og_t2o_mou</th>\n",
       "      <th>std_og_t2o_mou</th>\n",
       "      <th>loc_ic_t2o_mou</th>\n",
       "      <th>arpu_6</th>\n",
       "      <th>arpu_7</th>\n",
       "      <th>arpu_8</th>\n",
       "      <th>onnet_mou_6</th>\n",
       "      <th>onnet_mou_7</th>\n",
       "      <th>onnet_mou_8</th>\n",
       "      <th>...</th>\n",
       "      <th>sachet_3g_7</th>\n",
       "      <th>sachet_3g_8</th>\n",
       "      <th>aon</th>\n",
       "      <th>aug_vbc_3g</th>\n",
       "      <th>jul_vbc_3g</th>\n",
       "      <th>jun_vbc_3g</th>\n",
       "      <th>sep_vbc_3g</th>\n",
       "      <th>total_rech_data_amt_7</th>\n",
       "      <th>total_rech_data_amt_6</th>\n",
       "      <th>avg_rech_6_7</th>\n",
       "    </tr>\n",
       "  </thead>\n",
       "  <tbody>\n",
       "    <tr>\n",
       "      <th>0</th>\n",
       "      <td>109</td>\n",
       "      <td>0.0</td>\n",
       "      <td>0.0</td>\n",
       "      <td>0.0</td>\n",
       "      <td>197.385</td>\n",
       "      <td>214.816</td>\n",
       "      <td>213.803</td>\n",
       "      <td>0.00</td>\n",
       "      <td>0.00</td>\n",
       "      <td>0.00</td>\n",
       "      <td>...</td>\n",
       "      <td>0</td>\n",
       "      <td>0</td>\n",
       "      <td>968</td>\n",
       "      <td>30.40</td>\n",
       "      <td>0.00</td>\n",
       "      <td>101.20</td>\n",
       "      <td>3.58</td>\n",
       "      <td>252.0</td>\n",
       "      <td>252.0</td>\n",
       "      <td>279.5</td>\n",
       "    </tr>\n",
       "    <tr>\n",
       "      <th>7</th>\n",
       "      <td>109</td>\n",
       "      <td>0.0</td>\n",
       "      <td>0.0</td>\n",
       "      <td>0.0</td>\n",
       "      <td>1069.180</td>\n",
       "      <td>1349.850</td>\n",
       "      <td>3171.480</td>\n",
       "      <td>57.84</td>\n",
       "      <td>54.68</td>\n",
       "      <td>52.29</td>\n",
       "      <td>...</td>\n",
       "      <td>0</td>\n",
       "      <td>0</td>\n",
       "      <td>802</td>\n",
       "      <td>57.74</td>\n",
       "      <td>19.38</td>\n",
       "      <td>18.74</td>\n",
       "      <td>0.00</td>\n",
       "      <td>0.0</td>\n",
       "      <td>0.0</td>\n",
       "      <td>592.5</td>\n",
       "    </tr>\n",
       "    <tr>\n",
       "      <th>8</th>\n",
       "      <td>109</td>\n",
       "      <td>0.0</td>\n",
       "      <td>0.0</td>\n",
       "      <td>0.0</td>\n",
       "      <td>378.721</td>\n",
       "      <td>492.223</td>\n",
       "      <td>137.362</td>\n",
       "      <td>413.69</td>\n",
       "      <td>351.03</td>\n",
       "      <td>35.08</td>\n",
       "      <td>...</td>\n",
       "      <td>0</td>\n",
       "      <td>0</td>\n",
       "      <td>315</td>\n",
       "      <td>21.03</td>\n",
       "      <td>910.65</td>\n",
       "      <td>122.16</td>\n",
       "      <td>0.00</td>\n",
       "      <td>354.0</td>\n",
       "      <td>0.0</td>\n",
       "      <td>348.0</td>\n",
       "    </tr>\n",
       "    <tr>\n",
       "      <th>21</th>\n",
       "      <td>109</td>\n",
       "      <td>0.0</td>\n",
       "      <td>0.0</td>\n",
       "      <td>0.0</td>\n",
       "      <td>514.453</td>\n",
       "      <td>597.753</td>\n",
       "      <td>637.760</td>\n",
       "      <td>102.41</td>\n",
       "      <td>132.11</td>\n",
       "      <td>85.14</td>\n",
       "      <td>...</td>\n",
       "      <td>0</td>\n",
       "      <td>0</td>\n",
       "      <td>720</td>\n",
       "      <td>0.00</td>\n",
       "      <td>0.00</td>\n",
       "      <td>0.00</td>\n",
       "      <td>0.00</td>\n",
       "      <td>0.0</td>\n",
       "      <td>0.0</td>\n",
       "      <td>320.0</td>\n",
       "    </tr>\n",
       "    <tr>\n",
       "      <th>23</th>\n",
       "      <td>109</td>\n",
       "      <td>0.0</td>\n",
       "      <td>0.0</td>\n",
       "      <td>0.0</td>\n",
       "      <td>74.350</td>\n",
       "      <td>193.897</td>\n",
       "      <td>366.966</td>\n",
       "      <td>48.96</td>\n",
       "      <td>50.66</td>\n",
       "      <td>33.58</td>\n",
       "      <td>...</td>\n",
       "      <td>0</td>\n",
       "      <td>1</td>\n",
       "      <td>604</td>\n",
       "      <td>40.45</td>\n",
       "      <td>51.86</td>\n",
       "      <td>0.00</td>\n",
       "      <td>0.00</td>\n",
       "      <td>712.0</td>\n",
       "      <td>0.0</td>\n",
       "      <td>291.5</td>\n",
       "    </tr>\n",
       "  </tbody>\n",
       "</table>\n",
       "<p>5 rows × 142 columns</p>\n",
       "</div>"
      ],
      "text/plain": [
       "    circle_id  loc_og_t2o_mou  std_og_t2o_mou  loc_ic_t2o_mou    arpu_6  \\\n",
       "0         109             0.0             0.0             0.0   197.385   \n",
       "7         109             0.0             0.0             0.0  1069.180   \n",
       "8         109             0.0             0.0             0.0   378.721   \n",
       "21        109             0.0             0.0             0.0   514.453   \n",
       "23        109             0.0             0.0             0.0    74.350   \n",
       "\n",
       "      arpu_7    arpu_8  onnet_mou_6  onnet_mou_7  onnet_mou_8      ...       \\\n",
       "0    214.816   213.803         0.00         0.00         0.00      ...        \n",
       "7   1349.850  3171.480        57.84        54.68        52.29      ...        \n",
       "8    492.223   137.362       413.69       351.03        35.08      ...        \n",
       "21   597.753   637.760       102.41       132.11        85.14      ...        \n",
       "23   193.897   366.966        48.96        50.66        33.58      ...        \n",
       "\n",
       "    sachet_3g_7  sachet_3g_8  aon  aug_vbc_3g  jul_vbc_3g  jun_vbc_3g  \\\n",
       "0             0            0  968       30.40        0.00      101.20   \n",
       "7             0            0  802       57.74       19.38       18.74   \n",
       "8             0            0  315       21.03      910.65      122.16   \n",
       "21            0            0  720        0.00        0.00        0.00   \n",
       "23            0            1  604       40.45       51.86        0.00   \n",
       "\n",
       "    sep_vbc_3g  total_rech_data_amt_7  total_rech_data_amt_6  avg_rech_6_7  \n",
       "0         3.58                  252.0                  252.0         279.5  \n",
       "7         0.00                    0.0                    0.0         592.5  \n",
       "8         0.00                  354.0                    0.0         348.0  \n",
       "21        0.00                    0.0                    0.0         320.0  \n",
       "23        0.00                  712.0                    0.0         291.5  \n",
       "\n",
       "[5 rows x 142 columns]"
      ]
     },
     "execution_count": 420,
     "metadata": {},
     "output_type": "execute_result"
    }
   ],
   "source": [
    "X.head()"
   ]
  },
  {
   "cell_type": "code",
   "execution_count": 421,
   "metadata": {},
   "outputs": [],
   "source": [
    "from sklearn.model_selection import train_test_split\n",
    "# Splitting the data into train and test\n",
    "X_train, X_test, y_train, y_test = train_test_split(X,y, train_size=0.7,test_size=0.3,random_state=100)"
   ]
  },
  {
   "cell_type": "code",
   "execution_count": 422,
   "metadata": {},
   "outputs": [
    {
     "data": {
      "text/plain": [
       "(21000, 142)"
      ]
     },
     "execution_count": 422,
     "metadata": {},
     "output_type": "execute_result"
    }
   ],
   "source": [
    "X_train.shape"
   ]
  },
  {
   "cell_type": "code",
   "execution_count": 423,
   "metadata": {},
   "outputs": [],
   "source": [
    "#Importing the PCA module\n",
    "from sklearn.decomposition import PCA\n",
    "pca = PCA(svd_solver='randomized', random_state=42)"
   ]
  },
  {
   "cell_type": "code",
   "execution_count": 424,
   "metadata": {},
   "outputs": [
    {
     "data": {
      "text/plain": [
       "PCA(copy=True, iterated_power='auto', n_components=None, random_state=42,\n",
       "  svd_solver='randomized', tol=0.0, whiten=False)"
      ]
     },
     "execution_count": 424,
     "metadata": {},
     "output_type": "execute_result"
    }
   ],
   "source": [
    "#Doing the PCA on the train data\n",
    "pca.fit(X_train)"
   ]
  },
  {
   "cell_type": "code",
   "execution_count": 425,
   "metadata": {
    "scrolled": true
   },
   "outputs": [
    {
     "data": {
      "text/plain": [
       "array([[ 7.08763078e-17,  0.00000000e+00, -2.22044605e-16, ...,\n",
       "         5.59526376e-01,  4.14274034e-01,  2.34284816e-01],\n",
       "       [ 7.22234716e-17, -0.00000000e+00,  1.11022302e-16, ...,\n",
       "         2.03466393e-01,  1.15751227e-01,  1.88836549e-01],\n",
       "       [ 3.58109246e-18,  1.61329283e-16,  5.55111512e-17, ...,\n",
       "        -3.62407893e-01, -1.69399095e-01, -5.47629942e-02],\n",
       "       ...,\n",
       "       [-0.00000000e+00,  7.94082442e-02, -7.07310226e-02, ...,\n",
       "         2.08543445e-03,  2.08543445e-03, -8.34173782e-03],\n",
       "       [ 1.00000000e+00,  5.17825237e-24, -4.12222346e-23, ...,\n",
       "        -9.53149624e-17, -8.28882203e-17, -1.73274154e-16],\n",
       "       [ 0.00000000e+00, -1.51983142e-01,  2.53168511e-01, ...,\n",
       "        -2.06696155e-01, -2.06696155e-01,  8.26784619e-01]])"
      ]
     },
     "execution_count": 425,
     "metadata": {},
     "output_type": "execute_result"
    }
   ],
   "source": [
    "pca.components_"
   ]
  },
  {
   "cell_type": "code",
   "execution_count": 426,
   "metadata": {},
   "outputs": [
    {
     "data": {
      "text/html": [
       "<div>\n",
       "<style scoped>\n",
       "    .dataframe tbody tr th:only-of-type {\n",
       "        vertical-align: middle;\n",
       "    }\n",
       "\n",
       "    .dataframe tbody tr th {\n",
       "        vertical-align: top;\n",
       "    }\n",
       "\n",
       "    .dataframe thead th {\n",
       "        text-align: right;\n",
       "    }\n",
       "</style>\n",
       "<table border=\"1\" class=\"dataframe\">\n",
       "  <thead>\n",
       "    <tr style=\"text-align: right;\">\n",
       "      <th></th>\n",
       "      <th>PC1</th>\n",
       "      <th>PC2</th>\n",
       "      <th>Feature</th>\n",
       "    </tr>\n",
       "  </thead>\n",
       "  <tbody>\n",
       "    <tr>\n",
       "      <th>0</th>\n",
       "      <td>7.087631e-17</td>\n",
       "      <td>7.222347e-17</td>\n",
       "      <td>circle_id</td>\n",
       "    </tr>\n",
       "    <tr>\n",
       "      <th>1</th>\n",
       "      <td>0.000000e+00</td>\n",
       "      <td>-0.000000e+00</td>\n",
       "      <td>loc_og_t2o_mou</td>\n",
       "    </tr>\n",
       "    <tr>\n",
       "      <th>2</th>\n",
       "      <td>-2.220446e-16</td>\n",
       "      <td>1.110223e-16</td>\n",
       "      <td>std_og_t2o_mou</td>\n",
       "    </tr>\n",
       "    <tr>\n",
       "      <th>3</th>\n",
       "      <td>0.000000e+00</td>\n",
       "      <td>6.938894e-18</td>\n",
       "      <td>loc_ic_t2o_mou</td>\n",
       "    </tr>\n",
       "    <tr>\n",
       "      <th>4</th>\n",
       "      <td>-1.525711e-02</td>\n",
       "      <td>1.652976e-01</td>\n",
       "      <td>arpu_6</td>\n",
       "    </tr>\n",
       "  </tbody>\n",
       "</table>\n",
       "</div>"
      ],
      "text/plain": [
       "            PC1           PC2         Feature\n",
       "0  7.087631e-17  7.222347e-17       circle_id\n",
       "1  0.000000e+00 -0.000000e+00  loc_og_t2o_mou\n",
       "2 -2.220446e-16  1.110223e-16  std_og_t2o_mou\n",
       "3  0.000000e+00  6.938894e-18  loc_ic_t2o_mou\n",
       "4 -1.525711e-02  1.652976e-01          arpu_6"
      ]
     },
     "execution_count": 426,
     "metadata": {},
     "output_type": "execute_result"
    }
   ],
   "source": [
    "colnames = list(X_train.columns)\n",
    "pcs_df = pd.DataFrame({'PC1':pca.components_[0],'PC2':pca.components_[1], 'Feature':colnames})\n",
    "pcs_df.head()"
   ]
  },
  {
   "cell_type": "code",
   "execution_count": 427,
   "metadata": {
    "scrolled": true
   },
   "outputs": [
    {
     "data": {
      "text/plain": [
       "array([2.63553513e-01, 1.90027237e-01, 8.79770515e-02, 6.91540199e-02,\n",
       "       5.26056275e-02, 4.80019790e-02, 4.25970908e-02, 4.05264914e-02,\n",
       "       3.46694565e-02, 2.31871934e-02, 1.70505672e-02, 1.55469254e-02,\n",
       "       1.38700300e-02, 1.17925061e-02, 1.02402034e-02, 8.64705995e-03,\n",
       "       7.09793749e-03, 5.90942303e-03, 5.42293176e-03, 4.34940104e-03,\n",
       "       4.30627508e-03, 3.45558433e-03, 3.26548164e-03, 3.16676833e-03,\n",
       "       3.03923402e-03, 2.90524621e-03, 2.59733875e-03, 2.50935687e-03,\n",
       "       2.03207918e-03, 1.85556267e-03, 1.74928422e-03, 1.64473961e-03,\n",
       "       1.36028348e-03, 1.27297072e-03, 1.16814522e-03, 9.33300523e-04,\n",
       "       8.24727567e-04, 7.86096684e-04, 7.34509451e-04, 5.97500352e-04,\n",
       "       5.91381955e-04, 5.50416103e-04, 5.16360072e-04, 5.11434873e-04,\n",
       "       4.79138460e-04, 4.72027693e-04, 4.37369026e-04, 4.04448036e-04,\n",
       "       3.49812734e-04, 3.46946669e-04, 3.33536613e-04, 2.94572886e-04,\n",
       "       2.90592342e-04, 2.79688221e-04, 2.52363762e-04, 1.98173912e-04,\n",
       "       1.50374849e-04, 1.45126697e-04, 1.18327147e-04, 1.00424056e-04,\n",
       "       9.63602359e-05, 8.19205965e-05, 7.85577726e-05, 7.34265122e-05,\n",
       "       5.40101013e-05, 5.25477515e-05, 4.43338692e-05, 4.16605151e-05,\n",
       "       3.51870366e-05, 3.29198043e-05, 2.24669002e-05, 2.06850621e-05,\n",
       "       1.64871675e-05, 1.09294763e-05, 1.00229219e-05, 9.56251168e-06,\n",
       "       8.36208816e-06, 6.84689822e-06, 6.77472619e-06, 6.40878346e-06,\n",
       "       5.38807340e-06, 5.26317880e-06, 4.37796584e-06, 4.34338304e-06,\n",
       "       3.46534146e-06, 2.93527210e-06, 2.24376856e-06, 1.60178514e-06,\n",
       "       1.31656202e-06, 1.15964214e-06, 1.09534836e-06, 9.23877993e-07,\n",
       "       6.39115073e-07, 6.27202349e-07, 5.47386976e-07, 2.85945600e-07,\n",
       "       1.95876010e-07, 1.39917602e-07, 1.23102839e-07, 9.61723399e-08,\n",
       "       2.98580499e-08, 2.56598699e-08, 1.80183481e-08, 1.51468000e-08,\n",
       "       6.59961933e-09, 5.90390446e-09, 4.47100590e-09, 3.55274574e-09,\n",
       "       3.28531754e-09, 8.90534266e-10, 7.43421165e-10, 1.56060650e-12,\n",
       "       7.21356635e-13, 5.48918326e-13, 5.24303864e-13, 4.59375374e-13,\n",
       "       4.21875382e-13, 4.13332307e-13, 3.90211668e-13, 3.83089225e-13,\n",
       "       3.34613205e-13, 3.13355549e-13, 2.96725287e-13, 2.71627135e-13,\n",
       "       2.66281810e-13, 2.51616556e-13, 2.41612003e-13, 2.23016163e-13,\n",
       "       2.11438462e-13, 2.31631702e-33, 2.31631702e-33, 2.31631702e-33,\n",
       "       2.31631702e-33, 2.31631702e-33, 2.31631702e-33, 2.31631702e-33,\n",
       "       2.31631702e-33, 2.31631702e-33, 2.31631702e-33, 2.31631702e-33,\n",
       "       4.21160504e-34, 5.67940449e-35])"
      ]
     },
     "execution_count": 427,
     "metadata": {},
     "output_type": "execute_result"
    }
   ],
   "source": [
    "pca.explained_variance_ratio_"
   ]
  },
  {
   "cell_type": "code",
   "execution_count": 428,
   "metadata": {},
   "outputs": [
    {
     "data": {
      "image/png": "[encoded data removed]",
      "text/plain": [
       "<Figure size 864x576 with 1 Axes>"
      ]
     },
     "metadata": {},
     "output_type": "display_data"
    }
   ],
   "source": [
    "#Making the screeplot - plotting the cumulative variance against the number of components\n",
    "%matplotlib inline\n",
    "fig = plt.figure(figsize = (12,8))\n",
    "plt.plot(np.cumsum(pca.explained_variance_ratio_))\n",
    "plt.xlabel('number of components')\n",
    "plt.ylabel('cumulative explained variance')\n",
    "plt.show()"
   ]
  },
  {
   "cell_type": "markdown",
   "metadata": {},
   "source": [
    "We'll choose 20 components for modelling as it shows 90% of data vriance which is good."
   ]
  },
  {
   "cell_type": "code",
   "execution_count": 429,
   "metadata": {},
   "outputs": [],
   "source": [
    "#Using incremental PCA\n",
    "from sklearn.decomposition import IncrementalPCA\n",
    "pca_final = IncrementalPCA(n_components=20)"
   ]
  },
  {
   "cell_type": "code",
   "execution_count": 430,
   "metadata": {},
   "outputs": [
    {
     "data": {
      "text/plain": [
       "(21000, 20)"
      ]
     },
     "execution_count": 430,
     "metadata": {},
     "output_type": "execute_result"
    }
   ],
   "source": [
    "df_train_pca = pca_final.fit_transform(X_train)\n",
    "df_train_pca.shape"
   ]
  },
  {
   "cell_type": "code",
   "execution_count": 431,
   "metadata": {},
   "outputs": [
    {
     "data": {
      "text/plain": [
       "<matplotlib.axes._subplots.AxesSubplot at 0x1c91ecd4b38>"
      ]
     },
     "execution_count": 431,
     "metadata": {},
     "output_type": "execute_result"
    },
    {
     "data": {
      "image/png": "[encoded data removed]",
      "text/plain": [
       "<Figure size 1440x720 with 2 Axes>"
      ]
     },
     "metadata": {},
     "output_type": "display_data"
    }
   ],
   "source": [
    "#creating correlation matrix for the principal components\n",
    "corrmat = np.corrcoef(df_train_pca.transpose())\n",
    "%matplotlib inline\n",
    "plt.figure(figsize = (20,10))\n",
    "sns.heatmap(corrmat,annot = True)\n",
    "\n",
    "#We can see from below there is hardly any correlation between pca components."
   ]
  },
  {
   "cell_type": "code",
   "execution_count": 432,
   "metadata": {},
   "outputs": [
    {
     "name": "stdout",
     "output_type": "stream",
     "text": [
      "(21000, 20)\n"
     ]
    },
    {
     "data": {
      "text/html": [
       "<div>\n",
       "<style scoped>\n",
       "    .dataframe tbody tr th:only-of-type {\n",
       "        vertical-align: middle;\n",
       "    }\n",
       "\n",
       "    .dataframe tbody tr th {\n",
       "        vertical-align: top;\n",
       "    }\n",
       "\n",
       "    .dataframe thead th {\n",
       "        text-align: right;\n",
       "    }\n",
       "</style>\n",
       "<table border=\"1\" class=\"dataframe\">\n",
       "  <thead>\n",
       "    <tr style=\"text-align: right;\">\n",
       "      <th></th>\n",
       "      <th>0</th>\n",
       "      <th>1</th>\n",
       "      <th>2</th>\n",
       "      <th>3</th>\n",
       "      <th>4</th>\n",
       "      <th>5</th>\n",
       "      <th>6</th>\n",
       "      <th>7</th>\n",
       "      <th>8</th>\n",
       "      <th>9</th>\n",
       "      <th>10</th>\n",
       "      <th>11</th>\n",
       "      <th>12</th>\n",
       "      <th>13</th>\n",
       "      <th>14</th>\n",
       "      <th>15</th>\n",
       "      <th>16</th>\n",
       "      <th>17</th>\n",
       "      <th>18</th>\n",
       "      <th>19</th>\n",
       "    </tr>\n",
       "  </thead>\n",
       "  <tbody>\n",
       "    <tr>\n",
       "      <th>0</th>\n",
       "      <td>-449.524670</td>\n",
       "      <td>-926.712442</td>\n",
       "      <td>-1444.016305</td>\n",
       "      <td>1004.124506</td>\n",
       "      <td>-69.538632</td>\n",
       "      <td>390.120735</td>\n",
       "      <td>210.937751</td>\n",
       "      <td>2119.427070</td>\n",
       "      <td>639.899274</td>\n",
       "      <td>392.657047</td>\n",
       "      <td>-156.777772</td>\n",
       "      <td>0.048543</td>\n",
       "      <td>-222.674330</td>\n",
       "      <td>-105.753558</td>\n",
       "      <td>-4.768654</td>\n",
       "      <td>-252.482719</td>\n",
       "      <td>-191.334454</td>\n",
       "      <td>519.535821</td>\n",
       "      <td>-282.401144</td>\n",
       "      <td>-194.381589</td>\n",
       "    </tr>\n",
       "    <tr>\n",
       "      <th>1</th>\n",
       "      <td>79.920565</td>\n",
       "      <td>-919.772563</td>\n",
       "      <td>-609.221380</td>\n",
       "      <td>550.379543</td>\n",
       "      <td>51.558971</td>\n",
       "      <td>490.240516</td>\n",
       "      <td>472.986237</td>\n",
       "      <td>499.887490</td>\n",
       "      <td>179.464091</td>\n",
       "      <td>41.616889</td>\n",
       "      <td>19.747469</td>\n",
       "      <td>-214.758630</td>\n",
       "      <td>86.442628</td>\n",
       "      <td>121.581830</td>\n",
       "      <td>-87.761112</td>\n",
       "      <td>100.104909</td>\n",
       "      <td>62.305727</td>\n",
       "      <td>-30.619024</td>\n",
       "      <td>90.382300</td>\n",
       "      <td>-58.079072</td>\n",
       "    </tr>\n",
       "    <tr>\n",
       "      <th>2</th>\n",
       "      <td>-433.968081</td>\n",
       "      <td>-1251.437882</td>\n",
       "      <td>-543.192128</td>\n",
       "      <td>832.659833</td>\n",
       "      <td>-356.291539</td>\n",
       "      <td>866.046926</td>\n",
       "      <td>969.299509</td>\n",
       "      <td>1227.384745</td>\n",
       "      <td>277.814031</td>\n",
       "      <td>-61.809105</td>\n",
       "      <td>-36.624348</td>\n",
       "      <td>4.104034</td>\n",
       "      <td>-198.794125</td>\n",
       "      <td>-68.125675</td>\n",
       "      <td>-102.355225</td>\n",
       "      <td>35.494588</td>\n",
       "      <td>-19.441030</td>\n",
       "      <td>-132.281465</td>\n",
       "      <td>6.275776</td>\n",
       "      <td>-104.735683</td>\n",
       "    </tr>\n",
       "    <tr>\n",
       "      <th>3</th>\n",
       "      <td>-1828.683571</td>\n",
       "      <td>1507.761783</td>\n",
       "      <td>-265.836871</td>\n",
       "      <td>410.569379</td>\n",
       "      <td>467.008572</td>\n",
       "      <td>1795.461041</td>\n",
       "      <td>-626.982332</td>\n",
       "      <td>-1204.008625</td>\n",
       "      <td>1923.619789</td>\n",
       "      <td>1169.812037</td>\n",
       "      <td>1295.445722</td>\n",
       "      <td>-1769.202619</td>\n",
       "      <td>110.929470</td>\n",
       "      <td>-355.855203</td>\n",
       "      <td>387.374892</td>\n",
       "      <td>-617.319147</td>\n",
       "      <td>1785.827456</td>\n",
       "      <td>-819.297577</td>\n",
       "      <td>-911.087722</td>\n",
       "      <td>-142.636320</td>\n",
       "    </tr>\n",
       "    <tr>\n",
       "      <th>4</th>\n",
       "      <td>104.851196</td>\n",
       "      <td>-1105.824113</td>\n",
       "      <td>-285.128628</td>\n",
       "      <td>-314.166618</td>\n",
       "      <td>-15.902182</td>\n",
       "      <td>-508.738469</td>\n",
       "      <td>-389.179973</td>\n",
       "      <td>-927.936462</td>\n",
       "      <td>-136.875104</td>\n",
       "      <td>385.346287</td>\n",
       "      <td>-191.175485</td>\n",
       "      <td>150.559032</td>\n",
       "      <td>-5.158176</td>\n",
       "      <td>-104.792575</td>\n",
       "      <td>-95.748080</td>\n",
       "      <td>89.129276</td>\n",
       "      <td>-57.224054</td>\n",
       "      <td>78.432044</td>\n",
       "      <td>21.033182</td>\n",
       "      <td>48.236563</td>\n",
       "    </tr>\n",
       "  </tbody>\n",
       "</table>\n",
       "</div>"
      ],
      "text/plain": [
       "            0            1            2            3           4   \\\n",
       "0  -449.524670  -926.712442 -1444.016305  1004.124506  -69.538632   \n",
       "1    79.920565  -919.772563  -609.221380   550.379543   51.558971   \n",
       "2  -433.968081 -1251.437882  -543.192128   832.659833 -356.291539   \n",
       "3 -1828.683571  1507.761783  -265.836871   410.569379  467.008572   \n",
       "4   104.851196 -1105.824113  -285.128628  -314.166618  -15.902182   \n",
       "\n",
       "            5           6            7            8            9   \\\n",
       "0   390.120735  210.937751  2119.427070   639.899274   392.657047   \n",
       "1   490.240516  472.986237   499.887490   179.464091    41.616889   \n",
       "2   866.046926  969.299509  1227.384745   277.814031   -61.809105   \n",
       "3  1795.461041 -626.982332 -1204.008625  1923.619789  1169.812037   \n",
       "4  -508.738469 -389.179973  -927.936462  -136.875104   385.346287   \n",
       "\n",
       "            10           11          12          13          14          15  \\\n",
       "0  -156.777772     0.048543 -222.674330 -105.753558   -4.768654 -252.482719   \n",
       "1    19.747469  -214.758630   86.442628  121.581830  -87.761112  100.104909   \n",
       "2   -36.624348     4.104034 -198.794125  -68.125675 -102.355225   35.494588   \n",
       "3  1295.445722 -1769.202619  110.929470 -355.855203  387.374892 -617.319147   \n",
       "4  -191.175485   150.559032   -5.158176 -104.792575  -95.748080   89.129276   \n",
       "\n",
       "            16          17          18          19  \n",
       "0  -191.334454  519.535821 -282.401144 -194.381589  \n",
       "1    62.305727  -30.619024   90.382300  -58.079072  \n",
       "2   -19.441030 -132.281465    6.275776 -104.735683  \n",
       "3  1785.827456 -819.297577 -911.087722 -142.636320  \n",
       "4   -57.224054   78.432044   21.033182   48.236563  "
      ]
     },
     "execution_count": 432,
     "metadata": {},
     "output_type": "execute_result"
    }
   ],
   "source": [
    "#Converting trained pca data into data frame and inspecting size of train pca data frame\n",
    "df_train_pca=pd.DataFrame(df_train_pca)\n",
    "print(df_train_pca.shape)\n",
    "df_train_pca.head()"
   ]
  },
  {
   "cell_type": "code",
   "execution_count": 433,
   "metadata": {},
   "outputs": [],
   "source": [
    "#Predicting the output of churn output variable on train data set.\n",
    "columnList=df_train_pca.columns\n",
    "y_train=y_train.reset_index()\n",
    "df_train_pca['output']=y_train['churn']"
   ]
  },
  {
   "cell_type": "code",
   "execution_count": 434,
   "metadata": {},
   "outputs": [
    {
     "name": "stdout",
     "output_type": "stream",
     "text": [
      "(21000, 20)\n"
     ]
    }
   ],
   "source": [
    "#Inpsecting final pca data set for total no of rows available.\n",
    "y_train=df_train_pca['output']\n",
    "df_train_pca.drop(['output'],axis=1,inplace=True)\n",
    "print(df_train_pca.shape)"
   ]
  },
  {
   "cell_type": "code",
   "execution_count": 435,
   "metadata": {},
   "outputs": [
    {
     "data": {
      "text/plain": [
       "(9001, 20)"
      ]
     },
     "execution_count": 435,
     "metadata": {},
     "output_type": "execute_result"
    }
   ],
   "source": [
    "#Applying selected components to the test data - 20 components\n",
    "df_test_pca = pca_final.transform(X_test)\n",
    "df_test_pca.shape"
   ]
  },
  {
   "cell_type": "code",
   "execution_count": 436,
   "metadata": {},
   "outputs": [
    {
     "data": {
      "image/png": "[encoded data removed]",
      "text/plain": [
       "<Figure size 576x576 with 1 Axes>"
      ]
     },
     "metadata": {},
     "output_type": "display_data"
    }
   ],
   "source": [
    "#Plotting two principal commponents to check the variance of data\n",
    "%matplotlib inline\n",
    "fig = plt.figure(figsize = (8,8))\n",
    "plt.scatter(df_train_pca[:][0], df_train_pca[:][1], c = y_train.map({0:'green',1:'red'}))\n",
    "plt.xlabel('Principal Component 1')\n",
    "plt.ylabel('Principal Component 2')\n",
    "plt.tight_layout()\n",
    "plt.show()\n",
    "\n",
    "#From below plot we can see that data points are quite clearly segggregated."
   ]
  },
  {
   "cell_type": "code",
   "execution_count": 437,
   "metadata": {},
   "outputs": [
    {
     "data": {
      "image/png": "[encoded data removed]",
      "text/plain": [
       "<Figure size 576x576 with 1 Axes>"
      ]
     },
     "metadata": {},
     "output_type": "display_data"
    }
   ],
   "source": [
    "#Inspecting 3d view of principal components plot\n",
    "%matplotlib inline\n",
    "from mpl_toolkits.mplot3d import Axes3D\n",
    "fig = plt.figure(figsize=(8,8))\n",
    "ax = Axes3D(fig)\n",
    "# ax = plt.axes(projection='3d')\n",
    "ax.scatter( df_train_pca.iloc[:,0], df_train_pca.iloc[:,1], c=y_train.map({0:'green',1:'red'}))\n",
    "plt.show()"
   ]
  },
  {
   "cell_type": "code",
   "execution_count": 438,
   "metadata": {},
   "outputs": [],
   "source": [
    "#Applying Logistic Regression\n",
    "#Training the model on the train data\n",
    "from sklearn.linear_model import LogisticRegression\n",
    "from sklearn import metrics\n",
    "\n",
    "learner_pca = LogisticRegression(class_weight='balanced')\n",
    "model_pca = learner_pca.fit(df_train_pca,y_train)"
   ]
  },
  {
   "cell_type": "code",
   "execution_count": 439,
   "metadata": {},
   "outputs": [
    {
     "data": {
      "text/plain": [
       "'0.87'"
      ]
     },
     "execution_count": 439,
     "metadata": {},
     "output_type": "execute_result"
    }
   ],
   "source": [
    "#Making prediction on the test data\n",
    "pred_probs_test = model_pca.predict_proba(df_test_pca)[:,1]\n",
    "\"{:2.2}\".format(metrics.roc_auc_score(y_test, pred_probs_test))\n",
    "\n",
    "#With 20 selected principal components and logistic regression model we have achieved 87% of accuracy "
   ]
  },
  {
   "cell_type": "code",
   "execution_count": 440,
   "metadata": {},
   "outputs": [],
   "source": [
    "# Predicted probabilities of conversion on test data set\n",
    "y_pred=model_pca.predict_proba(df_test_pca)\n",
    "# Converting it into dataframe\n",
    "y_pred_df=pd.DataFrame(y_pred)\n",
    "# Converting to column dataframe\n",
    "y_pred_1=y_pred_df.iloc[:,[1]]"
   ]
  },
  {
   "cell_type": "code",
   "execution_count": 441,
   "metadata": {},
   "outputs": [
    {
     "data": {
      "text/html": [
       "<div>\n",
       "<style scoped>\n",
       "    .dataframe tbody tr th:only-of-type {\n",
       "        vertical-align: middle;\n",
       "    }\n",
       "\n",
       "    .dataframe tbody tr th {\n",
       "        vertical-align: top;\n",
       "    }\n",
       "\n",
       "    .dataframe thead th {\n",
       "        text-align: right;\n",
       "    }\n",
       "</style>\n",
       "<table border=\"1\" class=\"dataframe\">\n",
       "  <thead>\n",
       "    <tr style=\"text-align: right;\">\n",
       "      <th></th>\n",
       "      <th>1</th>\n",
       "    </tr>\n",
       "  </thead>\n",
       "  <tbody>\n",
       "    <tr>\n",
       "      <th>0</th>\n",
       "      <td>0.772121</td>\n",
       "    </tr>\n",
       "    <tr>\n",
       "      <th>1</th>\n",
       "      <td>0.557510</td>\n",
       "    </tr>\n",
       "    <tr>\n",
       "      <th>2</th>\n",
       "      <td>0.071703</td>\n",
       "    </tr>\n",
       "    <tr>\n",
       "      <th>3</th>\n",
       "      <td>0.320182</td>\n",
       "    </tr>\n",
       "    <tr>\n",
       "      <th>4</th>\n",
       "      <td>0.702365</td>\n",
       "    </tr>\n",
       "  </tbody>\n",
       "</table>\n",
       "</div>"
      ],
      "text/plain": [
       "          1\n",
       "0  0.772121\n",
       "1  0.557510\n",
       "2  0.071703\n",
       "3  0.320182\n",
       "4  0.702365"
      ]
     },
     "execution_count": 441,
     "metadata": {},
     "output_type": "execute_result"
    }
   ],
   "source": [
    "y_pred_1.head()"
   ]
  },
  {
   "cell_type": "code",
   "execution_count": 442,
   "metadata": {},
   "outputs": [
    {
     "data": {
      "text/html": [
       "<div>\n",
       "<style scoped>\n",
       "    .dataframe tbody tr th:only-of-type {\n",
       "        vertical-align: middle;\n",
       "    }\n",
       "\n",
       "    .dataframe tbody tr th {\n",
       "        vertical-align: top;\n",
       "    }\n",
       "\n",
       "    .dataframe thead th {\n",
       "        text-align: right;\n",
       "    }\n",
       "</style>\n",
       "<table border=\"1\" class=\"dataframe\">\n",
       "  <thead>\n",
       "    <tr style=\"text-align: right;\">\n",
       "      <th></th>\n",
       "      <th>churn</th>\n",
       "    </tr>\n",
       "  </thead>\n",
       "  <tbody>\n",
       "    <tr>\n",
       "      <th>20296</th>\n",
       "      <td>1</td>\n",
       "    </tr>\n",
       "    <tr>\n",
       "      <th>8279</th>\n",
       "      <td>1</td>\n",
       "    </tr>\n",
       "    <tr>\n",
       "      <th>72269</th>\n",
       "      <td>0</td>\n",
       "    </tr>\n",
       "    <tr>\n",
       "      <th>65602</th>\n",
       "      <td>0</td>\n",
       "    </tr>\n",
       "    <tr>\n",
       "      <th>42758</th>\n",
       "      <td>1</td>\n",
       "    </tr>\n",
       "  </tbody>\n",
       "</table>\n",
       "</div>"
      ],
      "text/plain": [
       "       churn\n",
       "20296      1\n",
       "8279       1\n",
       "72269      0\n",
       "65602      0\n",
       "42758      1"
      ]
     },
     "execution_count": 442,
     "metadata": {},
     "output_type": "execute_result"
    }
   ],
   "source": [
    "# Converting y_y_test_df = pd.DataFrame(y_test)\n",
    "y_test_df = pd.DataFrame(y_test)\n",
    "y_test_df.head()"
   ]
  },
  {
   "cell_type": "code",
   "execution_count": 443,
   "metadata": {},
   "outputs": [
    {
     "data": {
      "text/html": [
       "<div>\n",
       "<style scoped>\n",
       "    .dataframe tbody tr th:only-of-type {\n",
       "        vertical-align: middle;\n",
       "    }\n",
       "\n",
       "    .dataframe tbody tr th {\n",
       "        vertical-align: top;\n",
       "    }\n",
       "\n",
       "    .dataframe thead th {\n",
       "        text-align: right;\n",
       "    }\n",
       "</style>\n",
       "<table border=\"1\" class=\"dataframe\">\n",
       "  <thead>\n",
       "    <tr style=\"text-align: right;\">\n",
       "      <th></th>\n",
       "      <th>CustID</th>\n",
       "      <th>churn</th>\n",
       "      <th>Churn_Prob</th>\n",
       "    </tr>\n",
       "  </thead>\n",
       "  <tbody>\n",
       "    <tr>\n",
       "      <th>0</th>\n",
       "      <td>20296</td>\n",
       "      <td>1</td>\n",
       "      <td>0.772121</td>\n",
       "    </tr>\n",
       "    <tr>\n",
       "      <th>1</th>\n",
       "      <td>8279</td>\n",
       "      <td>1</td>\n",
       "      <td>0.557510</td>\n",
       "    </tr>\n",
       "    <tr>\n",
       "      <th>2</th>\n",
       "      <td>72269</td>\n",
       "      <td>0</td>\n",
       "      <td>0.071703</td>\n",
       "    </tr>\n",
       "    <tr>\n",
       "      <th>3</th>\n",
       "      <td>65602</td>\n",
       "      <td>0</td>\n",
       "      <td>0.320182</td>\n",
       "    </tr>\n",
       "    <tr>\n",
       "      <th>4</th>\n",
       "      <td>42758</td>\n",
       "      <td>1</td>\n",
       "      <td>0.702365</td>\n",
       "    </tr>\n",
       "  </tbody>\n",
       "</table>\n",
       "</div>"
      ],
      "text/plain": [
       "   CustID  churn  Churn_Prob\n",
       "0   20296      1    0.772121\n",
       "1    8279      1    0.557510\n",
       "2   72269      0    0.071703\n",
       "3   65602      0    0.320182\n",
       "4   42758      1    0.702365"
      ]
     },
     "execution_count": 443,
     "metadata": {},
     "output_type": "execute_result"
    }
   ],
   "source": [
    "# Putting CustID to index to final output variable data set\n",
    "y_test_df['CustID'] = y_test_df.index\n",
    "# Removing index for both dataframes to append them side by side \n",
    "y_pred_1.reset_index(drop=True, inplace=True)\n",
    "y_test_df.reset_index(drop=True, inplace=True)\n",
    "# Appending y_test_df and y_pred_1\n",
    "y_pred_final = pd.concat([y_test_df,y_pred_1],axis=1)\n",
    "# Renaming the column \n",
    "y_pred_final= y_pred_final.rename(columns={ 1 : 'Churn_Prob'})\n",
    "# Rearranging the columns\n",
    "y_pred_final = y_pred_final.reindex_axis(['CustID','churn','Churn_Prob'], axis=1)\n",
    "# Let's see the head of y_pred_final\n",
    "y_pred_final.head()"
   ]
  },
  {
   "cell_type": "code",
   "execution_count": 444,
   "metadata": {},
   "outputs": [
    {
     "data": {
      "text/html": [
       "<div>\n",
       "<style scoped>\n",
       "    .dataframe tbody tr th:only-of-type {\n",
       "        vertical-align: middle;\n",
       "    }\n",
       "\n",
       "    .dataframe tbody tr th {\n",
       "        vertical-align: top;\n",
       "    }\n",
       "\n",
       "    .dataframe thead th {\n",
       "        text-align: right;\n",
       "    }\n",
       "</style>\n",
       "<table border=\"1\" class=\"dataframe\">\n",
       "  <thead>\n",
       "    <tr style=\"text-align: right;\">\n",
       "      <th></th>\n",
       "      <th>CustID</th>\n",
       "      <th>churn</th>\n",
       "      <th>Churn_Prob</th>\n",
       "      <th>predicted</th>\n",
       "    </tr>\n",
       "  </thead>\n",
       "  <tbody>\n",
       "    <tr>\n",
       "      <th>0</th>\n",
       "      <td>20296</td>\n",
       "      <td>1</td>\n",
       "      <td>0.772121</td>\n",
       "      <td>1</td>\n",
       "    </tr>\n",
       "    <tr>\n",
       "      <th>1</th>\n",
       "      <td>8279</td>\n",
       "      <td>1</td>\n",
       "      <td>0.557510</td>\n",
       "      <td>1</td>\n",
       "    </tr>\n",
       "    <tr>\n",
       "      <th>2</th>\n",
       "      <td>72269</td>\n",
       "      <td>0</td>\n",
       "      <td>0.071703</td>\n",
       "      <td>0</td>\n",
       "    </tr>\n",
       "    <tr>\n",
       "      <th>3</th>\n",
       "      <td>65602</td>\n",
       "      <td>0</td>\n",
       "      <td>0.320182</td>\n",
       "      <td>0</td>\n",
       "    </tr>\n",
       "    <tr>\n",
       "      <th>4</th>\n",
       "      <td>42758</td>\n",
       "      <td>1</td>\n",
       "      <td>0.702365</td>\n",
       "      <td>1</td>\n",
       "    </tr>\n",
       "  </tbody>\n",
       "</table>\n",
       "</div>"
      ],
      "text/plain": [
       "   CustID  churn  Churn_Prob  predicted\n",
       "0   20296      1    0.772121          1\n",
       "1    8279      1    0.557510          1\n",
       "2   72269      0    0.071703          0\n",
       "3   65602      0    0.320182          0\n",
       "4   42758      1    0.702365          1"
      ]
     },
     "execution_count": 444,
     "metadata": {},
     "output_type": "execute_result"
    }
   ],
   "source": [
    "# Creating new column 'predicted' with 1 if Churn_Prob>0.5 else 0\n",
    "y_pred_final['predicted'] = y_pred_final.Churn_Prob.map( lambda x: 1 if x > 0.5 else 0)\n",
    "# Let's see the head\n",
    "y_pred_final.head()\n",
    "\n",
    "#We have chosen probability cutoff as 0.5 i.e if probability >0.5 then potential lead is likely to churn  else not"
   ]
  },
  {
   "cell_type": "code",
   "execution_count": 445,
   "metadata": {},
   "outputs": [
    {
     "data": {
      "text/plain": [
       "0.7966892567492501"
      ]
     },
     "execution_count": 445,
     "metadata": {},
     "output_type": "execute_result"
    }
   ],
   "source": [
    "#Importing metrics module to calculate accuracy of the final predicted values\n",
    "from sklearn import metrics\n",
    "metrics.accuracy_score(y_pred_final.churn, y_pred_final.predicted)\n",
    "\n",
    "#We have achieved 80% of accuracy using selected model."
   ]
  },
  {
   "cell_type": "code",
   "execution_count": 446,
   "metadata": {},
   "outputs": [],
   "source": [
    "#Plotting ROC curve\n",
    "def draw_roc_curve( y_test, pred_proba_test ):        \n",
    "    fpr_test, tpr_test, thresholds = metrics.roc_curve(y_test, pred_proba_test)\n",
    "    #fpr_tr, tpr_tr, thresholds = metrics.roc_curve(y_tr, pred_proba_tr[:,1])\n",
    "    auc_test=metrics.roc_auc_score(y_test,pred_proba_test)\n",
    "    #auc_tr=roc_auc_score(y_tr,pred_proba_tr[:,1])\n",
    "    #plt.plot(fpr_tr, tpr_tr, 'b-', label='Train_ROC= %.2f'  %(auc_tr))\n",
    "    plt.plot(fpr_test, tpr_test, 'r-', label='Test_ROC= %.2f'  %(auc_test))\n",
    "    plt.plot(fpr_test, fpr_test, 'g-', label='x=y')\n",
    "    plt.xlabel('False Positive Rate or [1 - True Negative Rate]')\n",
    "    plt.grid(True)\n",
    "    plt.title('Receiver operating characteristic example')\n",
    "    plt.ylabel('True Positive Rate')\n",
    "    plt.legend(loc='best')\n",
    "    plt.show()\n",
    "    return auc_test"
   ]
  },
  {
   "cell_type": "code",
   "execution_count": 447,
   "metadata": {},
   "outputs": [
    {
     "data": {
      "image/png": "[encoded data removed]",
      "text/plain": [
       "<Figure size 432x288 with 1 Axes>"
      ]
     },
     "metadata": {},
     "output_type": "display_data"
    },
    {
     "name": "stdout",
     "output_type": "stream",
     "text": [
      "0.8700322385165434\n"
     ]
    }
   ],
   "source": [
    "auc_test=draw_roc_curve( y_pred_final.churn, y_pred_final.Churn_Prob )\n",
    "print(auc_test)"
   ]
  },
  {
   "cell_type": "code",
   "execution_count": 448,
   "metadata": {},
   "outputs": [],
   "source": [
    "#Plotting consfusion matirx to check total positive prediction rate\n",
    "def plotconfusionmatrix(y_test,pred_test):\n",
    "    df=metrics.confusion_matrix(y_test, pred_test);\n",
    "    labels = ['Negative', 'Positive']\n",
    "    ax= plt.subplot()\n",
    "    sns.heatmap(df, annot=True, ax = ax,fmt='g');\n",
    "    ax.set_xlabel('Predicted labels');ax.set_ylabel('True labels');\n",
    "    ax.xaxis.set_ticklabels(labels); ax.yaxis.set_ticklabels(labels);\n",
    "    ax.set_title('Confusion Matrix'); \n",
    "    plt.show();\n",
    "    return df"
   ]
  },
  {
   "cell_type": "code",
   "execution_count": 449,
   "metadata": {},
   "outputs": [
    {
     "data": {
      "image/png": "[encoded data removed]",
      "text/plain": [
       "<Figure size 432x288 with 2 Axes>"
      ]
     },
     "metadata": {},
     "output_type": "display_data"
    }
   ],
   "source": [
    "# Confusion matrix \n",
    "confusion=plotconfusionmatrix( y_pred_final.churn, y_pred_final.predicted )"
   ]
  },
  {
   "cell_type": "code",
   "execution_count": 450,
   "metadata": {},
   "outputs": [],
   "source": [
    "TP = confusion[1,1] # true positive \n",
    "TN = confusion[0,0] # true negatives\n",
    "FP = confusion[0,1] # false positives\n",
    "FN = confusion[1,0] # false negatives"
   ]
  },
  {
   "cell_type": "code",
   "execution_count": 451,
   "metadata": {},
   "outputs": [
    {
     "data": {
      "text/plain": [
       "0.2664359861591695"
      ]
     },
     "execution_count": 451,
     "metadata": {},
     "output_type": "execute_result"
    }
   ],
   "source": [
    "Precision=TP/(TP+FP)\n",
    "Precision"
   ]
  }
 ],
 "metadata": {
  "kernelspec": {
   "display_name": "Python 3",
   "language": "python",
   "name": "python3"
  },
  "language_info": {
   "codemirror_mode": {
    "name": "ipython",
    "version": 3
   },
   "file_extension": ".py",
   "mimetype": "text/x-python",
   "name": "python",
   "nbconvert_exporter": "python",
   "pygments_lexer": "ipython3",
   "version": "3.6.5"
  }
 },
 "nbformat": 4,
 "nbformat_minor": 2
}
