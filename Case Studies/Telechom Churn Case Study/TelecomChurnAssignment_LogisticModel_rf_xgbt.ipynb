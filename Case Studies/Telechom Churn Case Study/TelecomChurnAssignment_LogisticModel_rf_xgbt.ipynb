{
 "cells": [
  {
   "cell_type": "markdown",
   "metadata": {},
   "source": [
    "### Understanding the data"
   ]
  },
  {
   "cell_type": "code",
   "execution_count": 552,
   "metadata": {},
   "outputs": [],
   "source": [
    "#Importing the required libraries\n",
    "import pandas as pd\n",
    "import numpy as np\n",
    "import matplotlib.pyplot as plt\n",
    "import seaborn as sns\n",
    "%matplotlib inline\n",
    "# To ignore warnings\n",
    "import warnings\n",
    "warnings.filterwarnings(\"ignore\")"
   ]
  },
  {
   "cell_type": "code",
   "execution_count": 553,
   "metadata": {},
   "outputs": [],
   "source": [
    "#Uploading the data\n",
    "telecom_data=pd.read_csv(\"telecom_churn_data.csv\")"
   ]
  },
  {
   "cell_type": "code",
   "execution_count": 554,
   "metadata": {},
   "outputs": [
    {
     "data": {
      "text/html": [
       "<div>\n",
       "<style scoped>\n",
       "    .dataframe tbody tr th:only-of-type {\n",
       "        vertical-align: middle;\n",
       "    }\n",
       "\n",
       "    .dataframe tbody tr th {\n",
       "        vertical-align: top;\n",
       "    }\n",
       "\n",
       "    .dataframe thead th {\n",
       "        text-align: right;\n",
       "    }\n",
       "</style>\n",
       "<table border=\"1\" class=\"dataframe\">\n",
       "  <thead>\n",
       "    <tr style=\"text-align: right;\">\n",
       "      <th></th>\n",
       "      <th>mobile_number</th>\n",
       "      <th>circle_id</th>\n",
       "      <th>loc_og_t2o_mou</th>\n",
       "      <th>std_og_t2o_mou</th>\n",
       "      <th>loc_ic_t2o_mou</th>\n",
       "      <th>last_date_of_month_6</th>\n",
       "      <th>last_date_of_month_7</th>\n",
       "      <th>last_date_of_month_8</th>\n",
       "      <th>last_date_of_month_9</th>\n",
       "      <th>arpu_6</th>\n",
       "      <th>...</th>\n",
       "      <th>sachet_3g_9</th>\n",
       "      <th>fb_user_6</th>\n",
       "      <th>fb_user_7</th>\n",
       "      <th>fb_user_8</th>\n",
       "      <th>fb_user_9</th>\n",
       "      <th>aon</th>\n",
       "      <th>aug_vbc_3g</th>\n",
       "      <th>jul_vbc_3g</th>\n",
       "      <th>jun_vbc_3g</th>\n",
       "      <th>sep_vbc_3g</th>\n",
       "    </tr>\n",
       "  </thead>\n",
       "  <tbody>\n",
       "    <tr>\n",
       "      <th>0</th>\n",
       "      <td>7000842753</td>\n",
       "      <td>109</td>\n",
       "      <td>0.0</td>\n",
       "      <td>0.0</td>\n",
       "      <td>0.0</td>\n",
       "      <td>6/30/2014</td>\n",
       "      <td>7/31/2014</td>\n",
       "      <td>8/31/2014</td>\n",
       "      <td>9/30/2014</td>\n",
       "      <td>197.385</td>\n",
       "      <td>...</td>\n",
       "      <td>0</td>\n",
       "      <td>1.0</td>\n",
       "      <td>1.0</td>\n",
       "      <td>1.0</td>\n",
       "      <td>NaN</td>\n",
       "      <td>968</td>\n",
       "      <td>30.4</td>\n",
       "      <td>0.0</td>\n",
       "      <td>101.20</td>\n",
       "      <td>3.58</td>\n",
       "    </tr>\n",
       "    <tr>\n",
       "      <th>1</th>\n",
       "      <td>7001865778</td>\n",
       "      <td>109</td>\n",
       "      <td>0.0</td>\n",
       "      <td>0.0</td>\n",
       "      <td>0.0</td>\n",
       "      <td>6/30/2014</td>\n",
       "      <td>7/31/2014</td>\n",
       "      <td>8/31/2014</td>\n",
       "      <td>9/30/2014</td>\n",
       "      <td>34.047</td>\n",
       "      <td>...</td>\n",
       "      <td>0</td>\n",
       "      <td>NaN</td>\n",
       "      <td>1.0</td>\n",
       "      <td>1.0</td>\n",
       "      <td>NaN</td>\n",
       "      <td>1006</td>\n",
       "      <td>0.0</td>\n",
       "      <td>0.0</td>\n",
       "      <td>0.00</td>\n",
       "      <td>0.00</td>\n",
       "    </tr>\n",
       "    <tr>\n",
       "      <th>2</th>\n",
       "      <td>7001625959</td>\n",
       "      <td>109</td>\n",
       "      <td>0.0</td>\n",
       "      <td>0.0</td>\n",
       "      <td>0.0</td>\n",
       "      <td>6/30/2014</td>\n",
       "      <td>7/31/2014</td>\n",
       "      <td>8/31/2014</td>\n",
       "      <td>9/30/2014</td>\n",
       "      <td>167.690</td>\n",
       "      <td>...</td>\n",
       "      <td>0</td>\n",
       "      <td>NaN</td>\n",
       "      <td>NaN</td>\n",
       "      <td>NaN</td>\n",
       "      <td>1.0</td>\n",
       "      <td>1103</td>\n",
       "      <td>0.0</td>\n",
       "      <td>0.0</td>\n",
       "      <td>4.17</td>\n",
       "      <td>0.00</td>\n",
       "    </tr>\n",
       "    <tr>\n",
       "      <th>3</th>\n",
       "      <td>7001204172</td>\n",
       "      <td>109</td>\n",
       "      <td>0.0</td>\n",
       "      <td>0.0</td>\n",
       "      <td>0.0</td>\n",
       "      <td>6/30/2014</td>\n",
       "      <td>7/31/2014</td>\n",
       "      <td>8/31/2014</td>\n",
       "      <td>9/30/2014</td>\n",
       "      <td>221.338</td>\n",
       "      <td>...</td>\n",
       "      <td>0</td>\n",
       "      <td>NaN</td>\n",
       "      <td>NaN</td>\n",
       "      <td>NaN</td>\n",
       "      <td>NaN</td>\n",
       "      <td>2491</td>\n",
       "      <td>0.0</td>\n",
       "      <td>0.0</td>\n",
       "      <td>0.00</td>\n",
       "      <td>0.00</td>\n",
       "    </tr>\n",
       "    <tr>\n",
       "      <th>4</th>\n",
       "      <td>7000142493</td>\n",
       "      <td>109</td>\n",
       "      <td>0.0</td>\n",
       "      <td>0.0</td>\n",
       "      <td>0.0</td>\n",
       "      <td>6/30/2014</td>\n",
       "      <td>7/31/2014</td>\n",
       "      <td>8/31/2014</td>\n",
       "      <td>9/30/2014</td>\n",
       "      <td>261.636</td>\n",
       "      <td>...</td>\n",
       "      <td>0</td>\n",
       "      <td>0.0</td>\n",
       "      <td>NaN</td>\n",
       "      <td>NaN</td>\n",
       "      <td>NaN</td>\n",
       "      <td>1526</td>\n",
       "      <td>0.0</td>\n",
       "      <td>0.0</td>\n",
       "      <td>0.00</td>\n",
       "      <td>0.00</td>\n",
       "    </tr>\n",
       "  </tbody>\n",
       "</table>\n",
       "<p>5 rows × 226 columns</p>\n",
       "</div>"
      ],
      "text/plain": [
       "   mobile_number  circle_id  loc_og_t2o_mou  std_og_t2o_mou  loc_ic_t2o_mou  \\\n",
       "0     7000842753        109             0.0             0.0             0.0   \n",
       "1     7001865778        109             0.0             0.0             0.0   \n",
       "2     7001625959        109             0.0             0.0             0.0   \n",
       "3     7001204172        109             0.0             0.0             0.0   \n",
       "4     7000142493        109             0.0             0.0             0.0   \n",
       "\n",
       "  last_date_of_month_6 last_date_of_month_7 last_date_of_month_8  \\\n",
       "0            6/30/2014            7/31/2014            8/31/2014   \n",
       "1            6/30/2014            7/31/2014            8/31/2014   \n",
       "2            6/30/2014            7/31/2014            8/31/2014   \n",
       "3            6/30/2014            7/31/2014            8/31/2014   \n",
       "4            6/30/2014            7/31/2014            8/31/2014   \n",
       "\n",
       "  last_date_of_month_9   arpu_6     ...      sachet_3g_9  fb_user_6  \\\n",
       "0            9/30/2014  197.385     ...                0        1.0   \n",
       "1            9/30/2014   34.047     ...                0        NaN   \n",
       "2            9/30/2014  167.690     ...                0        NaN   \n",
       "3            9/30/2014  221.338     ...                0        NaN   \n",
       "4            9/30/2014  261.636     ...                0        0.0   \n",
       "\n",
       "   fb_user_7  fb_user_8  fb_user_9   aon  aug_vbc_3g  jul_vbc_3g  jun_vbc_3g  \\\n",
       "0        1.0        1.0        NaN   968        30.4         0.0      101.20   \n",
       "1        1.0        1.0        NaN  1006         0.0         0.0        0.00   \n",
       "2        NaN        NaN        1.0  1103         0.0         0.0        4.17   \n",
       "3        NaN        NaN        NaN  2491         0.0         0.0        0.00   \n",
       "4        NaN        NaN        NaN  1526         0.0         0.0        0.00   \n",
       "\n",
       "   sep_vbc_3g  \n",
       "0        3.58  \n",
       "1        0.00  \n",
       "2        0.00  \n",
       "3        0.00  \n",
       "4        0.00  \n",
       "\n",
       "[5 rows x 226 columns]"
      ]
     },
     "execution_count": 554,
     "metadata": {},
     "output_type": "execute_result"
    }
   ],
   "source": [
    "telecom_data.head()"
   ]
  },
  {
   "cell_type": "code",
   "execution_count": 555,
   "metadata": {},
   "outputs": [
    {
     "name": "stdout",
     "output_type": "stream",
     "text": [
      "<class 'pandas.core.frame.DataFrame'>\n",
      "RangeIndex: 99999 entries, 0 to 99998\n",
      "Columns: 226 entries, mobile_number to sep_vbc_3g\n",
      "dtypes: float64(179), int64(35), object(12)\n",
      "memory usage: 172.4+ MB\n"
     ]
    }
   ],
   "source": [
    "telecom_data.info()"
   ]
  },
  {
   "cell_type": "code",
   "execution_count": 556,
   "metadata": {},
   "outputs": [
    {
     "data": {
      "text/plain": [
       "(99999, 226)"
      ]
     },
     "execution_count": 556,
     "metadata": {},
     "output_type": "execute_result"
    }
   ],
   "source": [
    "telecom_data.shape"
   ]
  },
  {
   "cell_type": "markdown",
   "metadata": {},
   "source": [
    "### Imputing and deriving new metrics"
   ]
  },
  {
   "cell_type": "code",
   "execution_count": 557,
   "metadata": {},
   "outputs": [],
   "source": [
    "#Imputing NaN values with 0 for totat recharge amounnt of data and voice calls\n",
    "telecom_data['av_rech_amt_data_6'].fillna(0,inplace=True)\n",
    "telecom_data['av_rech_amt_data_7'].fillna(0,inplace=True)\n",
    "telecom_data['total_rech_amt_7'].fillna(0,inplace=True)\n",
    "telecom_data['total_rech_amt_6'].fillna(0,inplace=True)"
   ]
  },
  {
   "cell_type": "code",
   "execution_count": 558,
   "metadata": {},
   "outputs": [],
   "source": [
    "#Imputing NaN values with 0 for totat no of recharges for data\n",
    "telecom_data['total_rech_data_7'].fillna(0,inplace=True)\n",
    "telecom_data['total_rech_data_6'].fillna(0,inplace=True)"
   ]
  },
  {
   "cell_type": "code",
   "execution_count": 559,
   "metadata": {},
   "outputs": [],
   "source": [
    "#Step1 : Deriving new metrics\n",
    "#Calculating total recharge amount for data\n",
    "telecom_data['total_rech_data_amt_7'] = telecom_data['av_rech_amt_data_7'] * telecom_data['total_rech_data_7']\n",
    "telecom_data['total_rech_data_amt_6'] = telecom_data['av_rech_amt_data_6'] * telecom_data['total_rech_data_6']"
   ]
  },
  {
   "cell_type": "code",
   "execution_count": 560,
   "metadata": {},
   "outputs": [],
   "source": [
    "#Step2 : Filtering hig value customers\n",
    "#Calculating average amount of total recharge done for both Jun(6) and July(7)\n",
    "telecom_data['avg_rech_6_7'] = (telecom_data['total_rech_data_amt_7'] + telecom_data['total_rech_data_amt_6'] + telecom_data['total_rech_amt_6'] + telecom_data['total_rech_amt_7'])/4"
   ]
  },
  {
   "cell_type": "code",
   "execution_count": 561,
   "metadata": {},
   "outputs": [
    {
     "data": {
      "text/plain": [
       "0    279.50\n",
       "1    153.00\n",
       "2    120.75\n",
       "3    135.00\n",
       "4    150.50\n",
       "Name: avg_rech_6_7, dtype: float64"
      ]
     },
     "execution_count": 561,
     "metadata": {},
     "output_type": "execute_result"
    }
   ],
   "source": [
    "#Inspecting average recharge amount\n",
    "telecom_data['avg_rech_6_7'].head()"
   ]
  },
  {
   "cell_type": "code",
   "execution_count": 562,
   "metadata": {},
   "outputs": [],
   "source": [
    "#Filtering out high value customers who have done average recharge greater than or equal to 70th percentile of average amount of June and July\n",
    "telecom_data_high_cust = telecom_data[(telecom_data['avg_rech_6_7'] >= round(np.percentile(telecom_data['avg_rech_6_7'],70),2))]"
   ]
  },
  {
   "cell_type": "code",
   "execution_count": 563,
   "metadata": {},
   "outputs": [
    {
     "data": {
      "text/plain": [
       "(30001, 229)"
      ]
     },
     "execution_count": 563,
     "metadata": {},
     "output_type": "execute_result"
    }
   ],
   "source": [
    "#Inspecting final data frame of high value customers\n",
    "telecom_data_high_cust.shape\n",
    "\n",
    "#We got total 30001 high value customers which is very close to 29.9k customers as mentioned in problem statement"
   ]
  },
  {
   "cell_type": "code",
   "execution_count": 564,
   "metadata": {},
   "outputs": [
    {
     "data": {
      "text/plain": [
       "0"
      ]
     },
     "execution_count": 564,
     "metadata": {},
     "output_type": "execute_result"
    }
   ],
   "source": [
    "#Step3 : Tag churners and remove attributes of the churn phase\n",
    "\n",
    "#Inspecting null values for total incomming for month of August\n",
    "telecom_data_high_cust['total_ic_mou_9'].isna().sum()"
   ]
  },
  {
   "cell_type": "code",
   "execution_count": 565,
   "metadata": {},
   "outputs": [
    {
     "data": {
      "text/plain": [
       "0"
      ]
     },
     "execution_count": 565,
     "metadata": {},
     "output_type": "execute_result"
    }
   ],
   "source": [
    "#Inspecting null values for total outgoing for month of August\n",
    "telecom_data_high_cust['total_og_mou_9'].isna().sum()"
   ]
  },
  {
   "cell_type": "code",
   "execution_count": 566,
   "metadata": {},
   "outputs": [
    {
     "data": {
      "text/plain": [
       "0"
      ]
     },
     "execution_count": 566,
     "metadata": {},
     "output_type": "execute_result"
    }
   ],
   "source": [
    "#Inspecting null values for usage of 2g mobile data for month of August\n",
    "telecom_data_high_cust['vol_2g_mb_9'].isna().sum()"
   ]
  },
  {
   "cell_type": "code",
   "execution_count": 567,
   "metadata": {},
   "outputs": [
    {
     "data": {
      "text/plain": [
       "0"
      ]
     },
     "execution_count": 567,
     "metadata": {},
     "output_type": "execute_result"
    }
   ],
   "source": [
    "#Inspecting null values for usage of 3g mobile data for month of August\n",
    "telecom_data_high_cust['vol_3g_mb_9'].isna().sum()"
   ]
  },
  {
   "cell_type": "code",
   "execution_count": 568,
   "metadata": {},
   "outputs": [],
   "source": [
    "#Creating a custom function to tag customers as churn =1/0 based on certain criteria\n",
    "def isChurn(x):\n",
    "    if x['total_ic_mou_9'] == 0 and x['total_og_mou_9'] == 0 and x['vol_2g_mb_9'] == 0 and x['vol_3g_mb_9'] == 0:\n",
    "        return 1\n",
    "    else:\n",
    "        return 0"
   ]
  },
  {
   "cell_type": "code",
   "execution_count": 569,
   "metadata": {},
   "outputs": [],
   "source": [
    "#Tagging customers as churn/Not churn by applying above custom function\n",
    "telecom_data_high_cust['churn'] = telecom_data_high_cust.apply(isChurn,axis=1)"
   ]
  },
  {
   "cell_type": "code",
   "execution_count": 570,
   "metadata": {},
   "outputs": [
    {
     "name": "stdout",
     "output_type": "stream",
     "text": [
      "0.08136395453484883\n"
     ]
    },
    {
     "data": {
      "text/plain": [
       "0    27560\n",
       "1     2441\n",
       "Name: churn, dtype: int64"
      ]
     },
     "execution_count": 570,
     "metadata": {},
     "output_type": "execute_result"
    }
   ],
   "source": [
    "#Inspecting the total count of churned and not churned customers\n",
    "print((telecom_data_high_cust['churn'].sum())/len(telecom_data_high_cust.index))\n",
    "telecom_data_high_cust['churn'].value_counts()\n",
    "\n",
    "#We can conclude that we have total 2.4k churned customers."
   ]
  },
  {
   "cell_type": "markdown",
   "metadata": {},
   "source": [
    "#### There is clearly a class imbalance which could effect our model"
   ]
  },
  {
   "cell_type": "code",
   "execution_count": 571,
   "metadata": {
    "scrolled": true
   },
   "outputs": [],
   "source": [
    "#Removing attrbiutes from final data frame for churn phase( with _9 suffix)\n",
    "telecom_data_high_cust.drop([col for col in telecom_data_high_cust.columns if \"_9\" in col], axis=1, inplace=True)"
   ]
  },
  {
   "cell_type": "code",
   "execution_count": 572,
   "metadata": {},
   "outputs": [
    {
     "data": {
      "text/plain": [
       "Index(['mobile_number', 'circle_id', 'loc_og_t2o_mou', 'std_og_t2o_mou',\n",
       "       'loc_ic_t2o_mou', 'last_date_of_month_6', 'last_date_of_month_7',\n",
       "       'last_date_of_month_8', 'arpu_6', 'arpu_7',\n",
       "       ...\n",
       "       'fb_user_8', 'aon', 'aug_vbc_3g', 'jul_vbc_3g', 'jun_vbc_3g',\n",
       "       'sep_vbc_3g', 'total_rech_data_amt_7', 'total_rech_data_amt_6',\n",
       "       'avg_rech_6_7', 'churn'],\n",
       "      dtype='object', length=176)"
      ]
     },
     "execution_count": 572,
     "metadata": {},
     "output_type": "execute_result"
    }
   ],
   "source": [
    "telecom_data_high_cust.columns"
   ]
  },
  {
   "cell_type": "code",
   "execution_count": 573,
   "metadata": {
    "scrolled": true
   },
   "outputs": [
    {
     "data": {
      "text/plain": [
       "night_pck_user_8            47.0\n",
       "fb_user_8                   47.0\n",
       "count_rech_2g_8             47.0\n",
       "count_rech_3g_8             47.0\n",
       "total_rech_data_8           47.0\n",
       "av_rech_amt_data_8          47.0\n",
       "date_of_last_rech_data_8    47.0\n",
       "arpu_3g_8                   47.0\n",
       "arpu_2g_8                   47.0\n",
       "max_rech_data_8             47.0\n",
       "arpu_2g_6                   44.0\n",
       "count_rech_2g_6             44.0\n",
       "count_rech_3g_6             44.0\n",
       "max_rech_data_6             44.0\n",
       "date_of_last_rech_data_6    44.0\n",
       "arpu_3g_6                   44.0\n",
       "fb_user_6                   44.0\n",
       "night_pck_user_6            44.0\n",
       "night_pck_user_7            43.0\n",
       "count_rech_2g_7             43.0\n",
       "count_rech_3g_7             43.0\n",
       "date_of_last_rech_data_7    43.0\n",
       "arpu_3g_7                   43.0\n",
       "arpu_2g_7                   43.0\n",
       "fb_user_7                   43.0\n",
       "max_rech_data_7             43.0\n",
       "std_og_t2t_mou_8             4.0\n",
       "loc_ic_mou_8                 4.0\n",
       "std_ic_t2t_mou_8             4.0\n",
       "isd_og_mou_8                 4.0\n",
       "                            ... \n",
       "sep_vbc_3g                   0.0\n",
       "total_rech_data_amt_7        0.0\n",
       "total_rech_data_amt_6        0.0\n",
       "vol_2g_mb_8                  0.0\n",
       "vol_2g_mb_6                  0.0\n",
       "total_og_mou_7               0.0\n",
       "total_rech_amt_8             0.0\n",
       "total_og_mou_8               0.0\n",
       "avg_rech_6_7                 0.0\n",
       "total_ic_mou_6               0.0\n",
       "total_ic_mou_7               0.0\n",
       "total_ic_mou_8               0.0\n",
       "total_rech_num_6             0.0\n",
       "total_rech_num_7             0.0\n",
       "total_rech_num_8             0.0\n",
       "total_rech_amt_6             0.0\n",
       "total_rech_amt_7             0.0\n",
       "max_rech_amt_6               0.0\n",
       "av_rech_amt_data_7           0.0\n",
       "max_rech_amt_7               0.0\n",
       "max_rech_amt_8               0.0\n",
       "date_of_last_rech_6          0.0\n",
       "date_of_last_rech_7          0.0\n",
       "last_day_rch_amt_6           0.0\n",
       "last_day_rch_amt_7           0.0\n",
       "last_day_rch_amt_8           0.0\n",
       "total_rech_data_6            0.0\n",
       "total_rech_data_7            0.0\n",
       "av_rech_amt_data_6           0.0\n",
       "mobile_number                0.0\n",
       "Length: 176, dtype: float64"
      ]
     },
     "execution_count": 573,
     "metadata": {},
     "output_type": "execute_result"
    }
   ],
   "source": [
    "# Inspecting the null values in the filtered data\n",
    "round(100*(telecom_data_high_cust.isnull().sum()/len(telecom_data_high_cust.index))).sort_values(ascending=False)"
   ]
  },
  {
   "cell_type": "code",
   "execution_count": 574,
   "metadata": {},
   "outputs": [],
   "source": [
    "#Removing date columns as they hold any relevance in predicting the churn\n",
    "telecom_data_high_cust.drop([col for col in telecom_data_high_cust.columns if \"date\" in col], axis=1, inplace=True)"
   ]
  },
  {
   "cell_type": "code",
   "execution_count": 575,
   "metadata": {},
   "outputs": [
    {
     "data": {
      "text/plain": [
       "count_rech_3g_8          47.0\n",
       "max_rech_data_8          47.0\n",
       "av_rech_amt_data_8       47.0\n",
       "count_rech_2g_8          47.0\n",
       "total_rech_data_8        47.0\n",
       "night_pck_user_8         47.0\n",
       "arpu_3g_8                47.0\n",
       "fb_user_8                47.0\n",
       "arpu_2g_8                47.0\n",
       "max_rech_data_6          44.0\n",
       "arpu_2g_6                44.0\n",
       "night_pck_user_6         44.0\n",
       "fb_user_6                44.0\n",
       "arpu_3g_6                44.0\n",
       "count_rech_3g_6          44.0\n",
       "count_rech_2g_6          44.0\n",
       "arpu_2g_7                43.0\n",
       "count_rech_2g_7          43.0\n",
       "fb_user_7                43.0\n",
       "night_pck_user_7         43.0\n",
       "arpu_3g_7                43.0\n",
       "max_rech_data_7          43.0\n",
       "count_rech_3g_7          43.0\n",
       "loc_og_mou_8              4.0\n",
       "loc_og_t2f_mou_8          4.0\n",
       "loc_ic_mou_8              4.0\n",
       "loc_og_t2c_mou_8          4.0\n",
       "std_og_mou_8              4.0\n",
       "std_ic_t2t_mou_8          4.0\n",
       "std_og_t2t_mou_8          4.0\n",
       "                         ... \n",
       "jun_vbc_3g                0.0\n",
       "sep_vbc_3g                0.0\n",
       "total_rech_data_amt_7     0.0\n",
       "total_rech_data_amt_6     0.0\n",
       "vol_3g_mb_6               0.0\n",
       "vol_2g_mb_7               0.0\n",
       "total_og_mou_7            0.0\n",
       "vol_2g_mb_6               0.0\n",
       "total_og_mou_8            0.0\n",
       "avg_rech_6_7              0.0\n",
       "total_ic_mou_6            0.0\n",
       "total_ic_mou_7            0.0\n",
       "total_ic_mou_8            0.0\n",
       "total_rech_num_6          0.0\n",
       "total_rech_num_7          0.0\n",
       "total_rech_num_8          0.0\n",
       "total_rech_amt_6          0.0\n",
       "total_rech_amt_7          0.0\n",
       "total_rech_amt_8          0.0\n",
       "max_rech_amt_6            0.0\n",
       "max_rech_amt_7            0.0\n",
       "max_rech_amt_8            0.0\n",
       "last_day_rch_amt_6        0.0\n",
       "last_day_rch_amt_7        0.0\n",
       "last_day_rch_amt_8        0.0\n",
       "total_rech_data_6         0.0\n",
       "total_rech_data_7         0.0\n",
       "av_rech_amt_data_6        0.0\n",
       "av_rech_amt_data_7        0.0\n",
       "mobile_number             0.0\n",
       "Length: 167, dtype: float64"
      ]
     },
     "execution_count": 575,
     "metadata": {},
     "output_type": "execute_result"
    }
   ],
   "source": [
    "# Inspecting the null values in the filtered data\n",
    "round(100*(telecom_data_high_cust.isnull().sum()/len(telecom_data_high_cust.index))).sort_values(ascending=False)"
   ]
  },
  {
   "cell_type": "code",
   "execution_count": 576,
   "metadata": {},
   "outputs": [],
   "source": [
    "# Removing the columns with more than 30% missing data\n",
    "telecom_data_high_cust=telecom_data_high_cust.loc[:,round(100*(telecom_data_high_cust.isnull().sum()/len(telecom_data_high_cust.index))).sort_values(ascending=False)<30]"
   ]
  },
  {
   "cell_type": "code",
   "execution_count": 577,
   "metadata": {
    "scrolled": true
   },
   "outputs": [
    {
     "data": {
      "text/plain": [
       "loc_ic_t2f_mou_8          True\n",
       "std_ic_t2f_mou_8          True\n",
       "std_og_t2t_mou_8          True\n",
       "loc_og_t2c_mou_8          True\n",
       "loc_ic_mou_8              True\n",
       "loc_og_t2f_mou_8          True\n",
       "std_ic_t2m_mou_8          True\n",
       "std_ic_mou_8              True\n",
       "loc_og_t2m_mou_8          True\n",
       "std_og_t2m_mou_8          True\n",
       "loc_og_t2t_mou_8          True\n",
       "loc_ic_t2m_mou_8          True\n",
       "ic_others_8               True\n",
       "roam_og_mou_8             True\n",
       "std_ic_t2t_mou_8          True\n",
       "roam_ic_mou_8             True\n",
       "loc_ic_t2t_mou_8          True\n",
       "isd_ic_mou_8              True\n",
       "og_others_8               True\n",
       "std_og_t2f_mou_8          True\n",
       "isd_og_mou_8              True\n",
       "std_ic_t2o_mou_8          True\n",
       "spl_og_mou_8              True\n",
       "offnet_mou_8              True\n",
       "spl_ic_mou_8              True\n",
       "onnet_mou_8               True\n",
       "std_og_mou_8              True\n",
       "std_og_t2c_mou_8          True\n",
       "loc_og_mou_8              True\n",
       "std_ic_t2f_mou_6          True\n",
       "                         ...  \n",
       "jun_vbc_3g               False\n",
       "sep_vbc_3g               False\n",
       "total_rech_data_amt_7    False\n",
       "total_rech_data_amt_6    False\n",
       "vol_3g_mb_6              False\n",
       "vol_2g_mb_7              False\n",
       "total_og_mou_7           False\n",
       "vol_2g_mb_6              False\n",
       "total_og_mou_8           False\n",
       "avg_rech_6_7             False\n",
       "total_ic_mou_6           False\n",
       "total_ic_mou_7           False\n",
       "total_ic_mou_8           False\n",
       "total_rech_num_6         False\n",
       "total_rech_num_7         False\n",
       "total_rech_num_8         False\n",
       "total_rech_amt_6         False\n",
       "total_rech_amt_7         False\n",
       "total_rech_amt_8         False\n",
       "max_rech_amt_6           False\n",
       "max_rech_amt_7           False\n",
       "max_rech_amt_8           False\n",
       "last_day_rch_amt_6       False\n",
       "last_day_rch_amt_7       False\n",
       "last_day_rch_amt_8       False\n",
       "total_rech_data_6        False\n",
       "total_rech_data_7        False\n",
       "av_rech_amt_data_6       False\n",
       "av_rech_amt_data_7       False\n",
       "mobile_number            False\n",
       "Length: 144, dtype: bool"
      ]
     },
     "execution_count": 577,
     "metadata": {},
     "output_type": "execute_result"
    }
   ],
   "source": [
    "# Inspecting the null values in the filtered data\n",
    "round(100*(telecom_data_high_cust.isnull().sum()/len(telecom_data_high_cust.index))).sort_values(ascending=False)>0"
   ]
  },
  {
   "cell_type": "code",
   "execution_count": 578,
   "metadata": {
    "scrolled": true
   },
   "outputs": [
    {
     "data": {
      "text/plain": [
       "ic_others_8         3.91\n",
       "std_og_t2t_mou_8    3.91\n",
       "loc_ic_t2m_mou_8    3.91\n",
       "loc_ic_t2t_mou_8    3.91\n",
       "og_others_8         3.91\n",
       "spl_og_mou_8        3.91\n",
       "isd_og_mou_8        3.91\n",
       "std_og_t2c_mou_8    3.91\n",
       "std_og_t2f_mou_8    3.91\n",
       "std_og_t2m_mou_8    3.91\n",
       "loc_og_mou_8        3.91\n",
       "loc_ic_mou_8        3.91\n",
       "loc_og_t2c_mou_8    3.91\n",
       "loc_og_t2f_mou_8    3.91\n",
       "loc_og_t2m_mou_8    3.91\n",
       "loc_og_t2t_mou_8    3.91\n",
       "roam_og_mou_8       3.91\n",
       "roam_ic_mou_8       3.91\n",
       "offnet_mou_8        3.91\n",
       "onnet_mou_8         3.91\n",
       "loc_ic_t2f_mou_8    3.91\n",
       "std_og_mou_8        3.91\n",
       "std_ic_t2m_mou_8    3.91\n",
       "spl_ic_mou_8        3.91\n",
       "std_ic_t2t_mou_8    3.91\n",
       "std_ic_t2f_mou_8    3.91\n",
       "std_ic_mou_8        3.91\n",
       "isd_ic_mou_8        3.91\n",
       "std_ic_t2o_mou_8    3.91\n",
       "std_ic_t2o_mou_6    1.82\n",
       "                    ... \n",
       "loc_og_t2t_mou_7    1.79\n",
       "loc_og_t2m_mou_7    1.79\n",
       "spl_ic_mou_7        1.79\n",
       "onnet_mou_7         1.79\n",
       "roam_ic_mou_7       1.79\n",
       "isd_ic_mou_7        1.79\n",
       "loc_og_t2f_mou_7    1.79\n",
       "std_ic_t2t_mou_7    1.79\n",
       "loc_og_t2c_mou_7    1.79\n",
       "isd_og_mou_7        1.79\n",
       "loc_ic_mou_7        1.79\n",
       "loc_ic_t2f_mou_7    1.79\n",
       "std_ic_t2m_mou_7    1.79\n",
       "loc_ic_t2m_mou_7    1.79\n",
       "loc_ic_t2t_mou_7    1.79\n",
       "og_others_7         1.79\n",
       "std_ic_t2f_mou_7    1.79\n",
       "loc_og_mou_7        1.79\n",
       "spl_og_mou_7        1.79\n",
       "ic_others_7         1.79\n",
       "std_og_mou_7        1.79\n",
       "std_og_t2c_mou_7    1.79\n",
       "std_ic_t2o_mou_7    1.79\n",
       "std_og_t2f_mou_7    1.79\n",
       "std_og_t2m_mou_7    1.79\n",
       "std_og_t2t_mou_7    1.79\n",
       "std_ic_mou_7        1.79\n",
       "loc_ic_t2o_mou      0.75\n",
       "std_og_t2o_mou      0.75\n",
       "loc_og_t2o_mou      0.75\n",
       "Length: 90, dtype: float64"
      ]
     },
     "execution_count": 578,
     "metadata": {},
     "output_type": "execute_result"
    }
   ],
   "source": [
    "round(100*telecom_data_high_cust.loc[:,telecom_data_high_cust.isnull().any()].isnull().sum()/len(telecom_data_high_cust.index),2).sort_values(ascending=False)"
   ]
  },
  {
   "cell_type": "code",
   "execution_count": 579,
   "metadata": {},
   "outputs": [
    {
     "name": "stdout",
     "output_type": "stream",
     "text": [
      "4.989833672210926 for 5\n",
      "4.989833672210926 for 10\n",
      "4.989833672210926 for 15\n",
      "4.989833672210926 for 20\n",
      "4.989833672210926 for 25\n",
      "1.6832772240925302 for 30\n",
      "1.6832772240925302 for 35\n",
      "1.6832772240925302 for 40\n",
      "1.6832772240925302 for 45\n",
      "1.6832772240925302 for 50\n"
     ]
    }
   ],
   "source": [
    "# Computing percentage of rows for various numbers of missing values\n",
    "num=[5,10,15,20,25,30,35,40,45,50]\n",
    "for i in num:\n",
    "    print(str(100*(len(telecom_data_high_cust[telecom_data_high_cust.isnull().sum(axis=1) > i].index) / len(telecom_data_high_cust.index)))+' for '+str(i))"
   ]
  },
  {
   "cell_type": "markdown",
   "metadata": {},
   "source": [
    "Lets have a look at rows with more than 5 missing values"
   ]
  },
  {
   "cell_type": "code",
   "execution_count": 580,
   "metadata": {
    "scrolled": true
   },
   "outputs": [
    {
     "data": {
      "text/plain": [
       "isd_ic_mou_8             3.91\n",
       "std_og_t2t_mou_8         3.91\n",
       "std_ic_t2o_mou_8         3.91\n",
       "loc_og_t2f_mou_8         3.91\n",
       "std_ic_t2f_mou_8         3.91\n",
       "loc_og_t2m_mou_8         3.91\n",
       "loc_og_mou_8             3.91\n",
       "std_ic_t2m_mou_8         3.91\n",
       "loc_og_t2t_mou_8         3.91\n",
       "std_og_t2f_mou_8         3.91\n",
       "std_ic_t2t_mou_8         3.91\n",
       "roam_og_mou_8            3.91\n",
       "loc_ic_mou_8             3.91\n",
       "roam_ic_mou_8            3.91\n",
       "loc_og_t2c_mou_8         3.91\n",
       "loc_ic_t2f_mou_8         3.91\n",
       "offnet_mou_8             3.91\n",
       "loc_ic_t2m_mou_8         3.91\n",
       "spl_ic_mou_8             3.91\n",
       "onnet_mou_8              3.91\n",
       "loc_ic_t2t_mou_8         3.91\n",
       "std_og_t2c_mou_8         3.91\n",
       "std_og_t2m_mou_8         3.91\n",
       "og_others_8              3.91\n",
       "std_og_mou_8             3.91\n",
       "spl_og_mou_8             3.91\n",
       "ic_others_8              3.91\n",
       "isd_og_mou_8             3.91\n",
       "std_ic_mou_8             3.91\n",
       "spl_ic_mou_6             1.82\n",
       "                         ... \n",
       "jun_vbc_3g               0.00\n",
       "sep_vbc_3g               0.00\n",
       "total_rech_data_amt_7    0.00\n",
       "total_rech_data_amt_6    0.00\n",
       "vol_3g_mb_6              0.00\n",
       "vol_2g_mb_7              0.00\n",
       "total_og_mou_7           0.00\n",
       "vol_2g_mb_6              0.00\n",
       "total_og_mou_8           0.00\n",
       "avg_rech_6_7             0.00\n",
       "total_ic_mou_6           0.00\n",
       "total_ic_mou_7           0.00\n",
       "total_ic_mou_8           0.00\n",
       "total_rech_num_6         0.00\n",
       "total_rech_num_7         0.00\n",
       "total_rech_num_8         0.00\n",
       "total_rech_amt_6         0.00\n",
       "total_rech_amt_7         0.00\n",
       "total_rech_amt_8         0.00\n",
       "max_rech_amt_6           0.00\n",
       "max_rech_amt_7           0.00\n",
       "max_rech_amt_8           0.00\n",
       "last_day_rch_amt_6       0.00\n",
       "last_day_rch_amt_7       0.00\n",
       "last_day_rch_amt_8       0.00\n",
       "total_rech_data_6        0.00\n",
       "total_rech_data_7        0.00\n",
       "av_rech_amt_data_6       0.00\n",
       "av_rech_amt_data_7       0.00\n",
       "mobile_number            0.00\n",
       "Length: 144, dtype: float64"
      ]
     },
     "execution_count": 580,
     "metadata": {},
     "output_type": "execute_result"
    }
   ],
   "source": [
    "# look at the summary again\n",
    "round(100*(telecom_data_high_cust.isnull().sum()/len(telecom_data_high_cust.index)), 2).sort_values(ascending=False)"
   ]
  },
  {
   "cell_type": "code",
   "execution_count": 581,
   "metadata": {},
   "outputs": [],
   "source": [
    "#Imputing all NAN's in data frame with 0 since only number columns are left now\n",
    "telecom_data_high_cust.fillna(0,inplace=True)"
   ]
  },
  {
   "cell_type": "markdown",
   "metadata": {},
   "source": [
    "No missing values are left in the data and we are have retained 147 columns"
   ]
  },
  {
   "cell_type": "code",
   "execution_count": 582,
   "metadata": {},
   "outputs": [
    {
     "data": {
      "text/plain": [
       "circle_id                1\n",
       "loc_og_t2o_mou           1\n",
       "std_og_t2o_mou           1\n",
       "loc_ic_t2o_mou           1\n",
       "std_ic_t2o_mou_8         1\n",
       "std_ic_t2o_mou_7         1\n",
       "std_ic_t2o_mou_6         1\n",
       "std_og_t2c_mou_8         1\n",
       "std_og_t2c_mou_7         1\n",
       "std_og_t2c_mou_6         1\n",
       "churn                    2\n",
       "monthly_2g_6             5\n",
       "monthly_2g_8             6\n",
       "monthly_2g_7             6\n",
       "monthly_3g_8            12\n",
       "monthly_3g_6            12\n",
       "monthly_3g_7            15\n",
       "sachet_3g_6             25\n",
       "sachet_3g_7             27\n",
       "sachet_3g_8             29\n",
       "sachet_2g_6             31\n",
       "sachet_2g_8             34\n",
       "sachet_2g_7             35\n",
       "total_rech_data_6       38\n",
       "total_rech_data_7       43\n",
       "spl_ic_mou_6            78\n",
       "spl_ic_mou_8            80\n",
       "spl_ic_mou_7            92\n",
       "total_rech_num_8        96\n",
       "total_rech_num_7       101\n",
       "                     ...  \n",
       "loc_ic_t2m_mou_8     15122\n",
       "loc_og_t2m_mou_8     15130\n",
       "loc_ic_t2m_mou_6     15461\n",
       "loc_ic_t2m_mou_7     15547\n",
       "loc_og_t2m_mou_6     15625\n",
       "loc_og_t2m_mou_7     15674\n",
       "onnet_mou_8          15872\n",
       "std_og_mou_6         15922\n",
       "std_og_mou_7         15958\n",
       "onnet_mou_6          16890\n",
       "onnet_mou_7          16987\n",
       "loc_og_mou_8         17582\n",
       "loc_ic_mou_8         18069\n",
       "loc_og_mou_6         18348\n",
       "loc_ic_mou_7         18496\n",
       "loc_og_mou_7         18502\n",
       "loc_ic_mou_6         18524\n",
       "total_ic_mou_8       19581\n",
       "total_ic_mou_6       20121\n",
       "total_ic_mou_7       20161\n",
       "offnet_mou_8         20163\n",
       "offnet_mou_6         21220\n",
       "offnet_mou_7         21263\n",
       "total_og_mou_8       22316\n",
       "total_og_mou_6       23519\n",
       "total_og_mou_7       23684\n",
       "arpu_8               28073\n",
       "arpu_6               29072\n",
       "arpu_7               29084\n",
       "mobile_number        30001\n",
       "Length: 144, dtype: int64"
      ]
     },
     "execution_count": 582,
     "metadata": {},
     "output_type": "execute_result"
    }
   ],
   "source": [
    "telecom_data_high_cust.nunique().sort_values(ascending=True)"
   ]
  },
  {
   "cell_type": "code",
   "execution_count": 583,
   "metadata": {},
   "outputs": [
    {
     "name": "stdout",
     "output_type": "stream",
     "text": [
      "circle_id\n",
      "loc_og_t2o_mou\n",
      "std_og_t2o_mou\n",
      "loc_ic_t2o_mou\n",
      "std_og_t2c_mou_6\n",
      "std_og_t2c_mou_7\n",
      "std_og_t2c_mou_8\n",
      "std_ic_t2o_mou_6\n",
      "std_ic_t2o_mou_7\n",
      "std_ic_t2o_mou_8\n"
     ]
    }
   ],
   "source": [
    "for col in telecom_data_high_cust.columns:\n",
    "    if len(telecom_data_high_cust[col].unique()) == 1:\n",
    "        telecom_data_high_cust.drop(col,inplace=True,axis=1)\n",
    "        print (col)"
   ]
  },
  {
   "cell_type": "code",
   "execution_count": 584,
   "metadata": {},
   "outputs": [],
   "source": [
    "telecom_data_high_cust.drop(['mobile_number'], axis =1, inplace = True)"
   ]
  },
  {
   "cell_type": "code",
   "execution_count": 585,
   "metadata": {},
   "outputs": [
    {
     "name": "stdout",
     "output_type": "stream",
     "text": [
      "0.08136395453484883\n"
     ]
    },
    {
     "data": {
      "text/plain": [
       "0    27560\n",
       "1     2441\n",
       "Name: churn, dtype: int64"
      ]
     },
     "execution_count": 585,
     "metadata": {},
     "output_type": "execute_result"
    }
   ],
   "source": [
    "#Checking for class imbalance again\n",
    "print((telecom_data_high_cust['churn'].sum())/len(telecom_data_high_cust.index))\n",
    "telecom_data_high_cust['churn'].value_counts()\n"
   ]
  },
  {
   "cell_type": "markdown",
   "metadata": {},
   "source": [
    "### Identifying Important redictors"
   ]
  },
  {
   "cell_type": "code",
   "execution_count": 586,
   "metadata": {},
   "outputs": [],
   "source": [
    "X=telecom_data_high_cust.drop(['churn'],axis=1)\n",
    "y=telecom_data_high_cust['churn']"
   ]
  },
  {
   "cell_type": "code",
   "execution_count": 587,
   "metadata": {},
   "outputs": [
    {
     "data": {
      "text/html": [
       "<div>\n",
       "<style scoped>\n",
       "    .dataframe tbody tr th:only-of-type {\n",
       "        vertical-align: middle;\n",
       "    }\n",
       "\n",
       "    .dataframe tbody tr th {\n",
       "        vertical-align: top;\n",
       "    }\n",
       "\n",
       "    .dataframe thead th {\n",
       "        text-align: right;\n",
       "    }\n",
       "</style>\n",
       "<table border=\"1\" class=\"dataframe\">\n",
       "  <thead>\n",
       "    <tr style=\"text-align: right;\">\n",
       "      <th></th>\n",
       "      <th>arpu_6</th>\n",
       "      <th>arpu_7</th>\n",
       "      <th>arpu_8</th>\n",
       "      <th>onnet_mou_6</th>\n",
       "      <th>onnet_mou_7</th>\n",
       "      <th>onnet_mou_8</th>\n",
       "      <th>offnet_mou_6</th>\n",
       "      <th>offnet_mou_7</th>\n",
       "      <th>offnet_mou_8</th>\n",
       "      <th>roam_ic_mou_6</th>\n",
       "      <th>...</th>\n",
       "      <th>sachet_3g_7</th>\n",
       "      <th>sachet_3g_8</th>\n",
       "      <th>aon</th>\n",
       "      <th>aug_vbc_3g</th>\n",
       "      <th>jul_vbc_3g</th>\n",
       "      <th>jun_vbc_3g</th>\n",
       "      <th>sep_vbc_3g</th>\n",
       "      <th>total_rech_data_amt_7</th>\n",
       "      <th>total_rech_data_amt_6</th>\n",
       "      <th>avg_rech_6_7</th>\n",
       "    </tr>\n",
       "  </thead>\n",
       "  <tbody>\n",
       "    <tr>\n",
       "      <th>0</th>\n",
       "      <td>197.385</td>\n",
       "      <td>214.816</td>\n",
       "      <td>213.803</td>\n",
       "      <td>0.00</td>\n",
       "      <td>0.00</td>\n",
       "      <td>0.00</td>\n",
       "      <td>0.00</td>\n",
       "      <td>0.00</td>\n",
       "      <td>0.00</td>\n",
       "      <td>0.00</td>\n",
       "      <td>...</td>\n",
       "      <td>0</td>\n",
       "      <td>0</td>\n",
       "      <td>968</td>\n",
       "      <td>30.40</td>\n",
       "      <td>0.00</td>\n",
       "      <td>101.20</td>\n",
       "      <td>3.58</td>\n",
       "      <td>252.0</td>\n",
       "      <td>252.0</td>\n",
       "      <td>279.5</td>\n",
       "    </tr>\n",
       "    <tr>\n",
       "      <th>7</th>\n",
       "      <td>1069.180</td>\n",
       "      <td>1349.850</td>\n",
       "      <td>3171.480</td>\n",
       "      <td>57.84</td>\n",
       "      <td>54.68</td>\n",
       "      <td>52.29</td>\n",
       "      <td>453.43</td>\n",
       "      <td>567.16</td>\n",
       "      <td>325.91</td>\n",
       "      <td>16.23</td>\n",
       "      <td>...</td>\n",
       "      <td>0</td>\n",
       "      <td>0</td>\n",
       "      <td>802</td>\n",
       "      <td>57.74</td>\n",
       "      <td>19.38</td>\n",
       "      <td>18.74</td>\n",
       "      <td>0.00</td>\n",
       "      <td>0.0</td>\n",
       "      <td>0.0</td>\n",
       "      <td>592.5</td>\n",
       "    </tr>\n",
       "    <tr>\n",
       "      <th>8</th>\n",
       "      <td>378.721</td>\n",
       "      <td>492.223</td>\n",
       "      <td>137.362</td>\n",
       "      <td>413.69</td>\n",
       "      <td>351.03</td>\n",
       "      <td>35.08</td>\n",
       "      <td>94.66</td>\n",
       "      <td>80.63</td>\n",
       "      <td>136.48</td>\n",
       "      <td>0.00</td>\n",
       "      <td>...</td>\n",
       "      <td>0</td>\n",
       "      <td>0</td>\n",
       "      <td>315</td>\n",
       "      <td>21.03</td>\n",
       "      <td>910.65</td>\n",
       "      <td>122.16</td>\n",
       "      <td>0.00</td>\n",
       "      <td>354.0</td>\n",
       "      <td>0.0</td>\n",
       "      <td>348.0</td>\n",
       "    </tr>\n",
       "    <tr>\n",
       "      <th>21</th>\n",
       "      <td>514.453</td>\n",
       "      <td>597.753</td>\n",
       "      <td>637.760</td>\n",
       "      <td>102.41</td>\n",
       "      <td>132.11</td>\n",
       "      <td>85.14</td>\n",
       "      <td>757.93</td>\n",
       "      <td>896.68</td>\n",
       "      <td>983.39</td>\n",
       "      <td>0.00</td>\n",
       "      <td>...</td>\n",
       "      <td>0</td>\n",
       "      <td>0</td>\n",
       "      <td>720</td>\n",
       "      <td>0.00</td>\n",
       "      <td>0.00</td>\n",
       "      <td>0.00</td>\n",
       "      <td>0.00</td>\n",
       "      <td>0.0</td>\n",
       "      <td>0.0</td>\n",
       "      <td>320.0</td>\n",
       "    </tr>\n",
       "    <tr>\n",
       "      <th>23</th>\n",
       "      <td>74.350</td>\n",
       "      <td>193.897</td>\n",
       "      <td>366.966</td>\n",
       "      <td>48.96</td>\n",
       "      <td>50.66</td>\n",
       "      <td>33.58</td>\n",
       "      <td>85.41</td>\n",
       "      <td>89.36</td>\n",
       "      <td>205.89</td>\n",
       "      <td>0.00</td>\n",
       "      <td>...</td>\n",
       "      <td>0</td>\n",
       "      <td>1</td>\n",
       "      <td>604</td>\n",
       "      <td>40.45</td>\n",
       "      <td>51.86</td>\n",
       "      <td>0.00</td>\n",
       "      <td>0.00</td>\n",
       "      <td>712.0</td>\n",
       "      <td>0.0</td>\n",
       "      <td>291.5</td>\n",
       "    </tr>\n",
       "  </tbody>\n",
       "</table>\n",
       "<p>5 rows × 132 columns</p>\n",
       "</div>"
      ],
      "text/plain": [
       "      arpu_6    arpu_7    arpu_8  onnet_mou_6  onnet_mou_7  onnet_mou_8  \\\n",
       "0    197.385   214.816   213.803         0.00         0.00         0.00   \n",
       "7   1069.180  1349.850  3171.480        57.84        54.68        52.29   \n",
       "8    378.721   492.223   137.362       413.69       351.03        35.08   \n",
       "21   514.453   597.753   637.760       102.41       132.11        85.14   \n",
       "23    74.350   193.897   366.966        48.96        50.66        33.58   \n",
       "\n",
       "    offnet_mou_6  offnet_mou_7  offnet_mou_8  roam_ic_mou_6      ...       \\\n",
       "0           0.00          0.00          0.00           0.00      ...        \n",
       "7         453.43        567.16        325.91          16.23      ...        \n",
       "8          94.66         80.63        136.48           0.00      ...        \n",
       "21        757.93        896.68        983.39           0.00      ...        \n",
       "23         85.41         89.36        205.89           0.00      ...        \n",
       "\n",
       "    sachet_3g_7  sachet_3g_8  aon  aug_vbc_3g  jul_vbc_3g  jun_vbc_3g  \\\n",
       "0             0            0  968       30.40        0.00      101.20   \n",
       "7             0            0  802       57.74       19.38       18.74   \n",
       "8             0            0  315       21.03      910.65      122.16   \n",
       "21            0            0  720        0.00        0.00        0.00   \n",
       "23            0            1  604       40.45       51.86        0.00   \n",
       "\n",
       "    sep_vbc_3g  total_rech_data_amt_7  total_rech_data_amt_6  avg_rech_6_7  \n",
       "0         3.58                  252.0                  252.0         279.5  \n",
       "7         0.00                    0.0                    0.0         592.5  \n",
       "8         0.00                  354.0                    0.0         348.0  \n",
       "21        0.00                    0.0                    0.0         320.0  \n",
       "23        0.00                  712.0                    0.0         291.5  \n",
       "\n",
       "[5 rows x 132 columns]"
      ]
     },
     "execution_count": 587,
     "metadata": {},
     "output_type": "execute_result"
    }
   ],
   "source": [
    "X.head()"
   ]
  },
  {
   "cell_type": "code",
   "execution_count": 588,
   "metadata": {},
   "outputs": [],
   "source": [
    "from sklearn.model_selection import train_test_split\n",
    "# Splitting the data into train and test\n",
    "X_train, X_test, y_train, y_test = train_test_split(X,y, train_size=0.7,test_size=0.3,random_state=100)"
   ]
  },
  {
   "cell_type": "code",
   "execution_count": 589,
   "metadata": {},
   "outputs": [
    {
     "data": {
      "text/plain": [
       "(21000, 132)"
      ]
     },
     "execution_count": 589,
     "metadata": {},
     "output_type": "execute_result"
    }
   ],
   "source": [
    "X_train.shape"
   ]
  },
  {
   "cell_type": "code",
   "execution_count": 590,
   "metadata": {},
   "outputs": [],
   "source": [
    "from sklearn.ensemble import ExtraTreesClassifier\n",
    "model = ExtraTreesClassifier(class_weight=\"balanced\")\n",
    "model.fit(X_train, y_train)\n",
    "immportance_arr = model.feature_importances_"
   ]
  },
  {
   "cell_type": "code",
   "execution_count": 591,
   "metadata": {},
   "outputs": [
    {
     "data": {
      "text/plain": [
       "array([0.00603068, 0.00841693, 0.04124258, 0.00669911, 0.00470719,\n",
       "       0.00780387, 0.00727517, 0.00688646, 0.01196515, 0.0038396 ,\n",
       "       0.00420099, 0.01050952, 0.00419361, 0.00731158, 0.01138103,\n",
       "       0.00385896, 0.00543047, 0.00790624, 0.00493199, 0.00715705,\n",
       "       0.0209857 , 0.00346222, 0.00360371, 0.00916814, 0.00379339,\n",
       "       0.00427342, 0.00504009, 0.0047572 , 0.00626851, 0.01411753,\n",
       "       0.00804116, 0.00760188, 0.01203832, 0.00870546, 0.00590049,\n",
       "       0.00806495, 0.00194962, 0.0019097 , 0.00275553, 0.00799377,\n",
       "       0.00665857, 0.01211901, 0.00160662, 0.00209866, 0.00134139,\n",
       "       0.0041079 , 0.00472151, 0.00806904, 0.0034768 , 0.00052387,\n",
       "       0.00043352, 0.00642849, 0.00781131, 0.01737837, 0.00447632,\n",
       "       0.00651491, 0.01328227, 0.01322907, 0.00673599, 0.05161196,\n",
       "       0.00424994, 0.00521428, 0.00672057, 0.00520372, 0.01698824,\n",
       "       0.0246428 , 0.00358318, 0.00383489, 0.00407842, 0.00373207,\n",
       "       0.00487277, 0.00720473, 0.00227968, 0.00257736, 0.00289624,\n",
       "       0.00409083, 0.00427822, 0.00725069, 0.00553682, 0.00650378,\n",
       "       0.0148668 , 0.00469211, 0.00257355, 0.01105765, 0.00281346,\n",
       "       0.00348243, 0.00459437, 0.00325968, 0.00349877, 0.00353045,\n",
       "       0.0065453 , 0.00716328, 0.03789718, 0.00737968, 0.00719591,\n",
       "       0.02080415, 0.00504974, 0.00527466, 0.01166424, 0.00595869,\n",
       "       0.00689275, 0.02741972, 0.00488202, 0.00577022, 0.0051032 ,\n",
       "       0.00607285, 0.00425154, 0.00451449, 0.00923368, 0.00425331,\n",
       "       0.00497255, 0.0209039 , 0.00613296, 0.00554449, 0.00512876,\n",
       "       0.00340242, 0.0042546 , 0.01385593, 0.00267376, 0.00328599,\n",
       "       0.00786029, 0.00218869, 0.00280663, 0.00363249, 0.02318326,\n",
       "       0.00603471, 0.00534885, 0.00345768, 0.00305105, 0.0041919 ,\n",
       "       0.00440997, 0.00543941])"
      ]
     },
     "execution_count": 591,
     "metadata": {},
     "output_type": "execute_result"
    }
   ],
   "source": [
    "immportance_arr"
   ]
  },
  {
   "cell_type": "code",
   "execution_count": 592,
   "metadata": {},
   "outputs": [],
   "source": [
    "imp_col = pd.DataFrame(immportance_arr)"
   ]
  },
  {
   "cell_type": "code",
   "execution_count": 593,
   "metadata": {},
   "outputs": [],
   "source": [
    "imp_col['Features'] = X_train.columns"
   ]
  },
  {
   "cell_type": "code",
   "execution_count": 594,
   "metadata": {},
   "outputs": [],
   "source": [
    "imp_col.columns = ['Importance','Feature Name']"
   ]
  },
  {
   "cell_type": "code",
   "execution_count": 595,
   "metadata": {},
   "outputs": [],
   "source": [
    "imp_col = imp_col.sort_values(by=['Importance'],ascending=False)"
   ]
  },
  {
   "cell_type": "code",
   "execution_count": 596,
   "metadata": {},
   "outputs": [
    {
     "data": {
      "text/html": [
       "<div>\n",
       "<style scoped>\n",
       "    .dataframe tbody tr th:only-of-type {\n",
       "        vertical-align: middle;\n",
       "    }\n",
       "\n",
       "    .dataframe tbody tr th {\n",
       "        vertical-align: top;\n",
       "    }\n",
       "\n",
       "    .dataframe thead th {\n",
       "        text-align: right;\n",
       "    }\n",
       "</style>\n",
       "<table border=\"1\" class=\"dataframe\">\n",
       "  <thead>\n",
       "    <tr style=\"text-align: right;\">\n",
       "      <th></th>\n",
       "      <th>index</th>\n",
       "      <th>Importance</th>\n",
       "      <th>Feature Name</th>\n",
       "    </tr>\n",
       "  </thead>\n",
       "  <tbody>\n",
       "    <tr>\n",
       "      <th>0</th>\n",
       "      <td>59</td>\n",
       "      <td>0.051612</td>\n",
       "      <td>loc_ic_t2m_mou_8</td>\n",
       "    </tr>\n",
       "    <tr>\n",
       "      <th>1</th>\n",
       "      <td>2</td>\n",
       "      <td>0.041243</td>\n",
       "      <td>arpu_8</td>\n",
       "    </tr>\n",
       "    <tr>\n",
       "      <th>2</th>\n",
       "      <td>92</td>\n",
       "      <td>0.037897</td>\n",
       "      <td>total_rech_num_8</td>\n",
       "    </tr>\n",
       "    <tr>\n",
       "      <th>3</th>\n",
       "      <td>101</td>\n",
       "      <td>0.027420</td>\n",
       "      <td>last_day_rch_amt_8</td>\n",
       "    </tr>\n",
       "    <tr>\n",
       "      <th>4</th>\n",
       "      <td>65</td>\n",
       "      <td>0.024643</td>\n",
       "      <td>loc_ic_mou_8</td>\n",
       "    </tr>\n",
       "    <tr>\n",
       "      <th>5</th>\n",
       "      <td>124</td>\n",
       "      <td>0.023183</td>\n",
       "      <td>aon</td>\n",
       "    </tr>\n",
       "    <tr>\n",
       "      <th>6</th>\n",
       "      <td>20</td>\n",
       "      <td>0.020986</td>\n",
       "      <td>loc_og_t2m_mou_8</td>\n",
       "    </tr>\n",
       "    <tr>\n",
       "      <th>7</th>\n",
       "      <td>111</td>\n",
       "      <td>0.020904</td>\n",
       "      <td>vol_3g_mb_8</td>\n",
       "    </tr>\n",
       "    <tr>\n",
       "      <th>8</th>\n",
       "      <td>95</td>\n",
       "      <td>0.020804</td>\n",
       "      <td>total_rech_amt_8</td>\n",
       "    </tr>\n",
       "    <tr>\n",
       "      <th>9</th>\n",
       "      <td>53</td>\n",
       "      <td>0.017378</td>\n",
       "      <td>total_og_mou_8</td>\n",
       "    </tr>\n",
       "    <tr>\n",
       "      <th>10</th>\n",
       "      <td>64</td>\n",
       "      <td>0.016988</td>\n",
       "      <td>loc_ic_mou_7</td>\n",
       "    </tr>\n",
       "    <tr>\n",
       "      <th>11</th>\n",
       "      <td>80</td>\n",
       "      <td>0.014867</td>\n",
       "      <td>total_ic_mou_8</td>\n",
       "    </tr>\n",
       "    <tr>\n",
       "      <th>12</th>\n",
       "      <td>29</td>\n",
       "      <td>0.014118</td>\n",
       "      <td>loc_og_mou_8</td>\n",
       "    </tr>\n",
       "    <tr>\n",
       "      <th>13</th>\n",
       "      <td>117</td>\n",
       "      <td>0.013856</td>\n",
       "      <td>sachet_2g_8</td>\n",
       "    </tr>\n",
       "    <tr>\n",
       "      <th>14</th>\n",
       "      <td>56</td>\n",
       "      <td>0.013282</td>\n",
       "      <td>loc_ic_t2t_mou_8</td>\n",
       "    </tr>\n",
       "    <tr>\n",
       "      <th>15</th>\n",
       "      <td>57</td>\n",
       "      <td>0.013229</td>\n",
       "      <td>loc_ic_t2m_mou_6</td>\n",
       "    </tr>\n",
       "    <tr>\n",
       "      <th>16</th>\n",
       "      <td>41</td>\n",
       "      <td>0.012119</td>\n",
       "      <td>std_og_mou_8</td>\n",
       "    </tr>\n",
       "    <tr>\n",
       "      <th>17</th>\n",
       "      <td>32</td>\n",
       "      <td>0.012038</td>\n",
       "      <td>std_og_t2t_mou_8</td>\n",
       "    </tr>\n",
       "    <tr>\n",
       "      <th>18</th>\n",
       "      <td>8</td>\n",
       "      <td>0.011965</td>\n",
       "      <td>offnet_mou_8</td>\n",
       "    </tr>\n",
       "    <tr>\n",
       "      <th>19</th>\n",
       "      <td>98</td>\n",
       "      <td>0.011664</td>\n",
       "      <td>max_rech_amt_8</td>\n",
       "    </tr>\n",
       "    <tr>\n",
       "      <th>20</th>\n",
       "      <td>14</td>\n",
       "      <td>0.011381</td>\n",
       "      <td>roam_og_mou_8</td>\n",
       "    </tr>\n",
       "    <tr>\n",
       "      <th>21</th>\n",
       "      <td>83</td>\n",
       "      <td>0.011058</td>\n",
       "      <td>spl_ic_mou_8</td>\n",
       "    </tr>\n",
       "    <tr>\n",
       "      <th>22</th>\n",
       "      <td>11</td>\n",
       "      <td>0.010510</td>\n",
       "      <td>roam_ic_mou_8</td>\n",
       "    </tr>\n",
       "    <tr>\n",
       "      <th>23</th>\n",
       "      <td>108</td>\n",
       "      <td>0.009234</td>\n",
       "      <td>vol_2g_mb_8</td>\n",
       "    </tr>\n",
       "    <tr>\n",
       "      <th>24</th>\n",
       "      <td>23</td>\n",
       "      <td>0.009168</td>\n",
       "      <td>loc_og_t2f_mou_8</td>\n",
       "    </tr>\n",
       "    <tr>\n",
       "      <th>25</th>\n",
       "      <td>33</td>\n",
       "      <td>0.008705</td>\n",
       "      <td>std_og_t2m_mou_6</td>\n",
       "    </tr>\n",
       "    <tr>\n",
       "      <th>26</th>\n",
       "      <td>1</td>\n",
       "      <td>0.008417</td>\n",
       "      <td>arpu_7</td>\n",
       "    </tr>\n",
       "    <tr>\n",
       "      <th>27</th>\n",
       "      <td>47</td>\n",
       "      <td>0.008069</td>\n",
       "      <td>spl_og_mou_8</td>\n",
       "    </tr>\n",
       "    <tr>\n",
       "      <th>28</th>\n",
       "      <td>35</td>\n",
       "      <td>0.008065</td>\n",
       "      <td>std_og_t2m_mou_8</td>\n",
       "    </tr>\n",
       "    <tr>\n",
       "      <th>29</th>\n",
       "      <td>30</td>\n",
       "      <td>0.008041</td>\n",
       "      <td>std_og_t2t_mou_6</td>\n",
       "    </tr>\n",
       "    <tr>\n",
       "      <th>...</th>\n",
       "      <td>...</td>\n",
       "      <td>...</td>\n",
       "      <td>...</td>\n",
       "    </tr>\n",
       "    <tr>\n",
       "      <th>102</th>\n",
       "      <td>69</td>\n",
       "      <td>0.003732</td>\n",
       "      <td>std_ic_t2m_mou_6</td>\n",
       "    </tr>\n",
       "    <tr>\n",
       "      <th>103</th>\n",
       "      <td>123</td>\n",
       "      <td>0.003632</td>\n",
       "      <td>sachet_3g_8</td>\n",
       "    </tr>\n",
       "    <tr>\n",
       "      <th>104</th>\n",
       "      <td>22</td>\n",
       "      <td>0.003604</td>\n",
       "      <td>loc_og_t2f_mou_7</td>\n",
       "    </tr>\n",
       "    <tr>\n",
       "      <th>105</th>\n",
       "      <td>66</td>\n",
       "      <td>0.003583</td>\n",
       "      <td>std_ic_t2t_mou_6</td>\n",
       "    </tr>\n",
       "    <tr>\n",
       "      <th>106</th>\n",
       "      <td>89</td>\n",
       "      <td>0.003530</td>\n",
       "      <td>ic_others_8</td>\n",
       "    </tr>\n",
       "    <tr>\n",
       "      <th>107</th>\n",
       "      <td>88</td>\n",
       "      <td>0.003499</td>\n",
       "      <td>ic_others_7</td>\n",
       "    </tr>\n",
       "    <tr>\n",
       "      <th>108</th>\n",
       "      <td>85</td>\n",
       "      <td>0.003482</td>\n",
       "      <td>isd_ic_mou_7</td>\n",
       "    </tr>\n",
       "    <tr>\n",
       "      <th>109</th>\n",
       "      <td>48</td>\n",
       "      <td>0.003477</td>\n",
       "      <td>og_others_6</td>\n",
       "    </tr>\n",
       "    <tr>\n",
       "      <th>110</th>\n",
       "      <td>21</td>\n",
       "      <td>0.003462</td>\n",
       "      <td>loc_og_t2f_mou_6</td>\n",
       "    </tr>\n",
       "    <tr>\n",
       "      <th>111</th>\n",
       "      <td>127</td>\n",
       "      <td>0.003458</td>\n",
       "      <td>jun_vbc_3g</td>\n",
       "    </tr>\n",
       "    <tr>\n",
       "      <th>112</th>\n",
       "      <td>115</td>\n",
       "      <td>0.003402</td>\n",
       "      <td>sachet_2g_6</td>\n",
       "    </tr>\n",
       "    <tr>\n",
       "      <th>113</th>\n",
       "      <td>119</td>\n",
       "      <td>0.003286</td>\n",
       "      <td>monthly_3g_7</td>\n",
       "    </tr>\n",
       "    <tr>\n",
       "      <th>114</th>\n",
       "      <td>87</td>\n",
       "      <td>0.003260</td>\n",
       "      <td>ic_others_6</td>\n",
       "    </tr>\n",
       "    <tr>\n",
       "      <th>115</th>\n",
       "      <td>128</td>\n",
       "      <td>0.003051</td>\n",
       "      <td>sep_vbc_3g</td>\n",
       "    </tr>\n",
       "    <tr>\n",
       "      <th>116</th>\n",
       "      <td>74</td>\n",
       "      <td>0.002896</td>\n",
       "      <td>std_ic_t2f_mou_8</td>\n",
       "    </tr>\n",
       "    <tr>\n",
       "      <th>117</th>\n",
       "      <td>84</td>\n",
       "      <td>0.002813</td>\n",
       "      <td>isd_ic_mou_6</td>\n",
       "    </tr>\n",
       "    <tr>\n",
       "      <th>118</th>\n",
       "      <td>122</td>\n",
       "      <td>0.002807</td>\n",
       "      <td>sachet_3g_7</td>\n",
       "    </tr>\n",
       "    <tr>\n",
       "      <th>119</th>\n",
       "      <td>38</td>\n",
       "      <td>0.002756</td>\n",
       "      <td>std_og_t2f_mou_8</td>\n",
       "    </tr>\n",
       "    <tr>\n",
       "      <th>120</th>\n",
       "      <td>118</td>\n",
       "      <td>0.002674</td>\n",
       "      <td>monthly_3g_6</td>\n",
       "    </tr>\n",
       "    <tr>\n",
       "      <th>121</th>\n",
       "      <td>73</td>\n",
       "      <td>0.002577</td>\n",
       "      <td>std_ic_t2f_mou_7</td>\n",
       "    </tr>\n",
       "    <tr>\n",
       "      <th>122</th>\n",
       "      <td>82</td>\n",
       "      <td>0.002574</td>\n",
       "      <td>spl_ic_mou_7</td>\n",
       "    </tr>\n",
       "    <tr>\n",
       "      <th>123</th>\n",
       "      <td>72</td>\n",
       "      <td>0.002280</td>\n",
       "      <td>std_ic_t2f_mou_6</td>\n",
       "    </tr>\n",
       "    <tr>\n",
       "      <th>124</th>\n",
       "      <td>121</td>\n",
       "      <td>0.002189</td>\n",
       "      <td>sachet_3g_6</td>\n",
       "    </tr>\n",
       "    <tr>\n",
       "      <th>125</th>\n",
       "      <td>43</td>\n",
       "      <td>0.002099</td>\n",
       "      <td>isd_og_mou_7</td>\n",
       "    </tr>\n",
       "    <tr>\n",
       "      <th>126</th>\n",
       "      <td>36</td>\n",
       "      <td>0.001950</td>\n",
       "      <td>std_og_t2f_mou_6</td>\n",
       "    </tr>\n",
       "    <tr>\n",
       "      <th>127</th>\n",
       "      <td>37</td>\n",
       "      <td>0.001910</td>\n",
       "      <td>std_og_t2f_mou_7</td>\n",
       "    </tr>\n",
       "    <tr>\n",
       "      <th>128</th>\n",
       "      <td>42</td>\n",
       "      <td>0.001607</td>\n",
       "      <td>isd_og_mou_6</td>\n",
       "    </tr>\n",
       "    <tr>\n",
       "      <th>129</th>\n",
       "      <td>44</td>\n",
       "      <td>0.001341</td>\n",
       "      <td>isd_og_mou_8</td>\n",
       "    </tr>\n",
       "    <tr>\n",
       "      <th>130</th>\n",
       "      <td>49</td>\n",
       "      <td>0.000524</td>\n",
       "      <td>og_others_7</td>\n",
       "    </tr>\n",
       "    <tr>\n",
       "      <th>131</th>\n",
       "      <td>50</td>\n",
       "      <td>0.000434</td>\n",
       "      <td>og_others_8</td>\n",
       "    </tr>\n",
       "  </tbody>\n",
       "</table>\n",
       "<p>132 rows × 3 columns</p>\n",
       "</div>"
      ],
      "text/plain": [
       "     index  Importance        Feature Name\n",
       "0       59    0.051612    loc_ic_t2m_mou_8\n",
       "1        2    0.041243              arpu_8\n",
       "2       92    0.037897    total_rech_num_8\n",
       "3      101    0.027420  last_day_rch_amt_8\n",
       "4       65    0.024643        loc_ic_mou_8\n",
       "5      124    0.023183                 aon\n",
       "6       20    0.020986    loc_og_t2m_mou_8\n",
       "7      111    0.020904         vol_3g_mb_8\n",
       "8       95    0.020804    total_rech_amt_8\n",
       "9       53    0.017378      total_og_mou_8\n",
       "10      64    0.016988        loc_ic_mou_7\n",
       "11      80    0.014867      total_ic_mou_8\n",
       "12      29    0.014118        loc_og_mou_8\n",
       "13     117    0.013856         sachet_2g_8\n",
       "14      56    0.013282    loc_ic_t2t_mou_8\n",
       "15      57    0.013229    loc_ic_t2m_mou_6\n",
       "16      41    0.012119        std_og_mou_8\n",
       "17      32    0.012038    std_og_t2t_mou_8\n",
       "18       8    0.011965        offnet_mou_8\n",
       "19      98    0.011664      max_rech_amt_8\n",
       "20      14    0.011381       roam_og_mou_8\n",
       "21      83    0.011058        spl_ic_mou_8\n",
       "22      11    0.010510       roam_ic_mou_8\n",
       "23     108    0.009234         vol_2g_mb_8\n",
       "24      23    0.009168    loc_og_t2f_mou_8\n",
       "25      33    0.008705    std_og_t2m_mou_6\n",
       "26       1    0.008417              arpu_7\n",
       "27      47    0.008069        spl_og_mou_8\n",
       "28      35    0.008065    std_og_t2m_mou_8\n",
       "29      30    0.008041    std_og_t2t_mou_6\n",
       "..     ...         ...                 ...\n",
       "102     69    0.003732    std_ic_t2m_mou_6\n",
       "103    123    0.003632         sachet_3g_8\n",
       "104     22    0.003604    loc_og_t2f_mou_7\n",
       "105     66    0.003583    std_ic_t2t_mou_6\n",
       "106     89    0.003530         ic_others_8\n",
       "107     88    0.003499         ic_others_7\n",
       "108     85    0.003482        isd_ic_mou_7\n",
       "109     48    0.003477         og_others_6\n",
       "110     21    0.003462    loc_og_t2f_mou_6\n",
       "111    127    0.003458          jun_vbc_3g\n",
       "112    115    0.003402         sachet_2g_6\n",
       "113    119    0.003286        monthly_3g_7\n",
       "114     87    0.003260         ic_others_6\n",
       "115    128    0.003051          sep_vbc_3g\n",
       "116     74    0.002896    std_ic_t2f_mou_8\n",
       "117     84    0.002813        isd_ic_mou_6\n",
       "118    122    0.002807         sachet_3g_7\n",
       "119     38    0.002756    std_og_t2f_mou_8\n",
       "120    118    0.002674        monthly_3g_6\n",
       "121     73    0.002577    std_ic_t2f_mou_7\n",
       "122     82    0.002574        spl_ic_mou_7\n",
       "123     72    0.002280    std_ic_t2f_mou_6\n",
       "124    121    0.002189         sachet_3g_6\n",
       "125     43    0.002099        isd_og_mou_7\n",
       "126     36    0.001950    std_og_t2f_mou_6\n",
       "127     37    0.001910    std_og_t2f_mou_7\n",
       "128     42    0.001607        isd_og_mou_6\n",
       "129     44    0.001341        isd_og_mou_8\n",
       "130     49    0.000524         og_others_7\n",
       "131     50    0.000434         og_others_8\n",
       "\n",
       "[132 rows x 3 columns]"
      ]
     },
     "execution_count": 596,
     "metadata": {},
     "output_type": "execute_result"
    }
   ],
   "source": [
    "imp_col.reset_index()"
   ]
  },
  {
   "cell_type": "markdown",
   "metadata": {},
   "source": [
    "# Performing PCA on train data set"
   ]
  },
  {
   "cell_type": "code",
   "execution_count": 597,
   "metadata": {},
   "outputs": [],
   "source": [
    "#Importing the PCA module\n",
    "from sklearn.decomposition import PCA\n",
    "pca = PCA(svd_solver='randomized', random_state=42)"
   ]
  },
  {
   "cell_type": "code",
   "execution_count": 598,
   "metadata": {},
   "outputs": [
    {
     "data": {
      "text/plain": [
       "PCA(copy=True, iterated_power='auto', n_components=None, random_state=42,\n",
       "  svd_solver='randomized', tol=0.0, whiten=False)"
      ]
     },
     "execution_count": 598,
     "metadata": {},
     "output_type": "execute_result"
    }
   ],
   "source": [
    "#Doing the PCA on the train data\n",
    "pca.fit(X_train)"
   ]
  },
  {
   "cell_type": "code",
   "execution_count": 599,
   "metadata": {
    "scrolled": true
   },
   "outputs": [
    {
     "data": {
      "text/plain": [
       "array([[-1.52571055e-02, -1.10956271e-02, -1.46108315e-02, ...,\n",
       "         5.59526376e-01,  4.14274034e-01,  2.34284816e-01],\n",
       "       [ 1.65297640e-01,  1.99649899e-01,  1.97720255e-01, ...,\n",
       "         2.03466393e-01,  1.15751227e-01,  1.88836549e-01],\n",
       "       [ 1.35401294e-01,  1.25273997e-01,  1.65921627e-01, ...,\n",
       "        -3.62407893e-01, -1.69399095e-01, -5.47629942e-02],\n",
       "       ...,\n",
       "       [-3.40691772e-16,  4.20152373e-16,  1.25369165e-16, ...,\n",
       "        -2.23602010e-01, -2.23602010e-01,  8.94408040e-01],\n",
       "       [ 0.00000000e+00, -1.61851695e-18,  9.88156732e-18, ...,\n",
       "        -1.45260497e-03, -1.45260497e-03,  5.81041989e-03],\n",
       "       [-0.00000000e+00, -8.12042345e-19, -1.41441929e-18, ...,\n",
       "         1.76303722e-04,  1.76303722e-04, -7.05214888e-04]])"
      ]
     },
     "execution_count": 599,
     "metadata": {},
     "output_type": "execute_result"
    }
   ],
   "source": [
    "pca.components_"
   ]
  },
  {
   "cell_type": "code",
   "execution_count": 600,
   "metadata": {},
   "outputs": [
    {
     "data": {
      "text/html": [
       "<div>\n",
       "<style scoped>\n",
       "    .dataframe tbody tr th:only-of-type {\n",
       "        vertical-align: middle;\n",
       "    }\n",
       "\n",
       "    .dataframe tbody tr th {\n",
       "        vertical-align: top;\n",
       "    }\n",
       "\n",
       "    .dataframe thead th {\n",
       "        text-align: right;\n",
       "    }\n",
       "</style>\n",
       "<table border=\"1\" class=\"dataframe\">\n",
       "  <thead>\n",
       "    <tr style=\"text-align: right;\">\n",
       "      <th></th>\n",
       "      <th>PC1</th>\n",
       "      <th>PC2</th>\n",
       "      <th>Feature</th>\n",
       "    </tr>\n",
       "  </thead>\n",
       "  <tbody>\n",
       "    <tr>\n",
       "      <th>0</th>\n",
       "      <td>-0.015257</td>\n",
       "      <td>0.165298</td>\n",
       "      <td>arpu_6</td>\n",
       "    </tr>\n",
       "    <tr>\n",
       "      <th>1</th>\n",
       "      <td>-0.011096</td>\n",
       "      <td>0.199650</td>\n",
       "      <td>arpu_7</td>\n",
       "    </tr>\n",
       "    <tr>\n",
       "      <th>2</th>\n",
       "      <td>-0.014611</td>\n",
       "      <td>0.197720</td>\n",
       "      <td>arpu_8</td>\n",
       "    </tr>\n",
       "    <tr>\n",
       "      <th>3</th>\n",
       "      <td>-0.064991</td>\n",
       "      <td>0.115659</td>\n",
       "      <td>onnet_mou_6</td>\n",
       "    </tr>\n",
       "    <tr>\n",
       "      <th>4</th>\n",
       "      <td>-0.072272</td>\n",
       "      <td>0.139741</td>\n",
       "      <td>onnet_mou_7</td>\n",
       "    </tr>\n",
       "  </tbody>\n",
       "</table>\n",
       "</div>"
      ],
      "text/plain": [
       "        PC1       PC2      Feature\n",
       "0 -0.015257  0.165298       arpu_6\n",
       "1 -0.011096  0.199650       arpu_7\n",
       "2 -0.014611  0.197720       arpu_8\n",
       "3 -0.064991  0.115659  onnet_mou_6\n",
       "4 -0.072272  0.139741  onnet_mou_7"
      ]
     },
     "execution_count": 600,
     "metadata": {},
     "output_type": "execute_result"
    }
   ],
   "source": [
    "colnames = list(X_train.columns)\n",
    "pcs_df = pd.DataFrame({'PC1':pca.components_[0],'PC2':pca.components_[1], 'Feature':colnames})\n",
    "pcs_df.head()"
   ]
  },
  {
   "cell_type": "code",
   "execution_count": 601,
   "metadata": {
    "scrolled": true
   },
   "outputs": [
    {
     "data": {
      "text/plain": [
       "array([2.63553513e-01, 1.90027237e-01, 8.79770515e-02, 6.91540199e-02,\n",
       "       5.26056275e-02, 4.80019790e-02, 4.25970908e-02, 4.05264914e-02,\n",
       "       3.46694565e-02, 2.31871934e-02, 1.70505672e-02, 1.55469254e-02,\n",
       "       1.38700300e-02, 1.17925061e-02, 1.02402034e-02, 8.64705995e-03,\n",
       "       7.09793749e-03, 5.90942303e-03, 5.42293176e-03, 4.34940104e-03,\n",
       "       4.30627508e-03, 3.45558433e-03, 3.26548164e-03, 3.16676833e-03,\n",
       "       3.03923402e-03, 2.90524621e-03, 2.59733875e-03, 2.50935687e-03,\n",
       "       2.03207918e-03, 1.85556267e-03, 1.74928422e-03, 1.64473961e-03,\n",
       "       1.36028348e-03, 1.27297072e-03, 1.16814522e-03, 9.33300523e-04,\n",
       "       8.24727567e-04, 7.86096684e-04, 7.34509451e-04, 5.97500352e-04,\n",
       "       5.91381955e-04, 5.50416103e-04, 5.16360072e-04, 5.11434873e-04,\n",
       "       4.79138460e-04, 4.72027693e-04, 4.37369026e-04, 4.04448036e-04,\n",
       "       3.49812734e-04, 3.46946669e-04, 3.33536613e-04, 2.94572886e-04,\n",
       "       2.90592342e-04, 2.79688221e-04, 2.52363762e-04, 1.98173912e-04,\n",
       "       1.50374849e-04, 1.45126697e-04, 1.18327147e-04, 1.00424056e-04,\n",
       "       9.63602359e-05, 8.19205965e-05, 7.85577726e-05, 7.34265122e-05,\n",
       "       5.40101013e-05, 5.25477515e-05, 4.43338692e-05, 4.16605151e-05,\n",
       "       3.51870366e-05, 3.29198043e-05, 2.24669002e-05, 2.06850621e-05,\n",
       "       1.64871675e-05, 1.09294763e-05, 1.00229219e-05, 9.56251168e-06,\n",
       "       8.36208816e-06, 6.84689822e-06, 6.77472619e-06, 6.40878346e-06,\n",
       "       5.38807340e-06, 5.26317880e-06, 4.37796584e-06, 4.34338304e-06,\n",
       "       3.46534146e-06, 2.93527210e-06, 2.24376856e-06, 1.60178514e-06,\n",
       "       1.31656202e-06, 1.15964214e-06, 1.09534836e-06, 9.23877993e-07,\n",
       "       6.39115073e-07, 6.27202349e-07, 5.47386976e-07, 2.85945600e-07,\n",
       "       1.95876010e-07, 1.39917602e-07, 1.23102839e-07, 9.61723399e-08,\n",
       "       2.98580499e-08, 2.56598699e-08, 1.80183481e-08, 1.51468000e-08,\n",
       "       6.59961933e-09, 5.90390446e-09, 4.47100590e-09, 3.55274574e-09,\n",
       "       3.28531754e-09, 8.90534266e-10, 7.43421165e-10, 1.56060650e-12,\n",
       "       7.21356635e-13, 5.48918326e-13, 5.24303864e-13, 4.59375374e-13,\n",
       "       4.21875382e-13, 4.13332307e-13, 3.90211668e-13, 3.83089225e-13,\n",
       "       3.34613205e-13, 3.13355549e-13, 2.96725287e-13, 2.71627135e-13,\n",
       "       2.66281810e-13, 2.51616556e-13, 2.41612003e-13, 2.23016163e-13,\n",
       "       2.11438462e-13, 5.19767656e-32, 1.18383071e-33, 1.18383071e-33])"
      ]
     },
     "execution_count": 601,
     "metadata": {},
     "output_type": "execute_result"
    }
   ],
   "source": [
    "pca.explained_variance_ratio_"
   ]
  },
  {
   "cell_type": "code",
   "execution_count": 602,
   "metadata": {},
   "outputs": [
    {
     "data": {
      "image/png": "[encoded data removed]",
      "text/plain": [
       "<Figure size 864x576 with 1 Axes>"
      ]
     },
     "metadata": {},
     "output_type": "display_data"
    }
   ],
   "source": [
    "#Making the screeplot - plotting the cumulative variance against the number of components\n",
    "%matplotlib inline\n",
    "fig = plt.figure(figsize = (12,8))\n",
    "plt.plot(np.cumsum(pca.explained_variance_ratio_))\n",
    "plt.xlabel('number of components')\n",
    "plt.ylabel('cumulative explained variance')\n",
    "plt.show()"
   ]
  },
  {
   "cell_type": "markdown",
   "metadata": {},
   "source": [
    "We'll choose 20 components for modelling as it shows 90% of data vriance which is good."
   ]
  },
  {
   "cell_type": "code",
   "execution_count": 603,
   "metadata": {},
   "outputs": [],
   "source": [
    "#Using incremental PCA\n",
    "from sklearn.decomposition import IncrementalPCA\n",
    "pca_final = IncrementalPCA(n_components=20)"
   ]
  },
  {
   "cell_type": "code",
   "execution_count": 604,
   "metadata": {},
   "outputs": [
    {
     "data": {
      "text/plain": [
       "(21000, 20)"
      ]
     },
     "execution_count": 604,
     "metadata": {},
     "output_type": "execute_result"
    }
   ],
   "source": [
    "df_train_pca = pca_final.fit_transform(X_train)\n",
    "df_train_pca.shape"
   ]
  },
  {
   "cell_type": "code",
   "execution_count": 605,
   "metadata": {},
   "outputs": [
    {
     "data": {
      "text/plain": [
       "<matplotlib.axes._subplots.AxesSubplot at 0x1c50b435470>"
      ]
     },
     "execution_count": 605,
     "metadata": {},
     "output_type": "execute_result"
    },
    {
     "data": {
      "image/png": "[encoded data removed]",
      "text/plain": [
       "<Figure size 1440x720 with 2 Axes>"
      ]
     },
     "metadata": {},
     "output_type": "display_data"
    }
   ],
   "source": [
    "#creating correlation matrix for the principal components\n",
    "corrmat = np.corrcoef(df_train_pca.transpose())\n",
    "%matplotlib inline\n",
    "plt.figure(figsize = (20,10))\n",
    "sns.heatmap(corrmat,annot = True)\n",
    "\n",
    "#We can see from below there is hardly any correlation between pca components."
   ]
  },
  {
   "cell_type": "code",
   "execution_count": 606,
   "metadata": {},
   "outputs": [
    {
     "name": "stdout",
     "output_type": "stream",
     "text": [
      "(21000, 20)\n"
     ]
    },
    {
     "data": {
      "text/html": [
       "<div>\n",
       "<style scoped>\n",
       "    .dataframe tbody tr th:only-of-type {\n",
       "        vertical-align: middle;\n",
       "    }\n",
       "\n",
       "    .dataframe tbody tr th {\n",
       "        vertical-align: top;\n",
       "    }\n",
       "\n",
       "    .dataframe thead th {\n",
       "        text-align: right;\n",
       "    }\n",
       "</style>\n",
       "<table border=\"1\" class=\"dataframe\">\n",
       "  <thead>\n",
       "    <tr style=\"text-align: right;\">\n",
       "      <th></th>\n",
       "      <th>0</th>\n",
       "      <th>1</th>\n",
       "      <th>2</th>\n",
       "      <th>3</th>\n",
       "      <th>4</th>\n",
       "      <th>5</th>\n",
       "      <th>6</th>\n",
       "      <th>7</th>\n",
       "      <th>8</th>\n",
       "      <th>9</th>\n",
       "      <th>10</th>\n",
       "      <th>11</th>\n",
       "      <th>12</th>\n",
       "      <th>13</th>\n",
       "      <th>14</th>\n",
       "      <th>15</th>\n",
       "      <th>16</th>\n",
       "      <th>17</th>\n",
       "      <th>18</th>\n",
       "      <th>19</th>\n",
       "    </tr>\n",
       "  </thead>\n",
       "  <tbody>\n",
       "    <tr>\n",
       "      <th>0</th>\n",
       "      <td>-449.526954</td>\n",
       "      <td>-926.715605</td>\n",
       "      <td>-1444.010517</td>\n",
       "      <td>1004.117839</td>\n",
       "      <td>-69.547681</td>\n",
       "      <td>389.913825</td>\n",
       "      <td>211.795391</td>\n",
       "      <td>2119.308847</td>\n",
       "      <td>639.711099</td>\n",
       "      <td>392.283187</td>\n",
       "      <td>-157.202162</td>\n",
       "      <td>0.469659</td>\n",
       "      <td>-222.678205</td>\n",
       "      <td>-104.809402</td>\n",
       "      <td>-6.599225</td>\n",
       "      <td>-257.316628</td>\n",
       "      <td>-187.928760</td>\n",
       "      <td>503.998710</td>\n",
       "      <td>-340.913557</td>\n",
       "      <td>-146.168209</td>\n",
       "    </tr>\n",
       "    <tr>\n",
       "      <th>1</th>\n",
       "      <td>79.921727</td>\n",
       "      <td>-919.773652</td>\n",
       "      <td>-609.211892</td>\n",
       "      <td>550.370452</td>\n",
       "      <td>51.553118</td>\n",
       "      <td>490.017579</td>\n",
       "      <td>473.327064</td>\n",
       "      <td>499.827474</td>\n",
       "      <td>179.465477</td>\n",
       "      <td>41.722743</td>\n",
       "      <td>19.925318</td>\n",
       "      <td>-214.855815</td>\n",
       "      <td>86.469256</td>\n",
       "      <td>121.306574</td>\n",
       "      <td>-87.439505</td>\n",
       "      <td>103.172507</td>\n",
       "      <td>62.249492</td>\n",
       "      <td>-31.212669</td>\n",
       "      <td>73.457354</td>\n",
       "      <td>-68.206405</td>\n",
       "    </tr>\n",
       "    <tr>\n",
       "      <th>2</th>\n",
       "      <td>-433.967710</td>\n",
       "      <td>-1251.438039</td>\n",
       "      <td>-543.188913</td>\n",
       "      <td>832.656432</td>\n",
       "      <td>-356.292207</td>\n",
       "      <td>865.662044</td>\n",
       "      <td>969.958690</td>\n",
       "      <td>1227.153586</td>\n",
       "      <td>277.757364</td>\n",
       "      <td>-61.839043</td>\n",
       "      <td>-36.636306</td>\n",
       "      <td>4.069046</td>\n",
       "      <td>-198.863481</td>\n",
       "      <td>-68.146859</td>\n",
       "      <td>-102.288912</td>\n",
       "      <td>34.349256</td>\n",
       "      <td>-20.382009</td>\n",
       "      <td>-132.485057</td>\n",
       "      <td>-1.791110</td>\n",
       "      <td>-105.206385</td>\n",
       "    </tr>\n",
       "    <tr>\n",
       "      <th>3</th>\n",
       "      <td>-1828.695040</td>\n",
       "      <td>1507.762739</td>\n",
       "      <td>-265.985634</td>\n",
       "      <td>410.727352</td>\n",
       "      <td>467.138944</td>\n",
       "      <td>1795.844861</td>\n",
       "      <td>-627.579941</td>\n",
       "      <td>-1203.621261</td>\n",
       "      <td>1923.959159</td>\n",
       "      <td>1169.706168</td>\n",
       "      <td>1294.228880</td>\n",
       "      <td>-1766.821669</td>\n",
       "      <td>110.723748</td>\n",
       "      <td>-353.670303</td>\n",
       "      <td>384.903705</td>\n",
       "      <td>-652.843355</td>\n",
       "      <td>1771.123753</td>\n",
       "      <td>-882.350748</td>\n",
       "      <td>-946.182078</td>\n",
       "      <td>38.992348</td>\n",
       "    </tr>\n",
       "    <tr>\n",
       "      <th>4</th>\n",
       "      <td>104.852458</td>\n",
       "      <td>-1105.820458</td>\n",
       "      <td>-285.125388</td>\n",
       "      <td>-314.180788</td>\n",
       "      <td>-15.914133</td>\n",
       "      <td>-508.690608</td>\n",
       "      <td>-389.558414</td>\n",
       "      <td>-927.693355</td>\n",
       "      <td>-136.772104</td>\n",
       "      <td>385.472155</td>\n",
       "      <td>-190.960974</td>\n",
       "      <td>150.246024</td>\n",
       "      <td>-5.260633</td>\n",
       "      <td>-105.529979</td>\n",
       "      <td>-94.517839</td>\n",
       "      <td>96.569554</td>\n",
       "      <td>-55.604105</td>\n",
       "      <td>90.459660</td>\n",
       "      <td>66.256965</td>\n",
       "      <td>23.488761</td>\n",
       "    </tr>\n",
       "  </tbody>\n",
       "</table>\n",
       "</div>"
      ],
      "text/plain": [
       "            0            1            2            3           4   \\\n",
       "0  -449.526954  -926.715605 -1444.010517  1004.117839  -69.547681   \n",
       "1    79.921727  -919.773652  -609.211892   550.370452   51.553118   \n",
       "2  -433.967710 -1251.438039  -543.188913   832.656432 -356.292207   \n",
       "3 -1828.695040  1507.762739  -265.985634   410.727352  467.138944   \n",
       "4   104.852458 -1105.820458  -285.125388  -314.180788  -15.914133   \n",
       "\n",
       "            5           6            7            8            9   \\\n",
       "0   389.913825  211.795391  2119.308847   639.711099   392.283187   \n",
       "1   490.017579  473.327064   499.827474   179.465477    41.722743   \n",
       "2   865.662044  969.958690  1227.153586   277.757364   -61.839043   \n",
       "3  1795.844861 -627.579941 -1203.621261  1923.959159  1169.706168   \n",
       "4  -508.690608 -389.558414  -927.693355  -136.772104   385.472155   \n",
       "\n",
       "            10           11          12          13          14          15  \\\n",
       "0  -157.202162     0.469659 -222.678205 -104.809402   -6.599225 -257.316628   \n",
       "1    19.925318  -214.855815   86.469256  121.306574  -87.439505  103.172507   \n",
       "2   -36.636306     4.069046 -198.863481  -68.146859 -102.288912   34.349256   \n",
       "3  1294.228880 -1766.821669  110.723748 -353.670303  384.903705 -652.843355   \n",
       "4  -190.960974   150.246024   -5.260633 -105.529979  -94.517839   96.569554   \n",
       "\n",
       "            16          17          18          19  \n",
       "0  -187.928760  503.998710 -340.913557 -146.168209  \n",
       "1    62.249492  -31.212669   73.457354  -68.206405  \n",
       "2   -20.382009 -132.485057   -1.791110 -105.206385  \n",
       "3  1771.123753 -882.350748 -946.182078   38.992348  \n",
       "4   -55.604105   90.459660   66.256965   23.488761  "
      ]
     },
     "execution_count": 606,
     "metadata": {},
     "output_type": "execute_result"
    }
   ],
   "source": [
    "#Converting trained pca data into data frame and inspecting size of train pca data frame\n",
    "df_train_pca=pd.DataFrame(df_train_pca)\n",
    "print(df_train_pca.shape)\n",
    "df_train_pca.head()"
   ]
  },
  {
   "cell_type": "code",
   "execution_count": 607,
   "metadata": {},
   "outputs": [],
   "source": [
    "#Predicting the output of churn output variable on train data set.\n",
    "columnList=df_train_pca.columns\n",
    "y_train=y_train.reset_index()\n",
    "df_train_pca['output']=y_train['churn']"
   ]
  },
  {
   "cell_type": "code",
   "execution_count": 608,
   "metadata": {},
   "outputs": [
    {
     "name": "stdout",
     "output_type": "stream",
     "text": [
      "(21000, 20)\n"
     ]
    }
   ],
   "source": [
    "#Inpsecting final pca data set for total no of rows available.\n",
    "y_train=df_train_pca['output']\n",
    "df_train_pca.drop(['output'],axis=1,inplace=True)\n",
    "print(df_train_pca.shape)"
   ]
  },
  {
   "cell_type": "code",
   "execution_count": 609,
   "metadata": {},
   "outputs": [
    {
     "data": {
      "text/plain": [
       "(9001, 20)"
      ]
     },
     "execution_count": 609,
     "metadata": {},
     "output_type": "execute_result"
    }
   ],
   "source": [
    "#Applying selected components to the test data - 20 components\n",
    "df_test_pca = pca_final.transform(X_test)\n",
    "df_test_pca.shape"
   ]
  },
  {
   "cell_type": "code",
   "execution_count": 610,
   "metadata": {},
   "outputs": [
    {
     "data": {
      "image/png": "[encoded data removed]",
      "text/plain": [
       "<Figure size 576x576 with 1 Axes>"
      ]
     },
     "metadata": {},
     "output_type": "display_data"
    }
   ],
   "source": [
    "#Plotting two principal commponents to check the variance of data\n",
    "%matplotlib inline\n",
    "fig = plt.figure(figsize = (8,8))\n",
    "plt.scatter(df_train_pca[:][0], df_train_pca[:][1], c = y_train.map({0:'green',1:'red'}))\n",
    "plt.xlabel('Principal Component 1')\n",
    "plt.ylabel('Principal Component 2')\n",
    "plt.tight_layout()\n",
    "plt.show()\n",
    "\n",
    "#From below plot we can see that data points are quite clearly segggregated."
   ]
  },
  {
   "cell_type": "code",
   "execution_count": 611,
   "metadata": {},
   "outputs": [
    {
     "data": {
      "image/png": "[encoded data removed]",
      "text/plain": [
       "<Figure size 576x576 with 1 Axes>"
      ]
     },
     "metadata": {},
     "output_type": "display_data"
    }
   ],
   "source": [
    "#Inspecting 3d view of principal components plot\n",
    "%matplotlib inline\n",
    "from mpl_toolkits.mplot3d import Axes3D\n",
    "fig = plt.figure(figsize=(8,8))\n",
    "ax = Axes3D(fig)\n",
    "# ax = plt.axes(projection='3d')\n",
    "ax.scatter( df_train_pca.iloc[:,0], df_train_pca.iloc[:,1], c=y_train.map({0:'green',1:'red'}))\n",
    "plt.show()"
   ]
  },
  {
   "cell_type": "markdown",
   "metadata": {},
   "source": [
    "<h3> Trying Different Models"
   ]
  },
  {
   "cell_type": "code",
   "execution_count": 612,
   "metadata": {},
   "outputs": [],
   "source": [
    "from sklearn.svm import SVC\n",
    "from sklearn.metrics import confusion_matrix\n",
    "from sklearn.model_selection import validation_curve\n",
    "from sklearn.model_selection import KFold\n",
    "from sklearn.model_selection import cross_val_score\n",
    "from sklearn.model_selection import GridSearchCV\n",
    "from sklearn import metrics"
   ]
  },
  {
   "cell_type": "markdown",
   "metadata": {},
   "source": [
    "<b> Grid search function to find optimal hyperparameters"
   ]
  },
  {
   "cell_type": "code",
   "execution_count": 613,
   "metadata": {},
   "outputs": [],
   "source": [
    "def ApplyGridSearchCV(model,params):\n",
    "    # creating a KFold object with 5 splits \n",
    "    folds = KFold(n_splits = 5, shuffle = True, random_state = 4)\n",
    "    \n",
    "    # set up grid search scheme\n",
    "    # note that we are still using the 5 fold CV scheme we set up earlier\n",
    "    model_cv = GridSearchCV(estimator = model, \n",
    "                            param_grid = params, \n",
    "                            scoring= 'recall', \n",
    "                            cv = folds, \n",
    "                            verbose = 1,\n",
    "                           return_train_score=True)      \n",
    "    model_cv.fit(df_train_pca, y_train) \n",
    "    cv_results = pd.DataFrame(model_cv.cv_results_)\n",
    "    # plot of C versus train and test scores\n",
    "    return cv_results"
   ]
  },
  {
   "cell_type": "code",
   "execution_count": 614,
   "metadata": {},
   "outputs": [],
   "source": [
    "#Plotting ROC curve\n",
    "def draw_roc_curve( y_test, pred_proba_test ):        \n",
    "    fpr_test, tpr_test, thresholds = metrics.roc_curve(y_test, pred_proba_test)\n",
    "    #fpr_tr, tpr_tr, thresholds = metrics.roc_curve(y_tr, pred_proba_tr[:,1])\n",
    "    auc_test=metrics.roc_auc_score(y_test,pred_proba_test)\n",
    "    #auc_tr=roc_auc_score(y_tr,pred_proba_tr[:,1])\n",
    "    #plt.plot(fpr_tr, tpr_tr, 'b-', label='Train_ROC= %.2f'  %(auc_tr))\n",
    "    plt.plot(fpr_test, tpr_test, 'r-', label='Test_ROC= %.2f'  %(auc_test))\n",
    "    plt.plot(fpr_test, fpr_test, 'g-', label='x=y')\n",
    "    plt.xlabel('False Positive Rate or [1 - True Negative Rate]')\n",
    "    plt.grid(True)\n",
    "    plt.title('Receiver operating characteristic example')\n",
    "    plt.ylabel('True Positive Rate')\n",
    "    plt.legend(loc='best')\n",
    "    plt.show()\n",
    "    return auc_test"
   ]
  },
  {
   "cell_type": "code",
   "execution_count": 615,
   "metadata": {},
   "outputs": [],
   "source": [
    "#Plotting consfusion matirx to check total positive prediction rate\n",
    "def plotconfusionmatrix(y_test,pred_test):\n",
    "    df=metrics.confusion_matrix(y_test, pred_test);\n",
    "    labels = ['Negative', 'Positive']\n",
    "    ax= plt.subplot()\n",
    "    sns.heatmap(df, annot=True, ax = ax,fmt='g');\n",
    "    ax.set_xlabel('Predicted labels');ax.set_ylabel('True labels');\n",
    "    ax.xaxis.set_ticklabels(labels); ax.yaxis.set_ticklabels(labels);\n",
    "    ax.set_title('Confusion Matrix'); \n",
    "    plt.show();\n",
    "    return df"
   ]
  },
  {
   "cell_type": "code",
   "execution_count": 616,
   "metadata": {},
   "outputs": [],
   "source": [
    "from sklearn.metrics import precision_score, recall_score,f1_score,accuracy_score\n",
    "\n",
    "def getMetrics(y_test,pred_test):\n",
    "#     TP = confusion[1,1] # true positive \n",
    "#     TN = confusion[0,0] # true negatives\n",
    "#     FP = confusion[0,1] # false positives\n",
    "#     FN = confusion[1,0] # false negatives\n",
    "#     Precision=TP/(TP+FP)\n",
    "#     Recall=TP/(TP+FN)\n",
    "#     print('Precision')\n",
    "#     print(Precision)\n",
    "#     print('Recall')\n",
    "#     print(Recall)\n",
    "    accuracy = accuracy_score(y_test, pred_test)\n",
    "    precision = precision_score(y_test, pred_test)\n",
    "    recall = recall_score(y_test, pred_test)\n",
    "    f1 = f1_score(y_test, pred_test)\n",
    "    print(\"Accuracy_score: %.2f%% on test dataset\" % (accuracy * 100.0))\n",
    "    print(\"precision_score: %.2f%% on test dataset\" % (precision * 100.0))\n",
    "    print(\"recall_score: %.2f%% on test dataset\" % (recall * 100.0))\n",
    "    print(\"f1_score: %.2f%% on test dataset\" % (f1 * 100.0))"
   ]
  },
  {
   "cell_type": "markdown",
   "metadata": {},
   "source": [
    "<b> 1) Logistic Regression with PCA"
   ]
  },
  {
   "cell_type": "code",
   "execution_count": 617,
   "metadata": {},
   "outputs": [
    {
     "name": "stdout",
     "output_type": "stream",
     "text": [
      "Fitting 5 folds for each of 12 candidates, totalling 60 fits\n"
     ]
    },
    {
     "name": "stderr",
     "output_type": "stream",
     "text": [
      "[Parallel(n_jobs=1)]: Done  60 out of  60 | elapsed:   24.9s finished\n"
     ]
    }
   ],
   "source": [
    "from sklearn.linear_model import LogisticRegression\n",
    "\n",
    "params = {\"C\": [0.01,0.1, 1, 10, 100, 1000],\"penalty\":['l1','l2']}\n",
    "model = LogisticRegression(class_weight='balanced')\n",
    "cv_results_LR=ApplyGridSearchCV(model,params)"
   ]
  },
  {
   "cell_type": "code",
   "execution_count": 618,
   "metadata": {},
   "outputs": [
    {
     "data": {
      "image/png": "[encoded data removed]",
      "text/plain": [
       "<Figure size 576x432 with 1 Axes>"
      ]
     },
     "metadata": {},
     "output_type": "display_data"
    }
   ],
   "source": [
    "plt.figure(figsize=(8, 6))\n",
    "plt.plot(cv_results_LR['param_C'], cv_results_LR['mean_test_score'])\n",
    "plt.plot(cv_results_LR['param_C'], cv_results_LR['mean_train_score'])\n",
    "plt.xlabel('C')\n",
    "plt.ylabel('Recall')\n",
    "plt.legend(['test accuracy', 'train accuracy'], loc='upper left')\n",
    "plt.xscale('log')\n"
   ]
  },
  {
   "cell_type": "code",
   "execution_count": 619,
   "metadata": {},
   "outputs": [
    {
     "data": {
      "text/html": [
       "<div>\n",
       "<style scoped>\n",
       "    .dataframe tbody tr th:only-of-type {\n",
       "        vertical-align: middle;\n",
       "    }\n",
       "\n",
       "    .dataframe tbody tr th {\n",
       "        vertical-align: top;\n",
       "    }\n",
       "\n",
       "    .dataframe thead th {\n",
       "        text-align: right;\n",
       "    }\n",
       "</style>\n",
       "<table border=\"1\" class=\"dataframe\">\n",
       "  <thead>\n",
       "    <tr style=\"text-align: right;\">\n",
       "      <th></th>\n",
       "      <th>mean_fit_time</th>\n",
       "      <th>std_fit_time</th>\n",
       "      <th>mean_score_time</th>\n",
       "      <th>std_score_time</th>\n",
       "      <th>param_C</th>\n",
       "      <th>param_penalty</th>\n",
       "      <th>params</th>\n",
       "      <th>split0_test_score</th>\n",
       "      <th>split1_test_score</th>\n",
       "      <th>split2_test_score</th>\n",
       "      <th>...</th>\n",
       "      <th>mean_test_score</th>\n",
       "      <th>std_test_score</th>\n",
       "      <th>rank_test_score</th>\n",
       "      <th>split0_train_score</th>\n",
       "      <th>split1_train_score</th>\n",
       "      <th>split2_train_score</th>\n",
       "      <th>split3_train_score</th>\n",
       "      <th>split4_train_score</th>\n",
       "      <th>mean_train_score</th>\n",
       "      <th>std_train_score</th>\n",
       "    </tr>\n",
       "  </thead>\n",
       "  <tbody>\n",
       "    <tr>\n",
       "      <th>1</th>\n",
       "      <td>1.011126</td>\n",
       "      <td>0.373362</td>\n",
       "      <td>0.001776</td>\n",
       "      <td>0.00118</td>\n",
       "      <td>0.01</td>\n",
       "      <td>l2</td>\n",
       "      <td>{'C': 0.01, 'penalty': 'l2'}</td>\n",
       "      <td>0.801153</td>\n",
       "      <td>0.825688</td>\n",
       "      <td>0.84472</td>\n",
       "      <td>...</td>\n",
       "      <td>0.821226</td>\n",
       "      <td>0.014186</td>\n",
       "      <td>1</td>\n",
       "      <td>0.831845</td>\n",
       "      <td>0.829179</td>\n",
       "      <td>0.818846</td>\n",
       "      <td>0.823054</td>\n",
       "      <td>0.823396</td>\n",
       "      <td>0.825264</td>\n",
       "      <td>0.004652</td>\n",
       "    </tr>\n",
       "  </tbody>\n",
       "</table>\n",
       "<p>1 rows × 22 columns</p>\n",
       "</div>"
      ],
      "text/plain": [
       "   mean_fit_time  std_fit_time  mean_score_time  std_score_time param_C  \\\n",
       "1       1.011126      0.373362         0.001776         0.00118    0.01   \n",
       "\n",
       "  param_penalty                        params  split0_test_score  \\\n",
       "1            l2  {'C': 0.01, 'penalty': 'l2'}           0.801153   \n",
       "\n",
       "   split1_test_score  split2_test_score       ...         mean_test_score  \\\n",
       "1           0.825688            0.84472       ...                0.821226   \n",
       "\n",
       "   std_test_score  rank_test_score  split0_train_score  split1_train_score  \\\n",
       "1        0.014186                1            0.831845            0.829179   \n",
       "\n",
       "   split2_train_score  split3_train_score  split4_train_score  \\\n",
       "1            0.818846            0.823054            0.823396   \n",
       "\n",
       "   mean_train_score  std_train_score  \n",
       "1          0.825264         0.004652  \n",
       "\n",
       "[1 rows x 22 columns]"
      ]
     },
     "execution_count": 619,
     "metadata": {},
     "output_type": "execute_result"
    }
   ],
   "source": [
    "cv_results_LR[cv_results_LR['rank_test_score']==1]"
   ]
  },
  {
   "cell_type": "code",
   "execution_count": 620,
   "metadata": {},
   "outputs": [
    {
     "data": {
      "text/html": [
       "<div>\n",
       "<style scoped>\n",
       "    .dataframe tbody tr th:only-of-type {\n",
       "        vertical-align: middle;\n",
       "    }\n",
       "\n",
       "    .dataframe tbody tr th {\n",
       "        vertical-align: top;\n",
       "    }\n",
       "\n",
       "    .dataframe thead th {\n",
       "        text-align: right;\n",
       "    }\n",
       "</style>\n",
       "<table border=\"1\" class=\"dataframe\">\n",
       "  <thead>\n",
       "    <tr style=\"text-align: right;\">\n",
       "      <th></th>\n",
       "      <th>mean_fit_time</th>\n",
       "      <th>std_fit_time</th>\n",
       "      <th>mean_score_time</th>\n",
       "      <th>std_score_time</th>\n",
       "      <th>param_C</th>\n",
       "      <th>param_penalty</th>\n",
       "      <th>params</th>\n",
       "      <th>split0_test_score</th>\n",
       "      <th>split1_test_score</th>\n",
       "      <th>split2_test_score</th>\n",
       "      <th>...</th>\n",
       "      <th>mean_test_score</th>\n",
       "      <th>std_test_score</th>\n",
       "      <th>rank_test_score</th>\n",
       "      <th>split0_train_score</th>\n",
       "      <th>split1_train_score</th>\n",
       "      <th>split2_train_score</th>\n",
       "      <th>split3_train_score</th>\n",
       "      <th>split4_train_score</th>\n",
       "      <th>mean_train_score</th>\n",
       "      <th>std_train_score</th>\n",
       "    </tr>\n",
       "  </thead>\n",
       "  <tbody>\n",
       "    <tr>\n",
       "      <th>0</th>\n",
       "      <td>0.125073</td>\n",
       "      <td>0.013514</td>\n",
       "      <td>0.003385</td>\n",
       "      <td>0.000798</td>\n",
       "      <td>0.01</td>\n",
       "      <td>l1</td>\n",
       "      <td>{'C': 0.01, 'penalty': 'l1'}</td>\n",
       "      <td>0.801153</td>\n",
       "      <td>0.822630</td>\n",
       "      <td>0.844720</td>\n",
       "      <td>...</td>\n",
       "      <td>0.820614</td>\n",
       "      <td>0.014045</td>\n",
       "      <td>2</td>\n",
       "      <td>0.828869</td>\n",
       "      <td>0.829179</td>\n",
       "      <td>0.817385</td>\n",
       "      <td>0.822320</td>\n",
       "      <td>0.821132</td>\n",
       "      <td>0.823777</td>\n",
       "      <td>0.004584</td>\n",
       "    </tr>\n",
       "    <tr>\n",
       "      <th>1</th>\n",
       "      <td>1.011126</td>\n",
       "      <td>0.373362</td>\n",
       "      <td>0.001776</td>\n",
       "      <td>0.001180</td>\n",
       "      <td>0.01</td>\n",
       "      <td>l2</td>\n",
       "      <td>{'C': 0.01, 'penalty': 'l2'}</td>\n",
       "      <td>0.801153</td>\n",
       "      <td>0.825688</td>\n",
       "      <td>0.844720</td>\n",
       "      <td>...</td>\n",
       "      <td>0.821226</td>\n",
       "      <td>0.014186</td>\n",
       "      <td>1</td>\n",
       "      <td>0.831845</td>\n",
       "      <td>0.829179</td>\n",
       "      <td>0.818846</td>\n",
       "      <td>0.823054</td>\n",
       "      <td>0.823396</td>\n",
       "      <td>0.825264</td>\n",
       "      <td>0.004652</td>\n",
       "    </tr>\n",
       "    <tr>\n",
       "      <th>2</th>\n",
       "      <td>0.062234</td>\n",
       "      <td>0.005871</td>\n",
       "      <td>0.002001</td>\n",
       "      <td>0.000621</td>\n",
       "      <td>0.1</td>\n",
       "      <td>l1</td>\n",
       "      <td>{'C': 0.1, 'penalty': 'l1'}</td>\n",
       "      <td>0.792507</td>\n",
       "      <td>0.816514</td>\n",
       "      <td>0.832298</td>\n",
       "      <td>...</td>\n",
       "      <td>0.812869</td>\n",
       "      <td>0.012721</td>\n",
       "      <td>3</td>\n",
       "      <td>0.821429</td>\n",
       "      <td>0.824047</td>\n",
       "      <td>0.813733</td>\n",
       "      <td>0.814244</td>\n",
       "      <td>0.814340</td>\n",
       "      <td>0.817558</td>\n",
       "      <td>0.004314</td>\n",
       "    </tr>\n",
       "    <tr>\n",
       "      <th>3</th>\n",
       "      <td>0.659660</td>\n",
       "      <td>0.028576</td>\n",
       "      <td>0.001376</td>\n",
       "      <td>0.000478</td>\n",
       "      <td>0.1</td>\n",
       "      <td>l2</td>\n",
       "      <td>{'C': 0.1, 'penalty': 'l2'}</td>\n",
       "      <td>0.792507</td>\n",
       "      <td>0.816514</td>\n",
       "      <td>0.832298</td>\n",
       "      <td>...</td>\n",
       "      <td>0.812869</td>\n",
       "      <td>0.012721</td>\n",
       "      <td>3</td>\n",
       "      <td>0.822917</td>\n",
       "      <td>0.824047</td>\n",
       "      <td>0.814463</td>\n",
       "      <td>0.816446</td>\n",
       "      <td>0.814340</td>\n",
       "      <td>0.818443</td>\n",
       "      <td>0.004197</td>\n",
       "    </tr>\n",
       "    <tr>\n",
       "      <th>4</th>\n",
       "      <td>0.065226</td>\n",
       "      <td>0.008662</td>\n",
       "      <td>0.001602</td>\n",
       "      <td>0.000493</td>\n",
       "      <td>1</td>\n",
       "      <td>l1</td>\n",
       "      <td>{'C': 1, 'penalty': 'l1'}</td>\n",
       "      <td>0.792507</td>\n",
       "      <td>0.816514</td>\n",
       "      <td>0.832298</td>\n",
       "      <td>...</td>\n",
       "      <td>0.812322</td>\n",
       "      <td>0.012827</td>\n",
       "      <td>5</td>\n",
       "      <td>0.820685</td>\n",
       "      <td>0.822581</td>\n",
       "      <td>0.813002</td>\n",
       "      <td>0.813510</td>\n",
       "      <td>0.814340</td>\n",
       "      <td>0.816823</td>\n",
       "      <td>0.003995</td>\n",
       "    </tr>\n",
       "  </tbody>\n",
       "</table>\n",
       "<p>5 rows × 22 columns</p>\n",
       "</div>"
      ],
      "text/plain": [
       "   mean_fit_time  std_fit_time  mean_score_time  std_score_time param_C  \\\n",
       "0       0.125073      0.013514         0.003385        0.000798    0.01   \n",
       "1       1.011126      0.373362         0.001776        0.001180    0.01   \n",
       "2       0.062234      0.005871         0.002001        0.000621     0.1   \n",
       "3       0.659660      0.028576         0.001376        0.000478     0.1   \n",
       "4       0.065226      0.008662         0.001602        0.000493       1   \n",
       "\n",
       "  param_penalty                        params  split0_test_score  \\\n",
       "0            l1  {'C': 0.01, 'penalty': 'l1'}           0.801153   \n",
       "1            l2  {'C': 0.01, 'penalty': 'l2'}           0.801153   \n",
       "2            l1   {'C': 0.1, 'penalty': 'l1'}           0.792507   \n",
       "3            l2   {'C': 0.1, 'penalty': 'l2'}           0.792507   \n",
       "4            l1     {'C': 1, 'penalty': 'l1'}           0.792507   \n",
       "\n",
       "   split1_test_score  split2_test_score       ...         mean_test_score  \\\n",
       "0           0.822630           0.844720       ...                0.820614   \n",
       "1           0.825688           0.844720       ...                0.821226   \n",
       "2           0.816514           0.832298       ...                0.812869   \n",
       "3           0.816514           0.832298       ...                0.812869   \n",
       "4           0.816514           0.832298       ...                0.812322   \n",
       "\n",
       "   std_test_score  rank_test_score  split0_train_score  split1_train_score  \\\n",
       "0        0.014045                2            0.828869            0.829179   \n",
       "1        0.014186                1            0.831845            0.829179   \n",
       "2        0.012721                3            0.821429            0.824047   \n",
       "3        0.012721                3            0.822917            0.824047   \n",
       "4        0.012827                5            0.820685            0.822581   \n",
       "\n",
       "   split2_train_score  split3_train_score  split4_train_score  \\\n",
       "0            0.817385            0.822320            0.821132   \n",
       "1            0.818846            0.823054            0.823396   \n",
       "2            0.813733            0.814244            0.814340   \n",
       "3            0.814463            0.816446            0.814340   \n",
       "4            0.813002            0.813510            0.814340   \n",
       "\n",
       "   mean_train_score  std_train_score  \n",
       "0          0.823777         0.004584  \n",
       "1          0.825264         0.004652  \n",
       "2          0.817558         0.004314  \n",
       "3          0.818443         0.004197  \n",
       "4          0.816823         0.003995  \n",
       "\n",
       "[5 rows x 22 columns]"
      ]
     },
     "execution_count": 620,
     "metadata": {},
     "output_type": "execute_result"
    }
   ],
   "source": [
    "cv_results_LR.head()"
   ]
  },
  {
   "cell_type": "markdown",
   "metadata": {},
   "source": [
    "<b> For best hyperparameters we get C=0.01 and penalty as 'l2'"
   ]
  },
  {
   "cell_type": "code",
   "execution_count": 621,
   "metadata": {},
   "outputs": [],
   "source": [
    "#Applying Logistic Regression\n",
    "#Training the model on the train data\n",
    "\n",
    "learner_pca = LogisticRegression(class_weight='balanced',penalty='l2',C=0.01)\n",
    "model_pca = learner_pca.fit(df_train_pca,y_train)"
   ]
  },
  {
   "cell_type": "code",
   "execution_count": 622,
   "metadata": {},
   "outputs": [
    {
     "data": {
      "text/plain": [
       "'0.87'"
      ]
     },
     "execution_count": 622,
     "metadata": {},
     "output_type": "execute_result"
    }
   ],
   "source": [
    "#Making prediction on the test data\n",
    "pred_probs_test = model_pca.predict_proba(df_test_pca)[:,1]\n",
    "\"{:2.2}\".format(metrics.roc_auc_score(y_test, pred_probs_test))\n",
    "\n",
    "#With 20 selected principal components and logistic regression model we have achieved 87% of accuracy "
   ]
  },
  {
   "cell_type": "code",
   "execution_count": 623,
   "metadata": {},
   "outputs": [],
   "source": [
    "# Predicted probabilities of conversion on test data set\n",
    "y_pred=model_pca.predict_proba(df_test_pca)\n",
    "# Converting it into dataframe\n",
    "y_pred_df=pd.DataFrame(y_pred)\n",
    "# Converting to column dataframe\n",
    "y_pred_1=y_pred_df.iloc[:,[1]]\n",
    "\n",
    "y_test_df = pd.DataFrame(y_test)"
   ]
  },
  {
   "cell_type": "code",
   "execution_count": 624,
   "metadata": {},
   "outputs": [
    {
     "data": {
      "text/html": [
       "<div>\n",
       "<style scoped>\n",
       "    .dataframe tbody tr th:only-of-type {\n",
       "        vertical-align: middle;\n",
       "    }\n",
       "\n",
       "    .dataframe tbody tr th {\n",
       "        vertical-align: top;\n",
       "    }\n",
       "\n",
       "    .dataframe thead th {\n",
       "        text-align: right;\n",
       "    }\n",
       "</style>\n",
       "<table border=\"1\" class=\"dataframe\">\n",
       "  <thead>\n",
       "    <tr style=\"text-align: right;\">\n",
       "      <th></th>\n",
       "      <th>CustID</th>\n",
       "      <th>churn</th>\n",
       "      <th>Churn_Prob</th>\n",
       "    </tr>\n",
       "  </thead>\n",
       "  <tbody>\n",
       "    <tr>\n",
       "      <th>0</th>\n",
       "      <td>20296</td>\n",
       "      <td>1</td>\n",
       "      <td>0.775135</td>\n",
       "    </tr>\n",
       "    <tr>\n",
       "      <th>1</th>\n",
       "      <td>8279</td>\n",
       "      <td>1</td>\n",
       "      <td>0.561468</td>\n",
       "    </tr>\n",
       "    <tr>\n",
       "      <th>2</th>\n",
       "      <td>72269</td>\n",
       "      <td>0</td>\n",
       "      <td>0.079975</td>\n",
       "    </tr>\n",
       "    <tr>\n",
       "      <th>3</th>\n",
       "      <td>65602</td>\n",
       "      <td>0</td>\n",
       "      <td>0.334782</td>\n",
       "    </tr>\n",
       "    <tr>\n",
       "      <th>4</th>\n",
       "      <td>42758</td>\n",
       "      <td>1</td>\n",
       "      <td>0.701448</td>\n",
       "    </tr>\n",
       "  </tbody>\n",
       "</table>\n",
       "</div>"
      ],
      "text/plain": [
       "   CustID  churn  Churn_Prob\n",
       "0   20296      1    0.775135\n",
       "1    8279      1    0.561468\n",
       "2   72269      0    0.079975\n",
       "3   65602      0    0.334782\n",
       "4   42758      1    0.701448"
      ]
     },
     "execution_count": 624,
     "metadata": {},
     "output_type": "execute_result"
    }
   ],
   "source": [
    "# Putting CustID to index to final output variable data set\n",
    "y_test_df['CustID'] = y_test_df.index\n",
    "# Removing index for both dataframes to append them side by side \n",
    "y_pred_1.reset_index(drop=True, inplace=True)\n",
    "y_test_df.reset_index(drop=True, inplace=True)\n",
    "# Appending y_test_df and y_pred_1\n",
    "y_pred_final = pd.concat([y_test_df,y_pred_1],axis=1)\n",
    "# Renaming the column \n",
    "y_pred_final= y_pred_final.rename(columns={ 1 : 'Churn_Prob'})\n",
    "# Rearranging the columns\n",
    "y_pred_final = y_pred_final.reindex_axis(['CustID','churn','Churn_Prob'], axis=1)\n",
    "# Let's see the head of y_pred_final\n",
    "y_pred_final.head()"
   ]
  },
  {
   "cell_type": "code",
   "execution_count": 625,
   "metadata": {},
   "outputs": [
    {
     "data": {
      "text/html": [
       "<div>\n",
       "<style scoped>\n",
       "    .dataframe tbody tr th:only-of-type {\n",
       "        vertical-align: middle;\n",
       "    }\n",
       "\n",
       "    .dataframe tbody tr th {\n",
       "        vertical-align: top;\n",
       "    }\n",
       "\n",
       "    .dataframe thead th {\n",
       "        text-align: right;\n",
       "    }\n",
       "</style>\n",
       "<table border=\"1\" class=\"dataframe\">\n",
       "  <thead>\n",
       "    <tr style=\"text-align: right;\">\n",
       "      <th></th>\n",
       "      <th>CustID</th>\n",
       "      <th>churn</th>\n",
       "      <th>Churn_Prob</th>\n",
       "      <th>predicted</th>\n",
       "    </tr>\n",
       "  </thead>\n",
       "  <tbody>\n",
       "    <tr>\n",
       "      <th>0</th>\n",
       "      <td>20296</td>\n",
       "      <td>1</td>\n",
       "      <td>0.775135</td>\n",
       "      <td>1</td>\n",
       "    </tr>\n",
       "    <tr>\n",
       "      <th>1</th>\n",
       "      <td>8279</td>\n",
       "      <td>1</td>\n",
       "      <td>0.561468</td>\n",
       "      <td>1</td>\n",
       "    </tr>\n",
       "    <tr>\n",
       "      <th>2</th>\n",
       "      <td>72269</td>\n",
       "      <td>0</td>\n",
       "      <td>0.079975</td>\n",
       "      <td>0</td>\n",
       "    </tr>\n",
       "    <tr>\n",
       "      <th>3</th>\n",
       "      <td>65602</td>\n",
       "      <td>0</td>\n",
       "      <td>0.334782</td>\n",
       "      <td>0</td>\n",
       "    </tr>\n",
       "    <tr>\n",
       "      <th>4</th>\n",
       "      <td>42758</td>\n",
       "      <td>1</td>\n",
       "      <td>0.701448</td>\n",
       "      <td>1</td>\n",
       "    </tr>\n",
       "  </tbody>\n",
       "</table>\n",
       "</div>"
      ],
      "text/plain": [
       "   CustID  churn  Churn_Prob  predicted\n",
       "0   20296      1    0.775135          1\n",
       "1    8279      1    0.561468          1\n",
       "2   72269      0    0.079975          0\n",
       "3   65602      0    0.334782          0\n",
       "4   42758      1    0.701448          1"
      ]
     },
     "execution_count": 625,
     "metadata": {},
     "output_type": "execute_result"
    }
   ],
   "source": [
    "# Creating new column 'predicted' with 1 if Churn_Prob>0.5 else 0\n",
    "y_pred_final['predicted'] = y_pred_final.Churn_Prob.map( lambda x: 1 if x > 0.5 else 0)\n",
    "# Let's see the head\n",
    "y_pred_final.head()\n",
    "\n",
    "#We have chosen probability cutoff as 0.5 i.e if probability >0.5 then potential lead is likely to churn  else not"
   ]
  },
  {
   "cell_type": "code",
   "execution_count": 626,
   "metadata": {},
   "outputs": [
    {
     "data": {
      "text/plain": [
       "0.7894678369070103"
      ]
     },
     "execution_count": 626,
     "metadata": {},
     "output_type": "execute_result"
    }
   ],
   "source": [
    "#Importing metrics module to calculate accuracy of the final predicted values\n",
    "from sklearn import metrics\n",
    "metrics.accuracy_score(y_pred_final.churn, y_pred_final.predicted)\n",
    "\n",
    "#We have achieved 80% of accuracy using selected model."
   ]
  },
  {
   "cell_type": "code",
   "execution_count": 627,
   "metadata": {},
   "outputs": [
    {
     "data": {
      "image/png": "[encoded data removed]",
      "text/plain": [
       "<Figure size 432x288 with 1 Axes>"
      ]
     },
     "metadata": {},
     "output_type": "display_data"
    },
    {
     "name": "stdout",
     "output_type": "stream",
     "text": [
      "0.869487496465075\n"
     ]
    }
   ],
   "source": [
    "auc_test=draw_roc_curve( y_pred_final.churn, y_pred_final.Churn_Prob )\n",
    "print(auc_test)"
   ]
  },
  {
   "cell_type": "code",
   "execution_count": 628,
   "metadata": {
    "scrolled": true
   },
   "outputs": [
    {
     "data": {
      "image/png": "[encoded data removed]",
      "text/plain": [
       "<Figure size 432x288 with 2 Axes>"
      ]
     },
     "metadata": {},
     "output_type": "display_data"
    }
   ],
   "source": [
    "# Confusion matrix \n",
    "confusion=plotconfusionmatrix( y_pred_final.churn, y_pred_final.predicted )"
   ]
  },
  {
   "cell_type": "code",
   "execution_count": 629,
   "metadata": {},
   "outputs": [
    {
     "name": "stdout",
     "output_type": "stream",
     "text": [
      "             precision    recall  f1-score   support\n",
      "\n",
      "          0       0.98      0.79      0.87      8251\n",
      "          1       0.26      0.83      0.40       750\n",
      "\n",
      "avg / total       0.92      0.79      0.83      9001\n",
      "\n"
     ]
    }
   ],
   "source": [
    "from sklearn.metrics import classification_report\n",
    "print(classification_report(y_pred_final.churn,y_pred_final.predicted))"
   ]
  },
  {
   "cell_type": "code",
   "execution_count": 630,
   "metadata": {},
   "outputs": [
    {
     "name": "stdout",
     "output_type": "stream",
     "text": [
      "Accuracy_score: 78.95% on test dataset\n",
      "precision_score: 25.98% on test dataset\n",
      "recall_score: 82.53% on test dataset\n",
      "f1_score: 39.51% on test dataset\n"
     ]
    }
   ],
   "source": [
    "getMetrics(y_pred_final.churn,y_pred_final.predicted)"
   ]
  },
  {
   "cell_type": "markdown",
   "metadata": {},
   "source": [
    "<b> Random Forest"
   ]
  },
  {
   "cell_type": "code",
   "execution_count": 631,
   "metadata": {},
   "outputs": [
    {
     "name": "stdout",
     "output_type": "stream",
     "text": [
      "Fitting 5 folds for each of 8 candidates, totalling 40 fits\n"
     ]
    },
    {
     "name": "stderr",
     "output_type": "stream",
     "text": [
      "[Parallel(n_jobs=1)]: Done  40 out of  40 | elapsed:  4.3min finished\n"
     ]
    }
   ],
   "source": [
    "from sklearn.ensemble import RandomForestClassifier\n",
    "\n",
    "depth=[5, 10,50, 100]\n",
    "n_estimators=[100, 200]\n",
    "params = {'max_depth':depth,'n_estimators':n_estimators}\n",
    "model = RandomForestClassifier(class_weight='balanced')\n",
    "cv_results_RF=ApplyGridSearchCV(model,params)"
   ]
  },
  {
   "cell_type": "code",
   "execution_count": 632,
   "metadata": {},
   "outputs": [
    {
     "data": {
      "text/html": [
       "<div>\n",
       "<style scoped>\n",
       "    .dataframe tbody tr th:only-of-type {\n",
       "        vertical-align: middle;\n",
       "    }\n",
       "\n",
       "    .dataframe tbody tr th {\n",
       "        vertical-align: top;\n",
       "    }\n",
       "\n",
       "    .dataframe thead th {\n",
       "        text-align: right;\n",
       "    }\n",
       "</style>\n",
       "<table border=\"1\" class=\"dataframe\">\n",
       "  <thead>\n",
       "    <tr style=\"text-align: right;\">\n",
       "      <th></th>\n",
       "      <th>mean_fit_time</th>\n",
       "      <th>std_fit_time</th>\n",
       "      <th>mean_score_time</th>\n",
       "      <th>std_score_time</th>\n",
       "      <th>param_max_depth</th>\n",
       "      <th>param_n_estimators</th>\n",
       "      <th>params</th>\n",
       "      <th>split0_test_score</th>\n",
       "      <th>split1_test_score</th>\n",
       "      <th>split2_test_score</th>\n",
       "      <th>...</th>\n",
       "      <th>mean_test_score</th>\n",
       "      <th>std_test_score</th>\n",
       "      <th>rank_test_score</th>\n",
       "      <th>split0_train_score</th>\n",
       "      <th>split1_train_score</th>\n",
       "      <th>split2_train_score</th>\n",
       "      <th>split3_train_score</th>\n",
       "      <th>split4_train_score</th>\n",
       "      <th>mean_train_score</th>\n",
       "      <th>std_train_score</th>\n",
       "    </tr>\n",
       "  </thead>\n",
       "  <tbody>\n",
       "    <tr>\n",
       "      <th>0</th>\n",
       "      <td>2.456047</td>\n",
       "      <td>0.029985</td>\n",
       "      <td>0.036908</td>\n",
       "      <td>0.002747</td>\n",
       "      <td>5</td>\n",
       "      <td>100</td>\n",
       "      <td>{'max_depth': 5, 'n_estimators': 100}</td>\n",
       "      <td>0.720461</td>\n",
       "      <td>0.721713</td>\n",
       "      <td>0.739130</td>\n",
       "      <td>...</td>\n",
       "      <td>0.719132</td>\n",
       "      <td>0.014436</td>\n",
       "      <td>1</td>\n",
       "      <td>0.780506</td>\n",
       "      <td>0.771994</td>\n",
       "      <td>0.772827</td>\n",
       "      <td>0.792952</td>\n",
       "      <td>0.775849</td>\n",
       "      <td>0.778826</td>\n",
       "      <td>0.007667</td>\n",
       "    </tr>\n",
       "    <tr>\n",
       "      <th>1</th>\n",
       "      <td>5.078642</td>\n",
       "      <td>0.198611</td>\n",
       "      <td>0.068019</td>\n",
       "      <td>0.002041</td>\n",
       "      <td>5</td>\n",
       "      <td>200</td>\n",
       "      <td>{'max_depth': 5, 'n_estimators': 200}</td>\n",
       "      <td>0.708934</td>\n",
       "      <td>0.709480</td>\n",
       "      <td>0.723602</td>\n",
       "      <td>...</td>\n",
       "      <td>0.709935</td>\n",
       "      <td>0.007757</td>\n",
       "      <td>2</td>\n",
       "      <td>0.779018</td>\n",
       "      <td>0.766129</td>\n",
       "      <td>0.773557</td>\n",
       "      <td>0.787078</td>\n",
       "      <td>0.776604</td>\n",
       "      <td>0.776477</td>\n",
       "      <td>0.006848</td>\n",
       "    </tr>\n",
       "    <tr>\n",
       "      <th>2</th>\n",
       "      <td>4.041767</td>\n",
       "      <td>0.158655</td>\n",
       "      <td>0.049472</td>\n",
       "      <td>0.001015</td>\n",
       "      <td>10</td>\n",
       "      <td>100</td>\n",
       "      <td>{'max_depth': 10, 'n_estimators': 100}</td>\n",
       "      <td>0.561960</td>\n",
       "      <td>0.568807</td>\n",
       "      <td>0.540373</td>\n",
       "      <td>...</td>\n",
       "      <td>0.543165</td>\n",
       "      <td>0.026200</td>\n",
       "      <td>3</td>\n",
       "      <td>0.891369</td>\n",
       "      <td>0.896628</td>\n",
       "      <td>0.887509</td>\n",
       "      <td>0.900881</td>\n",
       "      <td>0.900377</td>\n",
       "      <td>0.895353</td>\n",
       "      <td>0.005193</td>\n",
       "    </tr>\n",
       "    <tr>\n",
       "      <th>3</th>\n",
       "      <td>8.231820</td>\n",
       "      <td>0.176315</td>\n",
       "      <td>0.097532</td>\n",
       "      <td>0.001167</td>\n",
       "      <td>10</td>\n",
       "      <td>200</td>\n",
       "      <td>{'max_depth': 10, 'n_estimators': 200}</td>\n",
       "      <td>0.556196</td>\n",
       "      <td>0.559633</td>\n",
       "      <td>0.524845</td>\n",
       "      <td>...</td>\n",
       "      <td>0.541628</td>\n",
       "      <td>0.021199</td>\n",
       "      <td>4</td>\n",
       "      <td>0.904018</td>\n",
       "      <td>0.906891</td>\n",
       "      <td>0.901388</td>\n",
       "      <td>0.894273</td>\n",
       "      <td>0.898113</td>\n",
       "      <td>0.900937</td>\n",
       "      <td>0.004417</td>\n",
       "    </tr>\n",
       "    <tr>\n",
       "      <th>4</th>\n",
       "      <td>5.493566</td>\n",
       "      <td>0.159485</td>\n",
       "      <td>0.075807</td>\n",
       "      <td>0.016236</td>\n",
       "      <td>50</td>\n",
       "      <td>100</td>\n",
       "      <td>{'max_depth': 50, 'n_estimators': 100}</td>\n",
       "      <td>0.100865</td>\n",
       "      <td>0.113150</td>\n",
       "      <td>0.096273</td>\n",
       "      <td>...</td>\n",
       "      <td>0.103252</td>\n",
       "      <td>0.011282</td>\n",
       "      <td>8</td>\n",
       "      <td>0.999256</td>\n",
       "      <td>1.000000</td>\n",
       "      <td>1.000000</td>\n",
       "      <td>1.000000</td>\n",
       "      <td>1.000000</td>\n",
       "      <td>0.999851</td>\n",
       "      <td>0.000298</td>\n",
       "    </tr>\n",
       "  </tbody>\n",
       "</table>\n",
       "<p>5 rows × 22 columns</p>\n",
       "</div>"
      ],
      "text/plain": [
       "   mean_fit_time  std_fit_time  mean_score_time  std_score_time  \\\n",
       "0       2.456047      0.029985         0.036908        0.002747   \n",
       "1       5.078642      0.198611         0.068019        0.002041   \n",
       "2       4.041767      0.158655         0.049472        0.001015   \n",
       "3       8.231820      0.176315         0.097532        0.001167   \n",
       "4       5.493566      0.159485         0.075807        0.016236   \n",
       "\n",
       "  param_max_depth param_n_estimators                                  params  \\\n",
       "0               5                100   {'max_depth': 5, 'n_estimators': 100}   \n",
       "1               5                200   {'max_depth': 5, 'n_estimators': 200}   \n",
       "2              10                100  {'max_depth': 10, 'n_estimators': 100}   \n",
       "3              10                200  {'max_depth': 10, 'n_estimators': 200}   \n",
       "4              50                100  {'max_depth': 50, 'n_estimators': 100}   \n",
       "\n",
       "   split0_test_score  split1_test_score  split2_test_score       ...         \\\n",
       "0           0.720461           0.721713           0.739130       ...          \n",
       "1           0.708934           0.709480           0.723602       ...          \n",
       "2           0.561960           0.568807           0.540373       ...          \n",
       "3           0.556196           0.559633           0.524845       ...          \n",
       "4           0.100865           0.113150           0.096273       ...          \n",
       "\n",
       "   mean_test_score  std_test_score  rank_test_score  split0_train_score  \\\n",
       "0         0.719132        0.014436                1            0.780506   \n",
       "1         0.709935        0.007757                2            0.779018   \n",
       "2         0.543165        0.026200                3            0.891369   \n",
       "3         0.541628        0.021199                4            0.904018   \n",
       "4         0.103252        0.011282                8            0.999256   \n",
       "\n",
       "   split1_train_score  split2_train_score  split3_train_score  \\\n",
       "0            0.771994            0.772827            0.792952   \n",
       "1            0.766129            0.773557            0.787078   \n",
       "2            0.896628            0.887509            0.900881   \n",
       "3            0.906891            0.901388            0.894273   \n",
       "4            1.000000            1.000000            1.000000   \n",
       "\n",
       "   split4_train_score  mean_train_score  std_train_score  \n",
       "0            0.775849          0.778826         0.007667  \n",
       "1            0.776604          0.776477         0.006848  \n",
       "2            0.900377          0.895353         0.005193  \n",
       "3            0.898113          0.900937         0.004417  \n",
       "4            1.000000          0.999851         0.000298  \n",
       "\n",
       "[5 rows x 22 columns]"
      ]
     },
     "execution_count": 632,
     "metadata": {},
     "output_type": "execute_result"
    }
   ],
   "source": [
    "cv_results_RF.head()"
   ]
  },
  {
   "cell_type": "code",
   "execution_count": 633,
   "metadata": {},
   "outputs": [
    {
     "data": {
      "text/html": [
       "<div>\n",
       "<style scoped>\n",
       "    .dataframe tbody tr th:only-of-type {\n",
       "        vertical-align: middle;\n",
       "    }\n",
       "\n",
       "    .dataframe tbody tr th {\n",
       "        vertical-align: top;\n",
       "    }\n",
       "\n",
       "    .dataframe thead th {\n",
       "        text-align: right;\n",
       "    }\n",
       "</style>\n",
       "<table border=\"1\" class=\"dataframe\">\n",
       "  <thead>\n",
       "    <tr style=\"text-align: right;\">\n",
       "      <th></th>\n",
       "      <th>mean_fit_time</th>\n",
       "      <th>std_fit_time</th>\n",
       "      <th>mean_score_time</th>\n",
       "      <th>std_score_time</th>\n",
       "      <th>param_max_depth</th>\n",
       "      <th>param_n_estimators</th>\n",
       "      <th>params</th>\n",
       "      <th>split0_test_score</th>\n",
       "      <th>split1_test_score</th>\n",
       "      <th>split2_test_score</th>\n",
       "      <th>...</th>\n",
       "      <th>mean_test_score</th>\n",
       "      <th>std_test_score</th>\n",
       "      <th>rank_test_score</th>\n",
       "      <th>split0_train_score</th>\n",
       "      <th>split1_train_score</th>\n",
       "      <th>split2_train_score</th>\n",
       "      <th>split3_train_score</th>\n",
       "      <th>split4_train_score</th>\n",
       "      <th>mean_train_score</th>\n",
       "      <th>std_train_score</th>\n",
       "    </tr>\n",
       "  </thead>\n",
       "  <tbody>\n",
       "    <tr>\n",
       "      <th>1</th>\n",
       "      <td>5.078642</td>\n",
       "      <td>0.198611</td>\n",
       "      <td>0.068019</td>\n",
       "      <td>0.002041</td>\n",
       "      <td>5</td>\n",
       "      <td>200</td>\n",
       "      <td>{'max_depth': 5, 'n_estimators': 200}</td>\n",
       "      <td>0.708934</td>\n",
       "      <td>0.70948</td>\n",
       "      <td>0.723602</td>\n",
       "      <td>...</td>\n",
       "      <td>0.709935</td>\n",
       "      <td>0.007757</td>\n",
       "      <td>2</td>\n",
       "      <td>0.779018</td>\n",
       "      <td>0.766129</td>\n",
       "      <td>0.773557</td>\n",
       "      <td>0.787078</td>\n",
       "      <td>0.776604</td>\n",
       "      <td>0.776477</td>\n",
       "      <td>0.006848</td>\n",
       "    </tr>\n",
       "  </tbody>\n",
       "</table>\n",
       "<p>1 rows × 22 columns</p>\n",
       "</div>"
      ],
      "text/plain": [
       "   mean_fit_time  std_fit_time  mean_score_time  std_score_time  \\\n",
       "1       5.078642      0.198611         0.068019        0.002041   \n",
       "\n",
       "  param_max_depth param_n_estimators                                 params  \\\n",
       "1               5                200  {'max_depth': 5, 'n_estimators': 200}   \n",
       "\n",
       "   split0_test_score  split1_test_score  split2_test_score       ...         \\\n",
       "1           0.708934            0.70948           0.723602       ...          \n",
       "\n",
       "   mean_test_score  std_test_score  rank_test_score  split0_train_score  \\\n",
       "1         0.709935        0.007757                2            0.779018   \n",
       "\n",
       "   split1_train_score  split2_train_score  split3_train_score  \\\n",
       "1            0.766129            0.773557            0.787078   \n",
       "\n",
       "   split4_train_score  mean_train_score  std_train_score  \n",
       "1            0.776604          0.776477         0.006848  \n",
       "\n",
       "[1 rows x 22 columns]"
      ]
     },
     "execution_count": 633,
     "metadata": {},
     "output_type": "execute_result"
    }
   ],
   "source": [
    "cv_results_RF[cv_results_LR['rank_test_score']==1]"
   ]
  },
  {
   "cell_type": "code",
   "execution_count": null,
   "metadata": {},
   "outputs": [],
   "source": []
  },
  {
   "cell_type": "code",
   "execution_count": 634,
   "metadata": {},
   "outputs": [],
   "source": [
    "learner_pca_RF = RandomForestClassifier(class_weight='balanced',max_depth=5,n_estimators=200)\n",
    "model_pca_RF = learner_pca_RF.fit(df_train_pca,y_train)"
   ]
  },
  {
   "cell_type": "code",
   "execution_count": 635,
   "metadata": {},
   "outputs": [
    {
     "data": {
      "text/plain": [
       "'0.86'"
      ]
     },
     "execution_count": 635,
     "metadata": {},
     "output_type": "execute_result"
    }
   ],
   "source": [
    "#Making prediction on the test data\n",
    "pred_probs_test = model_pca_RF.predict_proba(df_test_pca)[:,1]\n",
    "\"{:2.2}\".format(metrics.roc_auc_score(y_test, pred_probs_test))\n",
    "\n",
    "#With 20 selected principal components and Random Forest model we have achieved 87% of accuracy "
   ]
  },
  {
   "cell_type": "code",
   "execution_count": 636,
   "metadata": {},
   "outputs": [],
   "source": [
    "# Predicted probabilities of conversion on test data set\n",
    "y_pred=model_pca_RF.predict_proba(df_test_pca)\n",
    "# Converting it into dataframe\n",
    "y_pred_df=pd.DataFrame(y_pred)\n",
    "# Converting to column dataframe\n",
    "y_pred_1=y_pred_df.iloc[:,[1]]\n",
    "\n",
    "y_test_df = pd.DataFrame(y_test)"
   ]
  },
  {
   "cell_type": "code",
   "execution_count": 637,
   "metadata": {},
   "outputs": [
    {
     "data": {
      "text/html": [
       "<div>\n",
       "<style scoped>\n",
       "    .dataframe tbody tr th:only-of-type {\n",
       "        vertical-align: middle;\n",
       "    }\n",
       "\n",
       "    .dataframe tbody tr th {\n",
       "        vertical-align: top;\n",
       "    }\n",
       "\n",
       "    .dataframe thead th {\n",
       "        text-align: right;\n",
       "    }\n",
       "</style>\n",
       "<table border=\"1\" class=\"dataframe\">\n",
       "  <thead>\n",
       "    <tr style=\"text-align: right;\">\n",
       "      <th></th>\n",
       "      <th>CustID</th>\n",
       "      <th>churn</th>\n",
       "      <th>Churn_Prob</th>\n",
       "    </tr>\n",
       "  </thead>\n",
       "  <tbody>\n",
       "    <tr>\n",
       "      <th>0</th>\n",
       "      <td>20296</td>\n",
       "      <td>1</td>\n",
       "      <td>0.488384</td>\n",
       "    </tr>\n",
       "    <tr>\n",
       "      <th>1</th>\n",
       "      <td>8279</td>\n",
       "      <td>1</td>\n",
       "      <td>0.471238</td>\n",
       "    </tr>\n",
       "    <tr>\n",
       "      <th>2</th>\n",
       "      <td>72269</td>\n",
       "      <td>0</td>\n",
       "      <td>0.263848</td>\n",
       "    </tr>\n",
       "    <tr>\n",
       "      <th>3</th>\n",
       "      <td>65602</td>\n",
       "      <td>0</td>\n",
       "      <td>0.212122</td>\n",
       "    </tr>\n",
       "    <tr>\n",
       "      <th>4</th>\n",
       "      <td>42758</td>\n",
       "      <td>1</td>\n",
       "      <td>0.555465</td>\n",
       "    </tr>\n",
       "  </tbody>\n",
       "</table>\n",
       "</div>"
      ],
      "text/plain": [
       "   CustID  churn  Churn_Prob\n",
       "0   20296      1    0.488384\n",
       "1    8279      1    0.471238\n",
       "2   72269      0    0.263848\n",
       "3   65602      0    0.212122\n",
       "4   42758      1    0.555465"
      ]
     },
     "execution_count": 637,
     "metadata": {},
     "output_type": "execute_result"
    }
   ],
   "source": [
    "# Putting CustID to index to final output variable data set\n",
    "y_test_df['CustID'] = y_test_df.index\n",
    "# Removing index for both dataframes to append them side by side \n",
    "y_pred_1.reset_index(drop=True, inplace=True)\n",
    "y_test_df.reset_index(drop=True, inplace=True)\n",
    "# Appending y_test_df and y_pred_1\n",
    "y_pred_final = pd.concat([y_test_df,y_pred_1],axis=1)\n",
    "# Renaming the column \n",
    "y_pred_final= y_pred_final.rename(columns={ 1 : 'Churn_Prob'})\n",
    "# Rearranging the columns\n",
    "y_pred_final = y_pred_final.reindex_axis(['CustID','churn','Churn_Prob'], axis=1)\n",
    "# Let's see the head of y_pred_final\n",
    "y_pred_final.head()"
   ]
  },
  {
   "cell_type": "code",
   "execution_count": 638,
   "metadata": {},
   "outputs": [
    {
     "data": {
      "text/html": [
       "<div>\n",
       "<style scoped>\n",
       "    .dataframe tbody tr th:only-of-type {\n",
       "        vertical-align: middle;\n",
       "    }\n",
       "\n",
       "    .dataframe tbody tr th {\n",
       "        vertical-align: top;\n",
       "    }\n",
       "\n",
       "    .dataframe thead th {\n",
       "        text-align: right;\n",
       "    }\n",
       "</style>\n",
       "<table border=\"1\" class=\"dataframe\">\n",
       "  <thead>\n",
       "    <tr style=\"text-align: right;\">\n",
       "      <th></th>\n",
       "      <th>CustID</th>\n",
       "      <th>churn</th>\n",
       "      <th>Churn_Prob</th>\n",
       "      <th>predicted</th>\n",
       "    </tr>\n",
       "  </thead>\n",
       "  <tbody>\n",
       "    <tr>\n",
       "      <th>0</th>\n",
       "      <td>20296</td>\n",
       "      <td>1</td>\n",
       "      <td>0.488384</td>\n",
       "      <td>1</td>\n",
       "    </tr>\n",
       "    <tr>\n",
       "      <th>1</th>\n",
       "      <td>8279</td>\n",
       "      <td>1</td>\n",
       "      <td>0.471238</td>\n",
       "      <td>1</td>\n",
       "    </tr>\n",
       "    <tr>\n",
       "      <th>2</th>\n",
       "      <td>72269</td>\n",
       "      <td>0</td>\n",
       "      <td>0.263848</td>\n",
       "      <td>0</td>\n",
       "    </tr>\n",
       "    <tr>\n",
       "      <th>3</th>\n",
       "      <td>65602</td>\n",
       "      <td>0</td>\n",
       "      <td>0.212122</td>\n",
       "      <td>0</td>\n",
       "    </tr>\n",
       "    <tr>\n",
       "      <th>4</th>\n",
       "      <td>42758</td>\n",
       "      <td>1</td>\n",
       "      <td>0.555465</td>\n",
       "      <td>1</td>\n",
       "    </tr>\n",
       "  </tbody>\n",
       "</table>\n",
       "</div>"
      ],
      "text/plain": [
       "   CustID  churn  Churn_Prob  predicted\n",
       "0   20296      1    0.488384          1\n",
       "1    8279      1    0.471238          1\n",
       "2   72269      0    0.263848          0\n",
       "3   65602      0    0.212122          0\n",
       "4   42758      1    0.555465          1"
      ]
     },
     "execution_count": 638,
     "metadata": {},
     "output_type": "execute_result"
    }
   ],
   "source": [
    "# Creating new column 'predicted' with 1 if Churn_Prob>0.5 else 0\n",
    "y_pred_final['predicted'] = y_pred_final.Churn_Prob.map( lambda x: 1 if x > 0.4 else 0)\n",
    "# Let's see the head\n",
    "y_pred_final.head()\n",
    "\n",
    "#We have chosen probability cutoff as 0.4 i.e if probability >0.4 then potential lead is likely to churn  else not"
   ]
  },
  {
   "cell_type": "code",
   "execution_count": 639,
   "metadata": {},
   "outputs": [
    {
     "data": {
      "text/plain": [
       "0.7019220086657038"
      ]
     },
     "execution_count": 639,
     "metadata": {},
     "output_type": "execute_result"
    }
   ],
   "source": [
    "#Importing metrics module to calculate accuracy of the final predicted values\n",
    "from sklearn import metrics\n",
    "metrics.accuracy_score(y_pred_final.churn, y_pred_final.predicted)\n",
    "\n",
    "#We have achieved 80% of accuracy using selected model."
   ]
  },
  {
   "cell_type": "code",
   "execution_count": 640,
   "metadata": {},
   "outputs": [
    {
     "data": {
      "image/png": "[encoded data removed]",
      "text/plain": [
       "<Figure size 432x288 with 1 Axes>"
      ]
     },
     "metadata": {},
     "output_type": "display_data"
    },
    {
     "name": "stdout",
     "output_type": "stream",
     "text": [
      "0.8571059669535007\n"
     ]
    }
   ],
   "source": [
    "auc_test=draw_roc_curve( y_pred_final.churn, y_pred_final.Churn_Prob )\n",
    "print(auc_test)"
   ]
  },
  {
   "cell_type": "code",
   "execution_count": 641,
   "metadata": {
    "scrolled": true
   },
   "outputs": [
    {
     "data": {
      "image/png": "[encoded data removed]",
      "text/plain": [
       "<Figure size 432x288 with 2 Axes>"
      ]
     },
     "metadata": {},
     "output_type": "display_data"
    }
   ],
   "source": [
    "# Confusion matrix \n",
    "confusion=plotconfusionmatrix( y_pred_final.churn, y_pred_final.predicted )"
   ]
  },
  {
   "cell_type": "code",
   "execution_count": 642,
   "metadata": {
    "scrolled": true
   },
   "outputs": [
    {
     "name": "stdout",
     "output_type": "stream",
     "text": [
      "             precision    recall  f1-score   support\n",
      "\n",
      "          0       0.98      0.69      0.81      8251\n",
      "          1       0.20      0.85      0.32       750\n",
      "\n",
      "avg / total       0.92      0.70      0.77      9001\n",
      "\n"
     ]
    }
   ],
   "source": [
    "print(classification_report(y_pred_final.churn,y_pred_final.predicted))"
   ]
  },
  {
   "cell_type": "code",
   "execution_count": 643,
   "metadata": {},
   "outputs": [
    {
     "name": "stdout",
     "output_type": "stream",
     "text": [
      "Accuracy_score: 70.19% on test dataset\n",
      "precision_score: 19.92% on test dataset\n",
      "recall_score: 85.33% on test dataset\n",
      "f1_score: 32.30% on test dataset\n"
     ]
    }
   ],
   "source": [
    "getMetrics(y_pred_final.churn,y_pred_final.predicted)"
   ]
  },
  {
   "cell_type": "code",
   "execution_count": 644,
   "metadata": {},
   "outputs": [],
   "source": [
    "#Implementing RFE for feature selection using logictic model\n",
    "from sklearn.linear_model import LogisticRegression\n",
    "logreg = LogisticRegression(class_weight=\"balanced\")"
   ]
  },
  {
   "cell_type": "code",
   "execution_count": 645,
   "metadata": {},
   "outputs": [],
   "source": [
    "from sklearn.feature_selection import RFE\n",
    "rfe = RFE(logreg, 20)             # running RFE with 13 variables as output\n",
    "rfe = rfe.fit(X_train, y_train)"
   ]
  },
  {
   "cell_type": "code",
   "execution_count": 646,
   "metadata": {},
   "outputs": [
    {
     "data": {
      "text/plain": [
       "array([False, False, False, False, False, False, False, False, False,\n",
       "       False, False, False, False, False, False, False, False, False,\n",
       "       False, False, False, False, False, False, False, False,  True,\n",
       "       False, False, False, False, False, False, False, False, False,\n",
       "       False,  True,  True, False, False, False, False, False, False,\n",
       "       False, False,  True,  True,  True, False, False, False, False,\n",
       "       False, False, False, False, False, False, False, False, False,\n",
       "       False, False, False, False, False, False, False, False, False,\n",
       "       False, False, False, False, False, False, False, False, False,\n",
       "        True, False,  True, False, False, False, False, False, False,\n",
       "        True,  True,  True, False, False, False, False, False, False,\n",
       "       False, False, False, False, False, False, False, False, False,\n",
       "       False, False, False, False, False,  True,  True, False, False,\n",
       "        True,  True, False,  True,  True,  True,  True, False, False,\n",
       "       False, False,  True, False, False, False])"
      ]
     },
     "execution_count": 646,
     "metadata": {},
     "output_type": "execute_result"
    }
   ],
   "source": [
    "rfe.support_"
   ]
  },
  {
   "cell_type": "markdown",
   "metadata": {},
   "source": [
    "<b> XG BOOST </b>"
   ]
  },
  {
   "cell_type": "code",
   "execution_count": 647,
   "metadata": {},
   "outputs": [
    {
     "name": "stdout",
     "output_type": "stream",
     "text": [
      "Fitting 5 folds for each of 8 candidates, totalling 40 fits\n"
     ]
    },
    {
     "name": "stderr",
     "output_type": "stream",
     "text": [
      "[Parallel(n_jobs=1)]: Done  40 out of  40 | elapsed: 90.3min finished\n"
     ]
    }
   ],
   "source": [
    "import xgboost as xgb\n",
    "\n",
    "depth=[3,5,7,9]\n",
    "learning_rate=[0.01,0.05,0.1,0.3,0.5]\n",
    "parameters = {'max_depth':depth,'learning_rate':learning_rate}\n",
    "model_GB = xgb.XGBClassifier(random_state=0)\n",
    "\n",
    "cv_results_GB=ApplyGridSearchCV(model_GB,params)"
   ]
  },
  {
   "cell_type": "code",
   "execution_count": 648,
   "metadata": {},
   "outputs": [
    {
     "data": {
      "text/html": [
       "<div>\n",
       "<style scoped>\n",
       "    .dataframe tbody tr th:only-of-type {\n",
       "        vertical-align: middle;\n",
       "    }\n",
       "\n",
       "    .dataframe tbody tr th {\n",
       "        vertical-align: top;\n",
       "    }\n",
       "\n",
       "    .dataframe thead th {\n",
       "        text-align: right;\n",
       "    }\n",
       "</style>\n",
       "<table border=\"1\" class=\"dataframe\">\n",
       "  <thead>\n",
       "    <tr style=\"text-align: right;\">\n",
       "      <th></th>\n",
       "      <th>mean_fit_time</th>\n",
       "      <th>std_fit_time</th>\n",
       "      <th>mean_score_time</th>\n",
       "      <th>std_score_time</th>\n",
       "      <th>param_max_depth</th>\n",
       "      <th>param_n_estimators</th>\n",
       "      <th>params</th>\n",
       "      <th>split0_test_score</th>\n",
       "      <th>split1_test_score</th>\n",
       "      <th>split2_test_score</th>\n",
       "      <th>...</th>\n",
       "      <th>mean_test_score</th>\n",
       "      <th>std_test_score</th>\n",
       "      <th>rank_test_score</th>\n",
       "      <th>split0_train_score</th>\n",
       "      <th>split1_train_score</th>\n",
       "      <th>split2_train_score</th>\n",
       "      <th>split3_train_score</th>\n",
       "      <th>split4_train_score</th>\n",
       "      <th>mean_train_score</th>\n",
       "      <th>std_train_score</th>\n",
       "    </tr>\n",
       "  </thead>\n",
       "  <tbody>\n",
       "    <tr>\n",
       "      <th>1</th>\n",
       "      <td>11.077427</td>\n",
       "      <td>1.597349</td>\n",
       "      <td>0.054855</td>\n",
       "      <td>0.011209</td>\n",
       "      <td>5</td>\n",
       "      <td>200</td>\n",
       "      <td>{'max_depth': 5, 'n_estimators': 200}</td>\n",
       "      <td>0.230548</td>\n",
       "      <td>0.278287</td>\n",
       "      <td>0.267081</td>\n",
       "      <td>...</td>\n",
       "      <td>0.253426</td>\n",
       "      <td>0.020782</td>\n",
       "      <td>1</td>\n",
       "      <td>0.655506</td>\n",
       "      <td>0.671554</td>\n",
       "      <td>0.65011</td>\n",
       "      <td>0.668869</td>\n",
       "      <td>0.672453</td>\n",
       "      <td>0.663698</td>\n",
       "      <td>0.009131</td>\n",
       "    </tr>\n",
       "  </tbody>\n",
       "</table>\n",
       "<p>1 rows × 22 columns</p>\n",
       "</div>"
      ],
      "text/plain": [
       "   mean_fit_time  std_fit_time  mean_score_time  std_score_time  \\\n",
       "1      11.077427      1.597349         0.054855        0.011209   \n",
       "\n",
       "  param_max_depth param_n_estimators                                 params  \\\n",
       "1               5                200  {'max_depth': 5, 'n_estimators': 200}   \n",
       "\n",
       "   split0_test_score  split1_test_score  split2_test_score       ...         \\\n",
       "1           0.230548           0.278287           0.267081       ...          \n",
       "\n",
       "   mean_test_score  std_test_score  rank_test_score  split0_train_score  \\\n",
       "1         0.253426        0.020782                1            0.655506   \n",
       "\n",
       "   split1_train_score  split2_train_score  split3_train_score  \\\n",
       "1            0.671554             0.65011            0.668869   \n",
       "\n",
       "   split4_train_score  mean_train_score  std_train_score  \n",
       "1            0.672453          0.663698         0.009131  \n",
       "\n",
       "[1 rows x 22 columns]"
      ]
     },
     "execution_count": 648,
     "metadata": {},
     "output_type": "execute_result"
    }
   ],
   "source": [
    "cv_results_GB[cv_results_LR['rank_test_score']==1]"
   ]
  },
  {
   "cell_type": "code",
   "execution_count": 649,
   "metadata": {},
   "outputs": [],
   "source": [
    "model_GB = xgb.XGBClassifier(random_state=0,max_depth=5,learning_rate=200)\n",
    "model_pca_GB = learner_pca_RF.fit(df_train_pca,y_train)"
   ]
  },
  {
   "cell_type": "code",
   "execution_count": 650,
   "metadata": {},
   "outputs": [
    {
     "data": {
      "text/plain": [
       "'0.86'"
      ]
     },
     "execution_count": 650,
     "metadata": {},
     "output_type": "execute_result"
    }
   ],
   "source": [
    "#Making prediction on the test data\n",
    "pred_probs_test = model_pca_GB.predict_proba(df_test_pca)[:,1]\n",
    "\"{:2.2}\".format(metrics.roc_auc_score(y_test, pred_probs_test))\n",
    "\n",
    "#With 20 selected principal components and Random Forest model we have achieved 87% of accuracy "
   ]
  },
  {
   "cell_type": "code",
   "execution_count": 651,
   "metadata": {},
   "outputs": [],
   "source": [
    "# Predicted probabilities of conversion on test data set\n",
    "y_pred=model_pca_GB.predict_proba(df_test_pca)\n",
    "# Converting it into dataframe\n",
    "y_pred_df=pd.DataFrame(y_pred)\n",
    "# Converting to column dataframe\n",
    "y_pred_1=y_pred_df.iloc[:,[1]]\n",
    "\n",
    "y_test_df = pd.DataFrame(y_test)"
   ]
  },
  {
   "cell_type": "code",
   "execution_count": 652,
   "metadata": {},
   "outputs": [
    {
     "data": {
      "text/html": [
       "<div>\n",
       "<style scoped>\n",
       "    .dataframe tbody tr th:only-of-type {\n",
       "        vertical-align: middle;\n",
       "    }\n",
       "\n",
       "    .dataframe tbody tr th {\n",
       "        vertical-align: top;\n",
       "    }\n",
       "\n",
       "    .dataframe thead th {\n",
       "        text-align: right;\n",
       "    }\n",
       "</style>\n",
       "<table border=\"1\" class=\"dataframe\">\n",
       "  <thead>\n",
       "    <tr style=\"text-align: right;\">\n",
       "      <th></th>\n",
       "      <th>CustID</th>\n",
       "      <th>churn</th>\n",
       "      <th>Churn_Prob</th>\n",
       "    </tr>\n",
       "  </thead>\n",
       "  <tbody>\n",
       "    <tr>\n",
       "      <th>0</th>\n",
       "      <td>20296</td>\n",
       "      <td>1</td>\n",
       "      <td>0.504074</td>\n",
       "    </tr>\n",
       "    <tr>\n",
       "      <th>1</th>\n",
       "      <td>8279</td>\n",
       "      <td>1</td>\n",
       "      <td>0.471057</td>\n",
       "    </tr>\n",
       "    <tr>\n",
       "      <th>2</th>\n",
       "      <td>72269</td>\n",
       "      <td>0</td>\n",
       "      <td>0.281099</td>\n",
       "    </tr>\n",
       "    <tr>\n",
       "      <th>3</th>\n",
       "      <td>65602</td>\n",
       "      <td>0</td>\n",
       "      <td>0.222914</td>\n",
       "    </tr>\n",
       "    <tr>\n",
       "      <th>4</th>\n",
       "      <td>42758</td>\n",
       "      <td>1</td>\n",
       "      <td>0.537244</td>\n",
       "    </tr>\n",
       "  </tbody>\n",
       "</table>\n",
       "</div>"
      ],
      "text/plain": [
       "   CustID  churn  Churn_Prob\n",
       "0   20296      1    0.504074\n",
       "1    8279      1    0.471057\n",
       "2   72269      0    0.281099\n",
       "3   65602      0    0.222914\n",
       "4   42758      1    0.537244"
      ]
     },
     "execution_count": 652,
     "metadata": {},
     "output_type": "execute_result"
    }
   ],
   "source": [
    "# Putting CustID to index to final output variable data set\n",
    "y_test_df['CustID'] = y_test_df.index\n",
    "# Removing index for both dataframes to append them side by side \n",
    "y_pred_1.reset_index(drop=True, inplace=True)\n",
    "y_test_df.reset_index(drop=True, inplace=True)\n",
    "# Appending y_test_df and y_pred_1\n",
    "y_pred_final = pd.concat([y_test_df,y_pred_1],axis=1)\n",
    "# Renaming the column \n",
    "y_pred_final= y_pred_final.rename(columns={ 1 : 'Churn_Prob'})\n",
    "# Rearranging the columns\n",
    "y_pred_final = y_pred_final.reindex_axis(['CustID','churn','Churn_Prob'], axis=1)\n",
    "# Let's see the head of y_pred_final\n",
    "y_pred_final.head()"
   ]
  },
  {
   "cell_type": "code",
   "execution_count": 653,
   "metadata": {},
   "outputs": [
    {
     "data": {
      "text/html": [
       "<div>\n",
       "<style scoped>\n",
       "    .dataframe tbody tr th:only-of-type {\n",
       "        vertical-align: middle;\n",
       "    }\n",
       "\n",
       "    .dataframe tbody tr th {\n",
       "        vertical-align: top;\n",
       "    }\n",
       "\n",
       "    .dataframe thead th {\n",
       "        text-align: right;\n",
       "    }\n",
       "</style>\n",
       "<table border=\"1\" class=\"dataframe\">\n",
       "  <thead>\n",
       "    <tr style=\"text-align: right;\">\n",
       "      <th></th>\n",
       "      <th>CustID</th>\n",
       "      <th>churn</th>\n",
       "      <th>Churn_Prob</th>\n",
       "      <th>predicted</th>\n",
       "    </tr>\n",
       "  </thead>\n",
       "  <tbody>\n",
       "    <tr>\n",
       "      <th>0</th>\n",
       "      <td>20296</td>\n",
       "      <td>1</td>\n",
       "      <td>0.504074</td>\n",
       "      <td>1</td>\n",
       "    </tr>\n",
       "    <tr>\n",
       "      <th>1</th>\n",
       "      <td>8279</td>\n",
       "      <td>1</td>\n",
       "      <td>0.471057</td>\n",
       "      <td>1</td>\n",
       "    </tr>\n",
       "    <tr>\n",
       "      <th>2</th>\n",
       "      <td>72269</td>\n",
       "      <td>0</td>\n",
       "      <td>0.281099</td>\n",
       "      <td>0</td>\n",
       "    </tr>\n",
       "    <tr>\n",
       "      <th>3</th>\n",
       "      <td>65602</td>\n",
       "      <td>0</td>\n",
       "      <td>0.222914</td>\n",
       "      <td>0</td>\n",
       "    </tr>\n",
       "    <tr>\n",
       "      <th>4</th>\n",
       "      <td>42758</td>\n",
       "      <td>1</td>\n",
       "      <td>0.537244</td>\n",
       "      <td>1</td>\n",
       "    </tr>\n",
       "  </tbody>\n",
       "</table>\n",
       "</div>"
      ],
      "text/plain": [
       "   CustID  churn  Churn_Prob  predicted\n",
       "0   20296      1    0.504074          1\n",
       "1    8279      1    0.471057          1\n",
       "2   72269      0    0.281099          0\n",
       "3   65602      0    0.222914          0\n",
       "4   42758      1    0.537244          1"
      ]
     },
     "execution_count": 653,
     "metadata": {},
     "output_type": "execute_result"
    }
   ],
   "source": [
    "# Creating new column 'predicted' with 1 if Churn_Prob>0.5 else 0\n",
    "y_pred_final['predicted'] = y_pred_final.Churn_Prob.map( lambda x: 1 if x > 0.4 else 0)\n",
    "# Let's see the head\n",
    "y_pred_final.head()\n",
    "\n",
    "#We have chosen probability cutoff as 0.5 i.e if probability >0.5 then potential lead is likely to churn  else not"
   ]
  },
  {
   "cell_type": "code",
   "execution_count": 654,
   "metadata": {},
   "outputs": [
    {
     "data": {
      "image/png": "[encoded data removed]",
      "text/plain": [
       "<Figure size 432x288 with 1 Axes>"
      ]
     },
     "metadata": {},
     "output_type": "display_data"
    },
    {
     "name": "stdout",
     "output_type": "stream",
     "text": [
      "0.8574285137155091\n"
     ]
    }
   ],
   "source": [
    "auc_test=draw_roc_curve( y_pred_final.churn, y_pred_final.Churn_Prob )\n",
    "print(auc_test)"
   ]
  },
  {
   "cell_type": "code",
   "execution_count": 655,
   "metadata": {
    "scrolled": true
   },
   "outputs": [
    {
     "data": {
      "image/png": "[encoded data removed]",
      "text/plain": [
       "<Figure size 432x288 with 2 Axes>"
      ]
     },
     "metadata": {},
     "output_type": "display_data"
    }
   ],
   "source": [
    "# Confusion matrix \n",
    "confusion=plotconfusionmatrix( y_pred_final.churn, y_pred_final.predicted )"
   ]
  },
  {
   "cell_type": "code",
   "execution_count": 656,
   "metadata": {
    "scrolled": true
   },
   "outputs": [
    {
     "name": "stdout",
     "output_type": "stream",
     "text": [
      "             precision    recall  f1-score   support\n",
      "\n",
      "          0       0.98      0.69      0.81      8251\n",
      "          1       0.20      0.85      0.32       750\n",
      "\n",
      "avg / total       0.92      0.70      0.77      9001\n",
      "\n"
     ]
    }
   ],
   "source": [
    "print(classification_report(y_pred_final.churn,y_pred_final.predicted))"
   ]
  },
  {
   "cell_type": "code",
   "execution_count": 657,
   "metadata": {},
   "outputs": [
    {
     "name": "stdout",
     "output_type": "stream",
     "text": [
      "Accuracy_score: 70.37% on test dataset\n",
      "precision_score: 20.00% on test dataset\n",
      "recall_score: 85.20% on test dataset\n",
      "f1_score: 32.40% on test dataset\n"
     ]
    }
   ],
   "source": [
    "getMetrics(y_pred_final.churn,y_pred_final.predicted)"
   ]
  },
  {
   "cell_type": "code",
   "execution_count": null,
   "metadata": {},
   "outputs": [],
   "source": []
  },
  {
   "cell_type": "code",
   "execution_count": null,
   "metadata": {},
   "outputs": [],
   "source": []
  }
 ],
 "metadata": {
  "kernelspec": {
   "display_name": "Python 3",
   "language": "python",
   "name": "python3"
  },
  "language_info": {
   "codemirror_mode": {
    "name": "ipython",
    "version": 3
   },
   "file_extension": ".py",
   "mimetype": "text/x-python",
   "name": "python",
   "nbconvert_exporter": "python",
   "pygments_lexer": "ipython3",
   "version": "3.6.5"
  },
  "varInspector": {
   "cols": {
    "lenName": 16,
    "lenType": 16,
    "lenVar": 40
   },
   "kernels_config": {
    "python": {
     "delete_cmd_postfix": "",
     "delete_cmd_prefix": "del ",
     "library": "var_list.py",
     "varRefreshCmd": "print(var_dic_list())"
    },
    "r": {
     "delete_cmd_postfix": ") ",
     "delete_cmd_prefix": "rm(",
     "library": "var_list.r",
     "varRefreshCmd": "cat(var_dic_list()) "
    }
   },
   "types_to_exclude": [
    "module",
    "function",
    "builtin_function_or_method",
    "instance",
    "_Feature"
   ],
   "window_display": false
  }
 },
 "nbformat": 4,
 "nbformat_minor": 2
}
